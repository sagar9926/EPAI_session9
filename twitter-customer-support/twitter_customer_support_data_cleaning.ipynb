{
  "nbformat": 4,
  "nbformat_minor": 0,
  "metadata": {
    "colab": {
      "name": "twitter-customer-support_data_cleaning.ipynb",
      "provenance": [],
      "authorship_tag": "ABX9TyOZRgoKD/h3MrLCsfSzhETd",
      "include_colab_link": true
    },
    "kernelspec": {
      "name": "python3",
      "display_name": "Python 3"
    }
  },
  "cells": [
    {
      "cell_type": "markdown",
      "metadata": {
        "id": "view-in-github",
        "colab_type": "text"
      },
      "source": [
        "<a href=\"https://colab.research.google.com/github/sagar9926/EPAI_session9/blob/main/twitter-customer-support/twitter_customer_support_data_cleaning.ipynb\" target=\"_parent\"><img src=\"https://colab.research.google.com/assets/colab-badge.svg\" alt=\"Open In Colab\"/></a>"
      ]
    },
    {
      "cell_type": "code",
      "metadata": {
        "id": "8u5KG9LMuKLc"
      },
      "source": [
        "#Importing all required packages\r\n",
        "\r\n",
        "import pandas as pd\r\n",
        "from nltk.tokenize import word_tokenize\r\n",
        "from sklearn import linear_model\r\n",
        "from sklearn import metrics\r\n",
        "from sklearn import model_selection\r\n",
        "from sklearn.feature_extraction.text import CountVectorizer\r\n",
        "\r\n",
        "! pip install -q kaggle\r\n",
        "\r\n",
        "! mkdir ~/.kaggle"
      ],
      "execution_count": 1,
      "outputs": []
    },
    {
      "cell_type": "code",
      "metadata": {
        "id": "R-HMxzymuUl0"
      },
      "source": [
        "with open('kaggle.json', 'w') as file :\r\n",
        "  file.write('{\"username\":\"sagaragrawal\",\"key\":\"66052d202b185535c38dd21805de1a5d\"}')"
      ],
      "execution_count": 2,
      "outputs": []
    },
    {
      "cell_type": "code",
      "metadata": {
        "id": "xjTI8G3du_av"
      },
      "source": [
        "! cp kaggle.json ~/.kaggle/"
      ],
      "execution_count": 3,
      "outputs": []
    },
    {
      "cell_type": "code",
      "metadata": {
        "id": "xuJlMsCwvIjA"
      },
      "source": [
        "! chmod 600 ~/.kaggle/kaggle.json"
      ],
      "execution_count": 4,
      "outputs": []
    },
    {
      "cell_type": "code",
      "metadata": {
        "colab": {
          "base_uri": "https://localhost:8080/"
        },
        "id": "InsAZlBEvN7j",
        "outputId": "3f3bb981-7461-4823-f13a-931a175d871a"
      },
      "source": [
        "! kaggle datasets download -d thoughtvector/customer-support-on-twitter"
      ],
      "execution_count": 5,
      "outputs": [
        {
          "output_type": "stream",
          "text": [
            "Downloading customer-support-on-twitter.zip to /content\n",
            "100% 169M/169M [00:01<00:00, 112MB/s]\n",
            "\n"
          ],
          "name": "stdout"
        }
      ]
    },
    {
      "cell_type": "code",
      "metadata": {
        "colab": {
          "base_uri": "https://localhost:8080/"
        },
        "id": "MfWrc1iLvjgu",
        "outputId": "b07049b9-7862-4147-d2e0-390d629d4f80"
      },
      "source": [
        "!mkdir data\r\n",
        "\r\n",
        "!cp /content/customer-support-on-twitter.zip /content/data"
      ],
      "execution_count": 7,
      "outputs": [
        {
          "output_type": "stream",
          "text": [
            "Archive:  /content/data/customer-support-on-twitter.zip\n",
            "  inflating: sample.csv              \n",
            "  inflating: twcs/twcs.csv           \n"
          ],
          "name": "stdout"
        }
      ]
    },
    {
      "cell_type": "code",
      "metadata": {
        "colab": {
          "base_uri": "https://localhost:8080/"
        },
        "id": "fVf3gO67wCP4",
        "outputId": "222e2436-0404-4b4c-aee3-b24fbb0389e1"
      },
      "source": [
        "!unzip /content/data/customer-support-on-twitter.zip"
      ],
      "execution_count": 8,
      "outputs": [
        {
          "output_type": "stream",
          "text": [
            "Archive:  /content/data/customer-support-on-twitter.zip\n",
            "replace sample.csv? [y]es, [n]o, [A]ll, [N]one, [r]ename: y\n",
            "  inflating: sample.csv              \n",
            "replace twcs/twcs.csv? [y]es, [n]o, [A]ll, [N]one, [r]ename: y\n",
            "  inflating: twcs/twcs.csv           \n"
          ],
          "name": "stdout"
        }
      ]
    },
    {
      "cell_type": "code",
      "metadata": {
        "colab": {
          "base_uri": "https://localhost:8080/",
          "height": 347
        },
        "id": "LpxVDoNXwVVi",
        "outputId": "2d2e9105-195a-4906-e8d8-e6592c0d4361"
      },
      "source": [
        "import numpy as np # linear algebra\r\n",
        "import pandas as pd # data processing, CSV file I/O (e.g. pd.read_csv)\r\n",
        "\r\n",
        "\r\n",
        "df = pd.read_csv('/content/twcs/twcs.csv',  \r\n",
        "                 usecols=[\r\n",
        "                     'author_id', \r\n",
        "                     'inbound', \r\n",
        "                     'text', \r\n",
        "                     'in_response_to_tweet_id'],\r\n",
        "                 dtype={\r\n",
        "                     'author_id': str,\r\n",
        "                     'inbound': np.bool_,\r\n",
        "                     'text': str,\r\n",
        "                     'in_response_to_tweet_id': pd.Int64Dtype()\r\n",
        "                 })\r\n",
        "df.head(10)"
      ],
      "execution_count": 10,
      "outputs": [
        {
          "output_type": "execute_result",
          "data": {
            "text/html": [
              "<div>\n",
              "<style scoped>\n",
              "    .dataframe tbody tr th:only-of-type {\n",
              "        vertical-align: middle;\n",
              "    }\n",
              "\n",
              "    .dataframe tbody tr th {\n",
              "        vertical-align: top;\n",
              "    }\n",
              "\n",
              "    .dataframe thead th {\n",
              "        text-align: right;\n",
              "    }\n",
              "</style>\n",
              "<table border=\"1\" class=\"dataframe\">\n",
              "  <thead>\n",
              "    <tr style=\"text-align: right;\">\n",
              "      <th></th>\n",
              "      <th>author_id</th>\n",
              "      <th>inbound</th>\n",
              "      <th>text</th>\n",
              "      <th>in_response_to_tweet_id</th>\n",
              "    </tr>\n",
              "  </thead>\n",
              "  <tbody>\n",
              "    <tr>\n",
              "      <th>0</th>\n",
              "      <td>sprintcare</td>\n",
              "      <td>False</td>\n",
              "      <td>@115712 I understand. I would like to assist y...</td>\n",
              "      <td>3</td>\n",
              "    </tr>\n",
              "    <tr>\n",
              "      <th>1</th>\n",
              "      <td>115712</td>\n",
              "      <td>True</td>\n",
              "      <td>@sprintcare and how do you propose we do that</td>\n",
              "      <td>1</td>\n",
              "    </tr>\n",
              "    <tr>\n",
              "      <th>2</th>\n",
              "      <td>115712</td>\n",
              "      <td>True</td>\n",
              "      <td>@sprintcare I have sent several private messag...</td>\n",
              "      <td>4</td>\n",
              "    </tr>\n",
              "    <tr>\n",
              "      <th>3</th>\n",
              "      <td>sprintcare</td>\n",
              "      <td>False</td>\n",
              "      <td>@115712 Please send us a Private Message so th...</td>\n",
              "      <td>5</td>\n",
              "    </tr>\n",
              "    <tr>\n",
              "      <th>4</th>\n",
              "      <td>115712</td>\n",
              "      <td>True</td>\n",
              "      <td>@sprintcare I did.</td>\n",
              "      <td>6</td>\n",
              "    </tr>\n",
              "    <tr>\n",
              "      <th>5</th>\n",
              "      <td>sprintcare</td>\n",
              "      <td>False</td>\n",
              "      <td>@115712 Can you please send us a private messa...</td>\n",
              "      <td>8</td>\n",
              "    </tr>\n",
              "    <tr>\n",
              "      <th>6</th>\n",
              "      <td>115712</td>\n",
              "      <td>True</td>\n",
              "      <td>@sprintcare is the worst customer service</td>\n",
              "      <td>&lt;NA&gt;</td>\n",
              "    </tr>\n",
              "    <tr>\n",
              "      <th>7</th>\n",
              "      <td>sprintcare</td>\n",
              "      <td>False</td>\n",
              "      <td>@115713 This is saddening to hear. Please shoo...</td>\n",
              "      <td>12</td>\n",
              "    </tr>\n",
              "    <tr>\n",
              "      <th>8</th>\n",
              "      <td>115713</td>\n",
              "      <td>True</td>\n",
              "      <td>@sprintcare You gonna magically change your co...</td>\n",
              "      <td>15</td>\n",
              "    </tr>\n",
              "    <tr>\n",
              "      <th>9</th>\n",
              "      <td>sprintcare</td>\n",
              "      <td>False</td>\n",
              "      <td>@115713 We understand your concerns and we'd l...</td>\n",
              "      <td>16</td>\n",
              "    </tr>\n",
              "  </tbody>\n",
              "</table>\n",
              "</div>"
            ],
            "text/plain": [
              "    author_id  ...  in_response_to_tweet_id\n",
              "0  sprintcare  ...                        3\n",
              "1      115712  ...                        1\n",
              "2      115712  ...                        4\n",
              "3  sprintcare  ...                        5\n",
              "4      115712  ...                        6\n",
              "5  sprintcare  ...                        8\n",
              "6      115712  ...                     <NA>\n",
              "7  sprintcare  ...                       12\n",
              "8      115713  ...                       15\n",
              "9  sprintcare  ...                       16\n",
              "\n",
              "[10 rows x 4 columns]"
            ]
          },
          "metadata": {
            "tags": []
          },
          "execution_count": 10
        }
      ]
    },
    {
      "cell_type": "code",
      "metadata": {
        "id": "XAifhvs1wrPb"
      },
      "source": [
        "start_discussion_indices = df.index[df['in_response_to_tweet_id'].isna()].tolist()\r\n",
        "\r\n",
        "conversations = []\r\n",
        "last_end_of_conversation = 0\r\n",
        "\r\n",
        "# Split the dataframe at every indices in the start_discussion_indices\r\n",
        "for index in start_discussion_indices:\r\n",
        "    conversations.append(df[last_end_of_conversation : index + 1].drop('in_response_to_tweet_id', axis=1)) # Don't need the in response to tweet id column anymore\r\n",
        "    last_end_of_conversation = index + 1\r\n"
      ],
      "execution_count": 11,
      "outputs": []
    },
    {
      "cell_type": "code",
      "metadata": {
        "id": "cQITCSGvw42S"
      },
      "source": [
        "for conversation in conversations:\r\n",
        "    lastInbound = None\r\n",
        "    rows_to_remove = []\r\n",
        "    messages_to_append = {}\r\n",
        "    for index, row in conversation.iterrows():\r\n",
        "        inbound = row['inbound']\r\n",
        "        message = row['text']\r\n",
        "        \r\n",
        "        # Two concecutive messages from the same person\r\n",
        "        if lastInbound is not None and (lastInbound == inbound):\r\n",
        "            # Remove this row \r\n",
        "            rows_to_remove.append(index)\r\n",
        "            if not index - 1 in messages_to_append.keys():\r\n",
        "                messages_to_append[index - 1] = []\r\n",
        "                \r\n",
        "            messages_to_append[index - 1].append(message)\r\n",
        "            pass\r\n",
        "\r\n",
        "        lastInbound = inbound\r\n",
        "        \r\n",
        "\r\n",
        "    for index, message_to_add in messages_to_append.items():\r\n",
        "        conversation.at[index, 'text'] = conversation.loc[index]['text'] + '. ' + message_to_add[0]\r\n",
        "        \r\n",
        "    conversation.drop(rows_to_remove, axis=0, inplace=True)"
      ],
      "execution_count": 12,
      "outputs": []
    },
    {
      "cell_type": "code",
      "metadata": {
        "colab": {
          "base_uri": "https://localhost:8080/"
        },
        "id": "5I6mvbop29px",
        "outputId": "8c00ea0b-84fa-434d-a962-0d326de386d1"
      },
      "source": [
        "!pip install langdetect"
      ],
      "execution_count": 14,
      "outputs": [
        {
          "output_type": "stream",
          "text": [
            "y\n",
            "Collecting langdetect\n",
            "\u001b[?25l  Downloading https://files.pythonhosted.org/packages/56/a3/8407c1e62d5980188b4acc45ef3d94b933d14a2ebc9ef3505f22cf772570/langdetect-1.0.8.tar.gz (981kB)\n",
            "\u001b[K     |████████████████████████████████| 983kB 7.0MB/s \n",
            "\u001b[?25hRequirement already satisfied: six in /usr/local/lib/python3.6/dist-packages (from langdetect) (1.15.0)\n",
            "Building wheels for collected packages: langdetect\n",
            "  Building wheel for langdetect (setup.py) ... \u001b[?25l\u001b[?25hdone\n",
            "  Created wheel for langdetect: filename=langdetect-1.0.8-cp36-none-any.whl size=993194 sha256=665734ac55e6d39c856d04d56c226681209a323af39d425bae7dc8a23881c56f\n",
            "  Stored in directory: /root/.cache/pip/wheels/8d/b3/aa/6d99de9f3841d7d3d40a60ea06e6d669e8e5012e6c8b947a57\n",
            "Successfully built langdetect\n",
            "Installing collected packages: langdetect\n",
            "Successfully installed langdetect-1.0.8\n"
          ],
          "name": "stdout"
        }
      ]
    },
    {
      "cell_type": "code",
      "metadata": {
        "id": "x5qXk5bOw7B7"
      },
      "source": [
        "import re\r\n",
        "import string\r\n",
        "from langdetect import detect\r\n",
        "\r\n",
        "tagging_regex = re.compile(r\"@\\S*\")\r\n",
        "url_pattern = re.compile(r'https?://\\S+|www\\.\\S+')\r\n",
        "signature_pattern = re.compile(r\"-\\S*\")\r\n",
        "weird_thing_pattern = re.compile(r\"\\^\\S*\")\r\n",
        "new_line_pattern = re.compile(r\"\\n+\\S*\")\r\n",
        "\r\n",
        "chat_words = {\r\n",
        "    \"AFAIK\": \"As Far As I Know\",\r\n",
        "    \"AFK\": \"Away From Keyboard\",\r\n",
        "    \"ASAP\": \"As Soon As Possible\",\r\n",
        "    \"ATK\": \"At The Keyboard\",\r\n",
        "    \"ATM\": \"At The Moment\",\r\n",
        "    \"A3\": \"Anytime, Anywhere, Anyplace\",\r\n",
        "    \"BAK\": \"Back At Keyboard\",\r\n",
        "    \"BBL\": \"Be Back Later\",\r\n",
        "    \"BBS\": \"Be Back Soon\",\r\n",
        "    \"BFN\": \"Bye For Now\",\r\n",
        "    \"B4N\": \"Bye For Now\",\r\n",
        "    \"BRB\": \"Be Right Back\",\r\n",
        "    \"BRT\": \"Be Right There\",\r\n",
        "    \"BTW\": \"By The Way\",\r\n",
        "    \"B4\": \"Before\",\r\n",
        "    \"B4N\": \"Bye For Now\",\r\n",
        "    \"CU\": \"See You\",\r\n",
        "    \"CUL8R\": \"See You Later\",\r\n",
        "    \"CYA\": \"See You\",\r\n",
        "    \"FAQ\": \"Frequently Asked Questions\",\r\n",
        "    \"FC\": \"Fingers Crossed\",\r\n",
        "    \"FWIW\": \"For What It's Worth\",\r\n",
        "    \"FYI\": \"For Your Information\",\r\n",
        "    \"GAL\": \"Get A Life\",\r\n",
        "    \"GG\": \"Good Game\",\r\n",
        "    \"GN\": \"Good Night\",\r\n",
        "    \"GMTA\": \"Great Minds Think Alike\",\r\n",
        "    \"GR8\": \"Great!\",\r\n",
        "    \"G9\": \"Genius\",\r\n",
        "    \"IC\": \"I See\",\r\n",
        "    \"ICQ\": \"I Seek you (also a chat program)\",\r\n",
        "    \"ILU\": \"ILU: I Love You\",\r\n",
        "    \"IMHO\": \"In My Honest/Humble Opinion\",\r\n",
        "    \"IMO\": \"In My Opinion\",\r\n",
        "    \"IOW\": \"In Other Words\",\r\n",
        "    \"IRL\": \"In Real Life\",\r\n",
        "    \"KISS\": \"Keep It Simple, Stupid\",\r\n",
        "    \"LDR\": \"Long Distance Relationship\",\r\n",
        "    \"LMAO\": \"Laugh My A.. Off\",\r\n",
        "    \"LOL\": \"Laughing Out Loud\",\r\n",
        "    \"LTNS\": \"Long Time No See\",\r\n",
        "    \"L8R\": \"Later\",\r\n",
        "    \"MTE\": \"My Thoughts Exactly\",\r\n",
        "    \"M8\": \"Mate\",\r\n",
        "    \"NRN\": \"No Reply Necessary\",\r\n",
        "    \"OIC\": \"Oh I See\",\r\n",
        "    \"PITA\": \"Pain In The A..\",\r\n",
        "    \"PRT\": \"Party\",\r\n",
        "    \"PRW\": \"Parents Are Watching\",\r\n",
        "    \"ROFL\": \"Rolling On The Floor Laughing\",\r\n",
        "    \"ROFLOL\": \"Rolling On The Floor Laughing Out Loud\",\r\n",
        "    \"ROTFLMAO\": \"Rolling On The Floor Laughing My Ass Off\",\r\n",
        "    \"SK8\": \"Skate\",\r\n",
        "    \"STATS\": \"Your sex and age\",\r\n",
        "    \"ASL\": \"Age, Sex, Location\",\r\n",
        "    \"THX\": \"Thank You\",\r\n",
        "    \"TTFN\": \"Ta-Ta For Now!\",\r\n",
        "    \"TTYL\": \"Talk To You Later\",\r\n",
        "    \"U\": \"You\",\r\n",
        "    \"U2\": \"You Too\",\r\n",
        "    \"U4E\": \"Yours For Ever\",\r\n",
        "    \"WB\": \"Welcome Back\",\r\n",
        "    \"WTF\": \"What The F...\",\r\n",
        "    \"WTG\": \"Way To Go!\",\r\n",
        "    \"WUF\": \"Where Are You From?\",\r\n",
        "    \"W8\": \"Wait\",\r\n",
        "    \"IMMA\": \"I am going to\",\r\n",
        "    \"2NITE\": \"tonight\",\r\n",
        "    \"DMED\": \"mesaged\",\r\n",
        "    'DM': \"message\",\r\n",
        "    \"SMH\": \"I am dissapointed\"\r\n",
        "}\r\n",
        "\r\n",
        "# Thanks to https://stackoverflow.com/a/43023503/3971619\r\n",
        "contractions = {\r\n",
        "    \"ain't\": \"are not\",\r\n",
        "    \"aren't\": \"are not\",\r\n",
        "    \"can't\": \"cannot\",\r\n",
        "    \"can't've\": \"cannot have\",\r\n",
        "    \"'cause\": \"because\",\r\n",
        "    \"could've\": \"could have\",\r\n",
        "    \"couldn't\": \"could not\",\r\n",
        "    \"couldn't've\": \"could not have\",\r\n",
        "    \"didn't\": \"did not\",\r\n",
        "    \"doesn't\": \"does not\",\r\n",
        "    \"don't\": \"do not\",\r\n",
        "    \"hadn't\": \"had not\",\r\n",
        "    \"hadn't've\": \"had not have\",\r\n",
        "    \"hasn't\": \"has not\",\r\n",
        "    \"haven't\": \"have not\",\r\n",
        "    \"he'd\": \"he would\",\r\n",
        "    \"he'd've\": \"he would have\",\r\n",
        "    \"he'll\": \"he will\",\r\n",
        "    \"he'll've\": \"he shall have / he will have\",\r\n",
        "    \"he's\": \"he is\",\r\n",
        "    \"how'd\": \"how did\",\r\n",
        "    \"how'd'y\": \"how do you\",\r\n",
        "    \"how'll\": \"how will\",\r\n",
        "    \"how's\": \"how is\",\r\n",
        "    \"i'd\": \"I would\",\r\n",
        "    \"i'd've\": \"I would have\",\r\n",
        "    \"i'll\": \"I will\",\r\n",
        "    \"i'll've\": \"I will have\",\r\n",
        "    \"i'm\": \"I am\",\r\n",
        "    \"i've\": \"I have\",\r\n",
        "    \"isn't\": \"is not\",\r\n",
        "    \"it'd\": \"it would\",\r\n",
        "    \"it'd've\": \"it would have\",\r\n",
        "    \"it'll\": \"it will\",\r\n",
        "    \"it'll've\": \"it will have\",\r\n",
        "    \"it's\": \"it is\",\r\n",
        "    \"let's\": \"let us\",\r\n",
        "    \"ma'am\": \"madam\",\r\n",
        "    \"mayn't\": \"may not\",\r\n",
        "    \"might've\": \"might have\",\r\n",
        "    \"mightn't\": \"might not\",\r\n",
        "    \"mightn't've\": \"might not have\",\r\n",
        "    \"must've\": \"must have\",\r\n",
        "    \"mustn't\": \"must not\",\r\n",
        "    \"mustn't've\": \"must not have\",\r\n",
        "    \"needn't\": \"need not\",\r\n",
        "    \"needn't've\": \"need not have\",\r\n",
        "    \"o'clock\": \"of the clock\",\r\n",
        "    \"oughtn't\": \"ought not\",\r\n",
        "    \"oughtn't've\": \"ought not have\",\r\n",
        "    \"shan't\": \"shall not\",\r\n",
        "    \"sha'n't\": \"shall not\",\r\n",
        "    \"shan't've\": \"shall not have\",\r\n",
        "    \"she'd\": \"she would\",\r\n",
        "    \"she'd've\": \"she would have\",\r\n",
        "    \"she'll\": \"she will\",\r\n",
        "    \"she'll've\": \"she will have\",\r\n",
        "    \"she's\": \"she is\",\r\n",
        "    \"should've\": \"should have\",\r\n",
        "    \"shouldn't\": \"should not\",\r\n",
        "    \"shouldn't've\": \"should not have\",\r\n",
        "    \"so've\": \"so have\",\r\n",
        "    \"so's\": \"so is\",\r\n",
        "    \"that'd\": \"that had\",\r\n",
        "    \"that'd've\": \"that would have\",\r\n",
        "    \"that's\": \"that is\",\r\n",
        "    \"there'd\": \"there would\",\r\n",
        "    \"there'd've\": \"there would have\",\r\n",
        "    \"there's\": \"there is\",\r\n",
        "    \"they'd\": \"they would\",\r\n",
        "    \"they'd've\": \"they would have\",\r\n",
        "    \"they'll\": \"they will\",\r\n",
        "    \"they're\": \"they are\",\r\n",
        "    \"they've\": \"they have\",\r\n",
        "    \"to've\": \"to have\",\r\n",
        "    \"wasn't\": \"was not\",\r\n",
        "    \"we'd\": \"we would\",\r\n",
        "    \"we'd've\": \"we would have\",\r\n",
        "    \"we'll\": \"we will\",\r\n",
        "    \"we'll've\": \"we will have\",\r\n",
        "    \"we're\": \"we are\",\r\n",
        "    \"we've\": \"we have\",\r\n",
        "    \"weren't\": \"were not\",\r\n",
        "    \"what'll\": \"what will\",\r\n",
        "    \"what're\": \"what are\",\r\n",
        "    \"what's\": \"what is\",\r\n",
        "    \"what've\": \"what have\",\r\n",
        "    \"when's\": \"when is\",\r\n",
        "    \"when've\": \"when have\",\r\n",
        "    \"where'd\": \"where did\",\r\n",
        "    \"where's\": \"where is\",\r\n",
        "    \"where've\": \"where have\",\r\n",
        "    \"who'll\": \"who will\",\r\n",
        "    \"who's\": \"who is\",\r\n",
        "    \"who've\": \"who have\",\r\n",
        "    \"why's\": \"why is\",\r\n",
        "    \"why've\": \"why have\",\r\n",
        "    \"will've\": \"will have\",\r\n",
        "    \"won't\": \"will not\",\r\n",
        "    \"won't've\": \"will not have\",\r\n",
        "    \"would've\": \"would have\",\r\n",
        "    \"wouldn't\": \"would not\",\r\n",
        "    \"wouldn't've\": \"would not have\",\r\n",
        "    \"y'all\": \"you all\",\r\n",
        "    \"y'all'd\": \"you all would\",\r\n",
        "    \"y'all'd've\": \"you all would have\",\r\n",
        "    \"y'all're\": \"you all are\",\r\n",
        "    \"y'all've\": \"you all have\",\r\n",
        "    \"you'll\": \"you will\",\r\n",
        "    \"you're\": \"you are\",\r\n",
        "    \"you've\": \"you have\",\r\n",
        "}\r\n",
        "\r\n",
        "# Reference : https://stackoverflow.com/a/49986645/3971619\r\n",
        "def remove_emoji(inputString):\r\n",
        "    return inputString.encode('ascii', 'ignore').decode('ascii')\r\n",
        "\r\n",
        "# Thanks to user sudalairajkumar\r\n",
        "def remove_url(string):\r\n",
        "    return url_pattern.sub(r'', string)\r\n",
        "\r\n",
        "def remove_chat_words_and_contractions(string):\r\n",
        "    new_text = []\r\n",
        "    for word in string.split(' '):\r\n",
        "        if word.upper() in chat_words.keys():\r\n",
        "            new_text += chat_words[word.upper()].lower().split(' ')\r\n",
        "        if word.lower() in contractions.keys():\r\n",
        "            new_text += contractions[word.lower()].split(' ')\r\n",
        "        else:\r\n",
        "            new_text.append(word)\r\n",
        "            \r\n",
        "    return ' '.join(new_text)\r\n",
        "\r\n",
        "def remove_signature(text):\r\n",
        "    return signature_pattern.sub(r'', text)\r\n",
        "    \r\n",
        "\r\n",
        "# Thanks to user sudalairajkumar\r\n",
        "PUNCT_TO_REMOVE = string.punctuation\r\n",
        "def remove_punctuation(text):\r\n",
        "    \"\"\"custom function to remove the punctuation\"\"\"\r\n",
        "    return text.translate(str.maketrans('', '', PUNCT_TO_REMOVE))\r\n",
        "\r\n",
        "def clean_message(message):\r\n",
        "    # Remove user taggings\r\n",
        "    message = re.sub(tagging_regex, '', message) # Replace by you. Good idea?\r\n",
        "    \r\n",
        "    # Remove the emojis\r\n",
        "    message = remove_emoji(message)\r\n",
        "    \r\n",
        "    # Remove urls\r\n",
        "    message = remove_url(message)\r\n",
        "    \r\n",
        "    # Remove signatures\r\n",
        "    message = remove_signature(message)\r\n",
        "    \r\n",
        "    # Remove the chat words and contractions\r\n",
        "    message = remove_chat_words_and_contractions(message)\r\n",
        "    \r\n",
        "    # Remove weird things\r\n",
        "    message = weird_thing_pattern.sub(r'', message)\r\n",
        "\r\n",
        "    # Change new line to dot\r\n",
        "    message = new_line_pattern.sub(r'.', message)\r\n",
        "    \r\n",
        "    # Remove punctuation\r\n",
        "    # message = remove_punctuation(message)\r\n",
        "    \r\n",
        "    # Remove start and end whitespace\r\n",
        "    message = message.strip()\r\n",
        "    \r\n",
        "    # Make multiple spaces become a single space\r\n",
        "    message = ' '.join(message.split())\r\n",
        "    \r\n",
        "    # Lower case the message\r\n",
        "    # message = message.lower()\r\n",
        "    \r\n",
        "    # If not in english, return empty string\r\n",
        "#     if message and len(message) > 15:\r\n",
        "#         if detect(message) != 'en':\r\n",
        "#             return \"\"\r\n",
        "    \r\n",
        "    return message\r\n",
        "\r\n",
        "for conversation in conversations:\r\n",
        "    conversation['cleaned_text'] = conversation.apply(lambda row: clean_message(row['text']), axis=1)\r\n",
        "    "
      ],
      "execution_count": 15,
      "outputs": []
    },
    {
      "cell_type": "code",
      "metadata": {
        "id": "7rqxpBKAw9nG"
      },
      "source": [
        "# Keep only the conversations with more than 2 nonempty messages\r\n",
        "# Also keep only the conversations with even number of messages\r\n",
        "conversations = [x for x in conversations if len(x[x['cleaned_text'] == '']) == 0 and len(x) % 2 == 0]\r\n",
        "\r\n",
        "for index, conversation in enumerate(conversations):\r\n",
        "    conversation.drop(['text'], axis=1, inplace=True)\r\n",
        "    # Add an ID to each conversation because I will put them all back together\r\n",
        "    conversation[\"ID\"] = index\r\n",
        "    \r\n",
        "    # Remove unececery columns\r\n",
        "    conversation.drop(['author_id', 'inbound'], inplace=True, axis=1)\r\n",
        "    \r\n",
        "    # Reverse the conversation\r\n",
        "    conversation.sort_index(axis=0 ,ascending=False, inplace=True)\r\n",
        "    \r\n",
        "full_conversations = pd.concat(conversations)\r\n",
        "full_conversations = full_conversations[[\"ID\", \"cleaned_text\"]]\r\n",
        "\r\n"
      ],
      "execution_count": 16,
      "outputs": []
    },
    {
      "cell_type": "code",
      "metadata": {
        "id": "rmFOxpFMxA5y"
      },
      "source": [
        "questions = full_conversations.iloc[::2]['cleaned_text'].tolist()\r\n",
        "ids = full_conversations.iloc[::2]['ID'].tolist()\r\n",
        "responses = full_conversations.iloc[1::2]['cleaned_text'].tolist()\r\n",
        "\r\n",
        "# Make all the fields the same size\r\n",
        "min_length = min(len(questions), len(responses), len(ids))\r\n",
        "questions = questions[:min_length]\r\n",
        "ids = ids[:min_length]\r\n",
        "responses = responses[:min_length]\r\n",
        "\r\n",
        "new_full_df = pd.DataFrame({\r\n",
        "    'ID': ids,\r\n",
        "    'question': questions,\r\n",
        "    'response': responses\r\n",
        "})"
      ],
      "execution_count": 17,
      "outputs": []
    },
    {
      "cell_type": "code",
      "metadata": {
        "colab": {
          "base_uri": "https://localhost:8080/"
        },
        "id": "0qyWn0gvxC9Z",
        "outputId": "ccbc582d-a171-45c7-b5fd-306906511f07"
      },
      "source": [
        "from google.colab import drive\r\n",
        "drive.mount('/content/gdrive')"
      ],
      "execution_count": 18,
      "outputs": [
        {
          "output_type": "stream",
          "text": [
            "Mounted at /content/gdrive\n"
          ],
          "name": "stdout"
        }
      ]
    },
    {
      "cell_type": "code",
      "metadata": {
        "colab": {
          "base_uri": "https://localhost:8080/",
          "height": 197
        },
        "id": "R-PdddeWylhr",
        "outputId": "1525ecfb-6ddf-498e-e001-f61d05751edc"
      },
      "source": [
        "new_full_df.head()"
      ],
      "execution_count": 19,
      "outputs": [
        {
          "output_type": "execute_result",
          "data": {
            "text/html": [
              "<div>\n",
              "<style scoped>\n",
              "    .dataframe tbody tr th:only-of-type {\n",
              "        vertical-align: middle;\n",
              "    }\n",
              "\n",
              "    .dataframe tbody tr th {\n",
              "        vertical-align: top;\n",
              "    }\n",
              "\n",
              "    .dataframe thead th {\n",
              "        text-align: right;\n",
              "    }\n",
              "</style>\n",
              "<table border=\"1\" class=\"dataframe\">\n",
              "  <thead>\n",
              "    <tr style=\"text-align: right;\">\n",
              "      <th></th>\n",
              "      <th>ID</th>\n",
              "      <th>question</th>\n",
              "      <th>response</th>\n",
              "    </tr>\n",
              "  </thead>\n",
              "  <tbody>\n",
              "    <tr>\n",
              "      <th>0</th>\n",
              "      <td>0</td>\n",
              "      <td>is the worst customer service</td>\n",
              "      <td>Can you please send us a private message, so t...</td>\n",
              "    </tr>\n",
              "    <tr>\n",
              "      <th>1</th>\n",
              "      <td>0</td>\n",
              "      <td>I did.</td>\n",
              "      <td>Please send us a Private Message so that we ca...</td>\n",
              "    </tr>\n",
              "    <tr>\n",
              "      <th>2</th>\n",
              "      <td>0</td>\n",
              "      <td>and how do you propose we do that. I have sent...</td>\n",
              "      <td>I understand. I would like to assist you. We w...</td>\n",
              "    </tr>\n",
              "    <tr>\n",
              "      <th>3</th>\n",
              "      <td>1</td>\n",
              "      <td>yall lie about your great connection. 5 bars L...</td>\n",
              "      <td>H there! we would definitely like to work with...</td>\n",
              "    </tr>\n",
              "    <tr>\n",
              "      <th>4</th>\n",
              "      <td>1</td>\n",
              "      <td>Since I signed up with you....Since day 1</td>\n",
              "      <td>We understand your concerns and we would like ...</td>\n",
              "    </tr>\n",
              "  </tbody>\n",
              "</table>\n",
              "</div>"
            ],
            "text/plain": [
              "   ID  ...                                           response\n",
              "0   0  ...  Can you please send us a private message, so t...\n",
              "1   0  ...  Please send us a Private Message so that we ca...\n",
              "2   0  ...  I understand. I would like to assist you. We w...\n",
              "3   1  ...  H there! we would definitely like to work with...\n",
              "4   1  ...  We understand your concerns and we would like ...\n",
              "\n",
              "[5 rows x 3 columns]"
            ]
          },
          "metadata": {
            "tags": []
          },
          "execution_count": 19
        }
      ]
    },
    {
      "cell_type": "code",
      "metadata": {
        "colab": {
          "base_uri": "https://localhost:8080/"
        },
        "id": "QfSIzbnxEQ8u",
        "outputId": "3525bd7d-fd33-43b5-c6e9-761366002442"
      },
      "source": [
        "cd /content/gdrive/My Drive/"
      ],
      "execution_count": 20,
      "outputs": [
        {
          "output_type": "stream",
          "text": [
            "/content/gdrive/My Drive\n"
          ],
          "name": "stdout"
        }
      ]
    },
    {
      "cell_type": "code",
      "metadata": {
        "id": "Al69_x8sEbLi"
      },
      "source": [
        "new_full_df.to_csv(\"Cleaned_twitter_data.csv\")"
      ],
      "execution_count": 21,
      "outputs": []
    },
    {
      "cell_type": "code",
      "metadata": {
        "colab": {
          "base_uri": "https://localhost:8080/"
        },
        "id": "TpBnd0yzEl1k",
        "outputId": "bc2de1e8-ad37-48b1-aa45-1526f9738e7e"
      },
      "source": [
        "new_full_df.shape"
      ],
      "execution_count": 23,
      "outputs": [
        {
          "output_type": "execute_result",
          "data": {
            "text/plain": [
              "(1118516, 3)"
            ]
          },
          "metadata": {
            "tags": []
          },
          "execution_count": 23
        }
      ]
    },
    {
      "cell_type": "code",
      "metadata": {
        "id": "PzW1w7uYErth"
      },
      "source": [
        ""
      ],
      "execution_count": null,
      "outputs": []
    }
  ]
}