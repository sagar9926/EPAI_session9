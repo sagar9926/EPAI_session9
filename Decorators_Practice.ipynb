{
  "nbformat": 4,
  "nbformat_minor": 0,
  "metadata": {
    "colab": {
      "name": "Decorators Practice.ipynb",
      "provenance": [],
      "collapsed_sections": [],
      "authorship_tag": "ABX9TyOwp7DItjpWUDgdprAKH/zy",
      "include_colab_link": true
    },
    "kernelspec": {
      "name": "python3",
      "display_name": "Python 3"
    }
  },
  "cells": [
    {
      "cell_type": "markdown",
      "metadata": {
        "id": "view-in-github",
        "colab_type": "text"
      },
      "source": [
        "<a href=\"https://colab.research.google.com/github/sagar9926/EPAI_session9/blob/main/Decorators_Practice.ipynb\" target=\"_parent\"><img src=\"https://colab.research.google.com/assets/colab-badge.svg\" alt=\"Open In Colab\"/></a>"
      ]
    },
    {
      "cell_type": "markdown",
      "metadata": {
        "id": "6Vd_ZqSAjqc-"
      },
      "source": [
        "## Creating a decorator to count the number of times a function was called"
      ]
    },
    {
      "cell_type": "code",
      "metadata": {
        "id": "VYvMCD9CjjGt"
      },
      "source": [
        "def counter(fn):\n",
        "  count = 0\n",
        "  def inner(*args,**kwargs):\n",
        "    nonlocal count\n",
        "    count += 1\n",
        "    print(f\"Function {fn.__name__} was called {count} times\")\n",
        "    return(fn(*args , **kwargs))\n",
        "  return inner"
      ],
      "execution_count": 1,
      "outputs": []
    },
    {
      "cell_type": "code",
      "metadata": {
        "id": "gy590TTEkzAP"
      },
      "source": [
        "## Without decorator\n",
        "def add(x , y):\n",
        "  return(x + y)"
      ],
      "execution_count": 2,
      "outputs": []
    },
    {
      "cell_type": "code",
      "metadata": {
        "id": "X8wpOez0k8pE",
        "outputId": "19683936-f529-4881-ffef-8125600f2af4",
        "colab": {
          "base_uri": "https://localhost:8080/",
          "height": 33
        }
      },
      "source": [
        "add(1,2)"
      ],
      "execution_count": 3,
      "outputs": [
        {
          "output_type": "execute_result",
          "data": {
            "text/plain": [
              "3"
            ]
          },
          "metadata": {
            "tags": []
          },
          "execution_count": 3
        }
      ]
    },
    {
      "cell_type": "code",
      "metadata": {
        "id": "1Iuu4c_4k9lP"
      },
      "source": [
        "## with decorator\n",
        "\n",
        "@counter\n",
        "def add(x , y):\n",
        "  return(x + y)"
      ],
      "execution_count": 4,
      "outputs": []
    },
    {
      "cell_type": "code",
      "metadata": {
        "id": "hNpclROnlHPW",
        "outputId": "8d7d8b61-ccd1-48bb-b0cc-0db154146f11",
        "colab": {
          "base_uri": "https://localhost:8080/",
          "height": 50
        }
      },
      "source": [
        "add(2,3)"
      ],
      "execution_count": 5,
      "outputs": [
        {
          "output_type": "stream",
          "text": [
            "Function add was called 1 times\n"
          ],
          "name": "stdout"
        },
        {
          "output_type": "execute_result",
          "data": {
            "text/plain": [
              "5"
            ]
          },
          "metadata": {
            "tags": []
          },
          "execution_count": 5
        }
      ]
    },
    {
      "cell_type": "code",
      "metadata": {
        "id": "JCLki1Z_lJEf",
        "outputId": "86648be5-e8b2-4be2-eeca-973dc403bd31",
        "colab": {
          "base_uri": "https://localhost:8080/",
          "height": 50
        }
      },
      "source": [
        "add(6,9)"
      ],
      "execution_count": 6,
      "outputs": [
        {
          "output_type": "stream",
          "text": [
            "Function add was called 2 times\n"
          ],
          "name": "stdout"
        },
        {
          "output_type": "execute_result",
          "data": {
            "text/plain": [
              "15"
            ]
          },
          "metadata": {
            "tags": []
          },
          "execution_count": 6
        }
      ]
    },
    {
      "cell_type": "markdown",
      "metadata": {
        "id": "F7a3Dvw1lOHk"
      },
      "source": [
        "#HOW WAS THE MAGIC OF DECORATORS !!!!"
      ]
    },
    {
      "cell_type": "code",
      "metadata": {
        "id": "zk1zgNzvlL58"
      },
      "source": [
        "# this is similar as \n",
        "def add(x , y):\n",
        "  return(x + y)\n",
        "  \n",
        "add = counter(add) "
      ],
      "execution_count": 7,
      "outputs": []
    },
    {
      "cell_type": "code",
      "metadata": {
        "id": "Np2phNXwlZUF",
        "outputId": "92eb2b0c-21e4-40c2-a64e-7d21cf0712f3",
        "colab": {
          "base_uri": "https://localhost:8080/",
          "height": 50
        }
      },
      "source": [
        "add(2,6)"
      ],
      "execution_count": 8,
      "outputs": [
        {
          "output_type": "stream",
          "text": [
            "Function add was called 1 times\n"
          ],
          "name": "stdout"
        },
        {
          "output_type": "execute_result",
          "data": {
            "text/plain": [
              "8"
            ]
          },
          "metadata": {
            "tags": []
          },
          "execution_count": 8
        }
      ]
    },
    {
      "cell_type": "code",
      "metadata": {
        "id": "l7ZqfoEYlbFH",
        "outputId": "352b87be-e129-4928-91e7-f982610f4674",
        "colab": {
          "base_uri": "https://localhost:8080/",
          "height": 35
        }
      },
      "source": [
        "add.__name__"
      ],
      "execution_count": 9,
      "outputs": [
        {
          "output_type": "execute_result",
          "data": {
            "application/vnd.google.colaboratory.intrinsic+json": {
              "type": "string"
            },
            "text/plain": [
              "'inner'"
            ]
          },
          "metadata": {
            "tags": []
          },
          "execution_count": 9
        }
      ]
    },
    {
      "cell_type": "code",
      "metadata": {
        "id": "wjpgUgHdrvv9",
        "outputId": "fd9c555d-70b8-4b47-c8a0-2bc06323cdb0",
        "colab": {
          "base_uri": "https://localhost:8080/",
          "height": 83
        }
      },
      "source": [
        "help(add)"
      ],
      "execution_count": 10,
      "outputs": [
        {
          "output_type": "stream",
          "text": [
            "Help on function inner in module __main__:\n",
            "\n",
            "inner(*args, **kwargs)\n",
            "\n"
          ],
          "name": "stdout"
        }
      ]
    },
    {
      "cell_type": "markdown",
      "metadata": {
        "id": "_VmKYJymr2MA"
      },
      "source": [
        "## Clearly due to decorator we are losing the docstring and the definition of the original function , we can fix the same as follows :"
      ]
    },
    {
      "cell_type": "code",
      "metadata": {
        "id": "1Ahoc54_ryL9"
      },
      "source": [
        "def counter(fn):\n",
        "  count = 0\n",
        "  def inner(*args,**kwargs):\n",
        "    nonlocal count\n",
        "    count += 1\n",
        "    print(f\"Function {fn.__name__} was called {count} times\")\n",
        "    return(fn(*args , **kwargs))\n",
        "  inner.__name__ = fn.__name__\n",
        "  inner.__doc__ = fn.__doc__\n",
        "  return inner"
      ],
      "execution_count": 11,
      "outputs": []
    },
    {
      "cell_type": "code",
      "metadata": {
        "id": "-vyObD-5sSWw"
      },
      "source": [
        "## with decorator\n",
        "\n",
        "@counter\n",
        "def add(x , y):\n",
        "  return(x + y)"
      ],
      "execution_count": 12,
      "outputs": []
    },
    {
      "cell_type": "code",
      "metadata": {
        "id": "e6_qRqsEsXBA",
        "outputId": "3c6afacc-aca6-4d4a-a475-749cad82b657",
        "colab": {
          "base_uri": "https://localhost:8080/",
          "height": 83
        }
      },
      "source": [
        "help(add)"
      ],
      "execution_count": 13,
      "outputs": [
        {
          "output_type": "stream",
          "text": [
            "Help on function add in module __main__:\n",
            "\n",
            "add(*args, **kwargs)\n",
            "\n"
          ],
          "name": "stdout"
        }
      ]
    },
    {
      "cell_type": "code",
      "metadata": {
        "id": "3picgL5MsYRY",
        "outputId": "36a18797-6226-4829-8184-ae942b5890f4",
        "colab": {
          "base_uri": "https://localhost:8080/",
          "height": 35
        }
      },
      "source": [
        "add.__name__"
      ],
      "execution_count": 14,
      "outputs": [
        {
          "output_type": "execute_result",
          "data": {
            "application/vnd.google.colaboratory.intrinsic+json": {
              "type": "string"
            },
            "text/plain": [
              "'add'"
            ]
          },
          "metadata": {
            "tags": []
          },
          "execution_count": 14
        }
      ]
    },
    {
      "cell_type": "markdown",
      "metadata": {
        "id": "RsfMxY_2sutc"
      },
      "source": [
        "## OR the functools module has a wraps function that we can use to fix the metadata of our inner function in our decorator"
      ]
    },
    {
      "cell_type": "code",
      "metadata": {
        "id": "qKzk3pzQsa8z"
      },
      "source": [
        "from functools import wraps"
      ],
      "execution_count": 15,
      "outputs": []
    },
    {
      "cell_type": "code",
      "metadata": {
        "id": "Y6aUsoFhtCEo"
      },
      "source": [
        "def counter(fn):\n",
        "  count = 0\n",
        "  @wraps(fn) # decorator factory\n",
        "  def inner(*args,**kwargs):\n",
        "    nonlocal count\n",
        "    count += 1\n",
        "    print(f\"Function {fn.__name__} was called {count} times\")\n",
        "    return(fn(*args , **kwargs))\n",
        "  return inner"
      ],
      "execution_count": 16,
      "outputs": []
    },
    {
      "cell_type": "code",
      "metadata": {
        "id": "ZvLQwQLgtLTV"
      },
      "source": [
        "## with decorator\n",
        "\n",
        "@counter\n",
        "def add(x , y):\n",
        "  return(x + y)"
      ],
      "execution_count": 17,
      "outputs": []
    },
    {
      "cell_type": "code",
      "metadata": {
        "id": "nQtBQb39tLTa",
        "outputId": "015d87b4-94f2-4ba8-9e5a-c1056baf991a",
        "colab": {
          "base_uri": "https://localhost:8080/",
          "height": 83
        }
      },
      "source": [
        "help(add)"
      ],
      "execution_count": 18,
      "outputs": [
        {
          "output_type": "stream",
          "text": [
            "Help on function add in module __main__:\n",
            "\n",
            "add(x, y)\n",
            "\n"
          ],
          "name": "stdout"
        }
      ]
    },
    {
      "cell_type": "code",
      "metadata": {
        "id": "jjon2s1ItLTe",
        "outputId": "ca9161bc-98fa-4f65-85d6-0c37634acc3e",
        "colab": {
          "base_uri": "https://localhost:8080/",
          "height": 35
        }
      },
      "source": [
        "add.__name__"
      ],
      "execution_count": 19,
      "outputs": [
        {
          "output_type": "execute_result",
          "data": {
            "application/vnd.google.colaboratory.intrinsic+json": {
              "type": "string"
            },
            "text/plain": [
              "'add'"
            ]
          },
          "metadata": {
            "tags": []
          },
          "execution_count": 19
        }
      ]
    },
    {
      "cell_type": "code",
      "metadata": {
        "id": "W9EeG8EztNBa"
      },
      "source": [
        "@counter\n",
        "def mult(a:int , b:int , c:int = 1):\n",
        "  \"\"\"\n",
        "  Returns the product of three values\n",
        "  \"\"\"\n",
        "  return( a * b * c)"
      ],
      "execution_count": 20,
      "outputs": []
    },
    {
      "cell_type": "code",
      "metadata": {
        "id": "tNQZB-z_t-RM",
        "outputId": "b71820e3-98c3-454e-b621-a824fbd006c0",
        "colab": {
          "base_uri": "https://localhost:8080/",
          "height": 50
        }
      },
      "source": [
        "mult(1,3,5)"
      ],
      "execution_count": 21,
      "outputs": [
        {
          "output_type": "stream",
          "text": [
            "Function mult was called 1 times\n"
          ],
          "name": "stdout"
        },
        {
          "output_type": "execute_result",
          "data": {
            "text/plain": [
              "15"
            ]
          },
          "metadata": {
            "tags": []
          },
          "execution_count": 21
        }
      ]
    },
    {
      "cell_type": "code",
      "metadata": {
        "id": "tpH7SSEpuBx8",
        "outputId": "e8ae8ca3-c48b-4aa2-dd01-2edd205bf202",
        "colab": {
          "base_uri": "https://localhost:8080/",
          "height": 100
        }
      },
      "source": [
        "help(mult)"
      ],
      "execution_count": 22,
      "outputs": [
        {
          "output_type": "stream",
          "text": [
            "Help on function mult in module __main__:\n",
            "\n",
            "mult(a:int, b:int, c:int=1)\n",
            "    Returns the product of three values\n",
            "\n"
          ],
          "name": "stdout"
        }
      ]
    },
    {
      "cell_type": "code",
      "metadata": {
        "id": "GEMIvocfuDjJ",
        "outputId": "86f7ff6f-f868-42e5-b76f-f759c6442259",
        "colab": {
          "base_uri": "https://localhost:8080/",
          "height": 35
        }
      },
      "source": [
        "mult.__name__"
      ],
      "execution_count": 23,
      "outputs": [
        {
          "output_type": "execute_result",
          "data": {
            "application/vnd.google.colaboratory.intrinsic+json": {
              "type": "string"
            },
            "text/plain": [
              "'mult'"
            ]
          },
          "metadata": {
            "tags": []
          },
          "execution_count": 23
        }
      ]
    },
    {
      "cell_type": "code",
      "metadata": {
        "id": "gYU_dCb4uGI5",
        "outputId": "e3c867a3-af95-4c11-8997-2bc43ba5ea71",
        "colab": {
          "base_uri": "https://localhost:8080/",
          "height": 50
        }
      },
      "source": [
        "mult.__closure__"
      ],
      "execution_count": 24,
      "outputs": [
        {
          "output_type": "execute_result",
          "data": {
            "text/plain": [
              "(<cell at 0x7f2d40bc2348: int object at 0xa68ac0>,\n",
              " <cell at 0x7f2d40bc2b58: function object at 0x7f2d40bc79d8>)"
            ]
          },
          "metadata": {
            "tags": []
          },
          "execution_count": 24
        }
      ]
    },
    {
      "cell_type": "code",
      "metadata": {
        "id": "Hb-Dyuc8ubPs",
        "outputId": "9266a502-3673-4a8b-8573-e84d9bdd8d5b",
        "colab": {
          "base_uri": "https://localhost:8080/",
          "height": 33
        }
      },
      "source": [
        "mult.__code__.co_freevars"
      ],
      "execution_count": 25,
      "outputs": [
        {
          "output_type": "execute_result",
          "data": {
            "text/plain": [
              "('count', 'fn')"
            ]
          },
          "metadata": {
            "tags": []
          },
          "execution_count": 25
        }
      ]
    },
    {
      "cell_type": "markdown",
      "metadata": {
        "id": "89cDiMiQvJx5"
      },
      "source": [
        "## Storing the called functions globally"
      ]
    },
    {
      "cell_type": "code",
      "metadata": {
        "id": "FRfBsmdbutVh"
      },
      "source": [
        "counters = dict()\n",
        "\n",
        "def counter(fn):\n",
        "  count = 0\n",
        "  @wraps(fn)\n",
        "  def inner(*args , **kwargs):\n",
        "    nonlocal count\n",
        "    count += 1\n",
        "    print(f\"Function {fn.__name__} was called {count} times\")\n",
        "    counters[fn.__name__] = count\n",
        "    return (fn(*args , **kwargs))\n",
        "  return inner\n"
      ],
      "execution_count": 26,
      "outputs": []
    },
    {
      "cell_type": "code",
      "metadata": {
        "id": "foiK-Cp7vnIN"
      },
      "source": [
        "@counter\n",
        "def add(x , y):\n",
        "  return (x + y)"
      ],
      "execution_count": 27,
      "outputs": []
    },
    {
      "cell_type": "code",
      "metadata": {
        "id": "zQMG4u11vshL"
      },
      "source": [
        "@counter\n",
        "def mul(x , y):\n",
        "  return (x * y)"
      ],
      "execution_count": 28,
      "outputs": []
    },
    {
      "cell_type": "code",
      "metadata": {
        "id": "C9ALDHXcv1uw",
        "outputId": "915eb8d1-8d9c-43ef-8cca-072dad506eaa",
        "colab": {
          "base_uri": "https://localhost:8080/",
          "height": 50
        }
      },
      "source": [
        "add(1,2)"
      ],
      "execution_count": 29,
      "outputs": [
        {
          "output_type": "stream",
          "text": [
            "Function add was called 1 times\n"
          ],
          "name": "stdout"
        },
        {
          "output_type": "execute_result",
          "data": {
            "text/plain": [
              "3"
            ]
          },
          "metadata": {
            "tags": []
          },
          "execution_count": 29
        }
      ]
    },
    {
      "cell_type": "code",
      "metadata": {
        "id": "s1wbYxbKv20-",
        "outputId": "cbf77a03-4be4-4678-e6b5-534033aa769d",
        "colab": {
          "base_uri": "https://localhost:8080/",
          "height": 50
        }
      },
      "source": [
        "add(5,6)"
      ],
      "execution_count": 30,
      "outputs": [
        {
          "output_type": "stream",
          "text": [
            "Function add was called 2 times\n"
          ],
          "name": "stdout"
        },
        {
          "output_type": "execute_result",
          "data": {
            "text/plain": [
              "11"
            ]
          },
          "metadata": {
            "tags": []
          },
          "execution_count": 30
        }
      ]
    },
    {
      "cell_type": "code",
      "metadata": {
        "id": "19tUD0iav4YL",
        "outputId": "55858f89-b5c0-431e-f1ad-360bb2e12216",
        "colab": {
          "base_uri": "https://localhost:8080/",
          "height": 50
        }
      },
      "source": [
        "mul(23,9)"
      ],
      "execution_count": 31,
      "outputs": [
        {
          "output_type": "stream",
          "text": [
            "Function mul was called 1 times\n"
          ],
          "name": "stdout"
        },
        {
          "output_type": "execute_result",
          "data": {
            "text/plain": [
              "207"
            ]
          },
          "metadata": {
            "tags": []
          },
          "execution_count": 31
        }
      ]
    },
    {
      "cell_type": "code",
      "metadata": {
        "id": "Ug6AKnZFv5_V",
        "outputId": "91507925-87d4-4390-b572-21471db1692a",
        "colab": {
          "base_uri": "https://localhost:8080/",
          "height": 33
        }
      },
      "source": [
        "counters"
      ],
      "execution_count": 32,
      "outputs": [
        {
          "output_type": "execute_result",
          "data": {
            "text/plain": [
              "{'add': 2, 'mul': 1}"
            ]
          },
          "metadata": {
            "tags": []
          },
          "execution_count": 32
        }
      ]
    },
    {
      "cell_type": "code",
      "metadata": {
        "id": "hVk2tPDqv7F-"
      },
      "source": [
        "def fact(n):\n",
        "  product = 1\n",
        "  for i in range(2 , n+1):\n",
        "    product *= i\n",
        "  return (product)"
      ],
      "execution_count": 33,
      "outputs": []
    },
    {
      "cell_type": "code",
      "metadata": {
        "id": "F4a_h5436w5R",
        "outputId": "d3aab497-8739-43be-926d-c0f0a0110a7d",
        "colab": {
          "base_uri": "https://localhost:8080/",
          "height": 33
        }
      },
      "source": [
        "fact(5)"
      ],
      "execution_count": 34,
      "outputs": [
        {
          "output_type": "execute_result",
          "data": {
            "text/plain": [
              "120"
            ]
          },
          "metadata": {
            "tags": []
          },
          "execution_count": 34
        }
      ]
    },
    {
      "cell_type": "code",
      "metadata": {
        "id": "pQX4tFzZ6x4Y"
      },
      "source": [
        "@counter\n",
        "def fact(n):\n",
        "  \"\"\"\n",
        "  This function calculates the factorial\n",
        "  \"\"\"\n",
        "  product = 1\n",
        "  for i in range(2 , n+1):\n",
        "    product *= i\n",
        "  return (product)"
      ],
      "execution_count": 35,
      "outputs": []
    },
    {
      "cell_type": "code",
      "metadata": {
        "id": "XmqGxzNs9z4L",
        "outputId": "65d53a95-721c-4e9d-a6f2-275488807054",
        "colab": {
          "base_uri": "https://localhost:8080/",
          "height": 50
        }
      },
      "source": [
        "fact(5)"
      ],
      "execution_count": 36,
      "outputs": [
        {
          "output_type": "stream",
          "text": [
            "Function fact was called 1 times\n"
          ],
          "name": "stdout"
        },
        {
          "output_type": "execute_result",
          "data": {
            "text/plain": [
              "120"
            ]
          },
          "metadata": {
            "tags": []
          },
          "execution_count": 36
        }
      ]
    },
    {
      "cell_type": "code",
      "metadata": {
        "id": "cHLCrCjN92sH",
        "outputId": "ba30beb9-46fe-4cbe-ac3d-17717c80d397",
        "colab": {
          "base_uri": "https://localhost:8080/",
          "height": 33
        }
      },
      "source": [
        "counters"
      ],
      "execution_count": 37,
      "outputs": [
        {
          "output_type": "execute_result",
          "data": {
            "text/plain": [
              "{'add': 2, 'fact': 1, 'mul': 1}"
            ]
          },
          "metadata": {
            "tags": []
          },
          "execution_count": 37
        }
      ]
    },
    {
      "cell_type": "code",
      "metadata": {
        "id": "Xe36ZffF93dn",
        "outputId": "94dcb61d-d71a-4e7a-a4e7-eb5283664e43",
        "colab": {
          "base_uri": "https://localhost:8080/",
          "height": 100
        }
      },
      "source": [
        "help(fact)"
      ],
      "execution_count": 38,
      "outputs": [
        {
          "output_type": "stream",
          "text": [
            "Help on function fact in module __main__:\n",
            "\n",
            "fact(n)\n",
            "    This function calculates the factorial\n",
            "\n"
          ],
          "name": "stdout"
        }
      ]
    },
    {
      "cell_type": "code",
      "metadata": {
        "id": "GRXe-JN694dC",
        "outputId": "943f0f7b-e097-4b3d-c168-7197921b46e4",
        "colab": {
          "base_uri": "https://localhost:8080/",
          "height": 50
        }
      },
      "source": [
        "fact.__closure__"
      ],
      "execution_count": 39,
      "outputs": [
        {
          "output_type": "execute_result",
          "data": {
            "text/plain": [
              "(<cell at 0x7f2d40bc2d68: int object at 0xa68ac0>,\n",
              " <cell at 0x7f2d40bc22e8: function object at 0x7f2d40bab488>)"
            ]
          },
          "metadata": {
            "tags": []
          },
          "execution_count": 39
        }
      ]
    },
    {
      "cell_type": "code",
      "metadata": {
        "id": "VrMIFYWm-7Ag"
      },
      "source": [
        "def set_password():\n",
        "  password = \"\"\n",
        "  def inner():\n",
        "    nonlocal password\n",
        "    if password == \"\":\n",
        "      password = input()\n",
        "    return password\n",
        "  return inner"
      ],
      "execution_count": 40,
      "outputs": []
    },
    {
      "cell_type": "code",
      "metadata": {
        "id": "JgS1fnJHHeMQ"
      },
      "source": [
        "def html_escape()"
      ],
      "execution_count": null,
      "outputs": []
    },
    {
      "cell_type": "code",
      "metadata": {
        "id": "sDB6480nAYj3"
      },
      "source": [
        "current_password = set_password()"
      ],
      "execution_count": 41,
      "outputs": []
    },
    {
      "cell_type": "code",
      "metadata": {
        "id": "N8Ho97hFAgxC",
        "outputId": "c67a1da9-534a-42a9-d964-05da3b31319a",
        "colab": {
          "base_uri": "https://localhost:8080/",
          "height": 52
        }
      },
      "source": [
        "current_password()"
      ],
      "execution_count": 42,
      "outputs": [
        {
          "output_type": "stream",
          "text": [
            "sagar\n"
          ],
          "name": "stdout"
        },
        {
          "output_type": "execute_result",
          "data": {
            "application/vnd.google.colaboratory.intrinsic+json": {
              "type": "string"
            },
            "text/plain": [
              "'sagar'"
            ]
          },
          "metadata": {
            "tags": []
          },
          "execution_count": 42
        }
      ]
    },
    {
      "cell_type": "code",
      "metadata": {
        "id": "JdJIlrr1AjMf",
        "outputId": "920b9a13-7f12-4cd1-bff1-5ea42e603b19",
        "colab": {
          "base_uri": "https://localhost:8080/",
          "height": 35
        }
      },
      "source": [
        "current_password()"
      ],
      "execution_count": 43,
      "outputs": [
        {
          "output_type": "execute_result",
          "data": {
            "application/vnd.google.colaboratory.intrinsic+json": {
              "type": "string"
            },
            "text/plain": [
              "'sagar'"
            ]
          },
          "metadata": {
            "tags": []
          },
          "execution_count": 43
        }
      ]
    },
    {
      "cell_type": "code",
      "metadata": {
        "id": "Tz3OlgQGAmxs",
        "outputId": "2fb8bfb2-26f8-4296-c3e0-0c959a1f5acb",
        "colab": {
          "base_uri": "https://localhost:8080/",
          "height": 35
        }
      },
      "source": [
        "current_password()"
      ],
      "execution_count": 44,
      "outputs": [
        {
          "output_type": "execute_result",
          "data": {
            "application/vnd.google.colaboratory.intrinsic+json": {
              "type": "string"
            },
            "text/plain": [
              "'sagar'"
            ]
          },
          "metadata": {
            "tags": []
          },
          "execution_count": 44
        }
      ]
    },
    {
      "cell_type": "code",
      "metadata": {
        "id": "4E1FyX3NAnMp",
        "outputId": "4d774727-e945-40a8-e366-32f6dd47f8f3",
        "colab": {
          "base_uri": "https://localhost:8080/",
          "height": 35
        }
      },
      "source": [
        "current_password()"
      ],
      "execution_count": 45,
      "outputs": [
        {
          "output_type": "execute_result",
          "data": {
            "application/vnd.google.colaboratory.intrinsic+json": {
              "type": "string"
            },
            "text/plain": [
              "'sagar'"
            ]
          },
          "metadata": {
            "tags": []
          },
          "execution_count": 45
        }
      ]
    },
    {
      "cell_type": "code",
      "metadata": {
        "id": "jUTqITXeA0_9"
      },
      "source": [
        "def authenticate(fn , current_password , user_password):\n",
        "  cnt = 0 \n",
        "  if  user_password == current_password():\n",
        "    def inner(*args , **kwargs):\n",
        "      nonlocal cnt\n",
        "      cnt += 1\n",
        "      print(f\"Function {fn.__name__} was called {cnt} times\")\n",
        "      return fn(*args , **kwargs)\n",
        "    return inner\n",
        "  else :\n",
        "    print(\"You Scamster !!\")\n"
      ],
      "execution_count": 46,
      "outputs": []
    },
    {
      "cell_type": "code",
      "metadata": {
        "id": "1F0kPKE0Bh2W"
      },
      "source": [
        "\n",
        "def add(x , y):\n",
        "  return(x + y)"
      ],
      "execution_count": 47,
      "outputs": []
    },
    {
      "cell_type": "code",
      "metadata": {
        "id": "K19j9FO7BpY8"
      },
      "source": [
        "add = authenticate(add , current_password , \"sagar\")"
      ],
      "execution_count": 48,
      "outputs": []
    },
    {
      "cell_type": "code",
      "metadata": {
        "id": "iii8JZvwB379",
        "outputId": "f6cda5f3-3ecf-4eaf-94d6-12f20b80fcbc",
        "colab": {
          "base_uri": "https://localhost:8080/",
          "height": 50
        }
      },
      "source": [
        "add(2,3)"
      ],
      "execution_count": 49,
      "outputs": [
        {
          "output_type": "stream",
          "text": [
            "Function add was called 1 times\n"
          ],
          "name": "stdout"
        },
        {
          "output_type": "execute_result",
          "data": {
            "text/plain": [
              "5"
            ]
          },
          "metadata": {
            "tags": []
          },
          "execution_count": 49
        }
      ]
    },
    {
      "cell_type": "code",
      "metadata": {
        "id": "npYNNTNAB5YE",
        "outputId": "86134ee5-f292-4311-9355-04f915a4659b",
        "colab": {
          "base_uri": "https://localhost:8080/",
          "height": 50
        }
      },
      "source": [
        "add(7,8)"
      ],
      "execution_count": 50,
      "outputs": [
        {
          "output_type": "stream",
          "text": [
            "Function add was called 2 times\n"
          ],
          "name": "stdout"
        },
        {
          "output_type": "execute_result",
          "data": {
            "text/plain": [
              "15"
            ]
          },
          "metadata": {
            "tags": []
          },
          "execution_count": 50
        }
      ]
    },
    {
      "cell_type": "code",
      "metadata": {
        "id": "jeREqLtFB-wJ"
      },
      "source": [
        "\n",
        "def sub(x , y):\n",
        "  return(x - y)"
      ],
      "execution_count": 51,
      "outputs": []
    },
    {
      "cell_type": "code",
      "metadata": {
        "id": "FTP5_rUpCEIV",
        "outputId": "9a822f3d-54bf-4655-ed37-b55b8e76013d",
        "colab": {
          "base_uri": "https://localhost:8080/",
          "height": 33
        }
      },
      "source": [
        "sub = authenticate(sub , current_password , \"sag111r\")"
      ],
      "execution_count": 52,
      "outputs": [
        {
          "output_type": "stream",
          "text": [
            "You Scamster !!\n"
          ],
          "name": "stdout"
        }
      ]
    },
    {
      "cell_type": "code",
      "metadata": {
        "id": "X6K-dpznCIrD"
      },
      "source": [
        "def counter(fn):\n",
        "  count = 0\n",
        "  def inner(*args,**kwargs):\n",
        "    nonlocal count\n",
        "    count += 1\n",
        "    print(f\"Function {fn.__name__} was called {count} times\")\n",
        "    return(fn(*args , **kwargs))\n",
        "  return inner"
      ],
      "execution_count": 53,
      "outputs": []
    },
    {
      "cell_type": "code",
      "metadata": {
        "id": "yhQH07m0CaH1"
      },
      "source": [
        "def timed(fn):\n",
        "  from time import perf_counter\n",
        "  from functools import wraps\n",
        "\n",
        "  @wraps(fn)\n",
        "  def inner(*args , **kwargs):\n",
        "    start = perf_counter()\n",
        "    result = fn(*args , **kwargs)\n",
        "    end = perf_counter()\n",
        "    elapsed = end - start\n",
        "\n",
        "    args_ = [str(a) for a in args]\n",
        "    kwargs_ = ['{0} = {1} '.format(k,v) for k , v in kwargs.items() ]\n",
        "\n",
        "    all_args = args_ + kwargs_\n",
        "    args_str = \",\".join(all_args)\n",
        "\n",
        "    print(f\" Function {fn.__name__}({all_args}) took {elapsed} seconds \")\n",
        "    return (result)\n",
        "  return (inner)\n"
      ],
      "execution_count": 54,
      "outputs": []
    },
    {
      "cell_type": "code",
      "metadata": {
        "id": "kCnxFz2lO1Ro"
      },
      "source": [
        "@timed\n",
        "@counter\n",
        "def fact(n):\n",
        "  \"\"\"\n",
        "  This function calculates the factorial\n",
        "  \"\"\"\n",
        "  product = 1\n",
        "  for i in range(2 , n+1):\n",
        "    product *= i\n",
        "  return (product)"
      ],
      "execution_count": 55,
      "outputs": []
    },
    {
      "cell_type": "code",
      "metadata": {
        "id": "JSIoRGlhPA7f",
        "outputId": "552cab4d-275b-4373-dd7f-3084174e47f6",
        "colab": {
          "base_uri": "https://localhost:8080/",
          "height": 67
        }
      },
      "source": [
        "fact(5)"
      ],
      "execution_count": 56,
      "outputs": [
        {
          "output_type": "stream",
          "text": [
            "Function fact was called 1 times\n",
            " Function inner(['5']) took 0.00011768899997832705 seconds \n"
          ],
          "name": "stdout"
        },
        {
          "output_type": "execute_result",
          "data": {
            "text/plain": [
              "120"
            ]
          },
          "metadata": {
            "tags": []
          },
          "execution_count": 56
        }
      ]
    },
    {
      "cell_type": "code",
      "metadata": {
        "id": "kAxg_e_HO8kS",
        "outputId": "cdb71b52-cf44-4209-fb31-3a38886aeee6",
        "colab": {
          "base_uri": "https://localhost:8080/",
          "height": 67
        }
      },
      "source": [
        "fact(8)"
      ],
      "execution_count": 57,
      "outputs": [
        {
          "output_type": "stream",
          "text": [
            "Function fact was called 2 times\n",
            " Function inner(['8']) took 0.0016140369999959603 seconds \n"
          ],
          "name": "stdout"
        },
        {
          "output_type": "execute_result",
          "data": {
            "text/plain": [
              "40320"
            ]
          },
          "metadata": {
            "tags": []
          },
          "execution_count": 57
        }
      ]
    },
    {
      "cell_type": "code",
      "metadata": {
        "id": "tpLvia81POtJ"
      },
      "source": [
        "@timed\n",
        "def calc_recursive_fib(n):\n",
        "  if n<=2 :\n",
        "    return(1)\n",
        "  else:\n",
        "    return (calc_recursive_fib(n-1) + calc_recursive_fib(n-2))"
      ],
      "execution_count": 58,
      "outputs": []
    },
    {
      "cell_type": "code",
      "metadata": {
        "id": "CG7R4LxBPj5v",
        "outputId": "9a7e6630-cfcb-4c18-ec71-665aa4754efd",
        "colab": {
          "base_uri": "https://localhost:8080/",
          "height": 183
        }
      },
      "source": [
        "calc_recursive_fib(5)"
      ],
      "execution_count": 59,
      "outputs": [
        {
          "output_type": "stream",
          "text": [
            " Function calc_recursive_fib(['2']) took 7.839999796033226e-07 seconds \n",
            " Function calc_recursive_fib(['1']) took 1.1900000060904858e-06 seconds \n",
            " Function calc_recursive_fib(['3']) took 0.0010223840000094242 seconds \n",
            " Function calc_recursive_fib(['2']) took 1.4820000160398195e-06 seconds \n",
            " Function calc_recursive_fib(['4']) took 0.0016659639999829778 seconds \n",
            " Function calc_recursive_fib(['2']) took 6.149999762783409e-07 seconds \n",
            " Function calc_recursive_fib(['1']) took 7.49999998106432e-07 seconds \n",
            " Function calc_recursive_fib(['3']) took 0.0003548389999821211 seconds \n",
            " Function calc_recursive_fib(['5']) took 0.0023668549999911193 seconds \n"
          ],
          "name": "stdout"
        },
        {
          "output_type": "execute_result",
          "data": {
            "text/plain": [
              "5"
            ]
          },
          "metadata": {
            "tags": []
          },
          "execution_count": 59
        }
      ]
    },
    {
      "cell_type": "code",
      "metadata": {
        "id": "6ENN8WXxPl5o",
        "outputId": "a3f84f63-2926-4c16-c56d-3ce89cd71adb",
        "colab": {
          "base_uri": "https://localhost:8080/",
          "height": 283
        }
      },
      "source": [
        "calc_recursive_fib(6)"
      ],
      "execution_count": 60,
      "outputs": [
        {
          "output_type": "stream",
          "text": [
            " Function calc_recursive_fib(['2']) took 1.0139999915281805e-06 seconds \n",
            " Function calc_recursive_fib(['1']) took 1.5010000140591728e-06 seconds \n",
            " Function calc_recursive_fib(['3']) took 0.0022355330000038975 seconds \n",
            " Function calc_recursive_fib(['2']) took 7.540000126482482e-07 seconds \n",
            " Function calc_recursive_fib(['4']) took 0.002664182000017945 seconds \n",
            " Function calc_recursive_fib(['2']) took 4.850000152600842e-07 seconds \n",
            " Function calc_recursive_fib(['1']) took 6.6100000140068e-07 seconds \n",
            " Function calc_recursive_fib(['3']) took 0.0006808439999872462 seconds \n",
            " Function calc_recursive_fib(['5']) took 0.004127861999990046 seconds \n",
            " Function calc_recursive_fib(['2']) took 5.290000046898058e-07 seconds \n",
            " Function calc_recursive_fib(['1']) took 8.190000073682313e-07 seconds \n",
            " Function calc_recursive_fib(['3']) took 0.0003884870000092633 seconds \n",
            " Function calc_recursive_fib(['2']) took 8.959999888702441e-07 seconds \n",
            " Function calc_recursive_fib(['4']) took 0.0009762230000092131 seconds \n",
            " Function calc_recursive_fib(['6']) took 0.005573956000006319 seconds \n"
          ],
          "name": "stdout"
        },
        {
          "output_type": "execute_result",
          "data": {
            "text/plain": [
              "8"
            ]
          },
          "metadata": {
            "tags": []
          },
          "execution_count": 60
        }
      ]
    },
    {
      "cell_type": "code",
      "metadata": {
        "id": "gv5qGCtiP7U-"
      },
      "source": [
        "def calc_recursive_fib(n):\n",
        "  if n<=2 :\n",
        "    return(1)\n",
        "  else:\n",
        "    return (calc_recursive_fib(n-1) + calc_recursive_fib(n-2))\n",
        "\n",
        "@timed\n",
        "def fib_recursive(n):\n",
        "  return (calc_recursive_fib(n))"
      ],
      "execution_count": 61,
      "outputs": []
    },
    {
      "cell_type": "code",
      "metadata": {
        "id": "gK1vmna8QSlX",
        "outputId": "c1153a52-227a-476b-da59-33dd358c57b6",
        "colab": {
          "base_uri": "https://localhost:8080/",
          "height": 50
        }
      },
      "source": [
        "fib_recursive(6)"
      ],
      "execution_count": 62,
      "outputs": [
        {
          "output_type": "stream",
          "text": [
            " Function fib_recursive(['6']) took 7.753000005550348e-06 seconds \n"
          ],
          "name": "stdout"
        },
        {
          "output_type": "execute_result",
          "data": {
            "text/plain": [
              "8"
            ]
          },
          "metadata": {
            "tags": []
          },
          "execution_count": 62
        }
      ]
    },
    {
      "cell_type": "code",
      "metadata": {
        "id": "fVapKXIdQUk-",
        "outputId": "b4aca1f2-ce05-40bb-877f-4d2bb37ec863",
        "colab": {
          "base_uri": "https://localhost:8080/",
          "height": 50
        }
      },
      "source": [
        "fib_recursive(26)"
      ],
      "execution_count": 63,
      "outputs": [
        {
          "output_type": "stream",
          "text": [
            " Function fib_recursive(['26']) took 0.03799320299998499 seconds \n"
          ],
          "name": "stdout"
        },
        {
          "output_type": "execute_result",
          "data": {
            "text/plain": [
              "121393"
            ]
          },
          "metadata": {
            "tags": []
          },
          "execution_count": 63
        }
      ]
    },
    {
      "cell_type": "code",
      "metadata": {
        "id": "2xzHAJpVQwgl",
        "outputId": "3b9d9a4a-f1d9-4a70-be57-ce427883a6f3",
        "colab": {
          "base_uri": "https://localhost:8080/",
          "height": 50
        }
      },
      "source": [
        "fib_recursive(36)"
      ],
      "execution_count": 64,
      "outputs": [
        {
          "output_type": "stream",
          "text": [
            " Function fib_recursive(['36']) took 3.3451918009999986 seconds \n"
          ],
          "name": "stdout"
        },
        {
          "output_type": "execute_result",
          "data": {
            "text/plain": [
              "14930352"
            ]
          },
          "metadata": {
            "tags": []
          },
          "execution_count": 64
        }
      ]
    },
    {
      "cell_type": "code",
      "metadata": {
        "id": "qd2D-azbQzM8"
      },
      "source": [
        "@timed\n",
        "def fib_loop(n):\n",
        "  fib_1 = 1\n",
        "  fib_2 = 2\n",
        "  for i in range(3, n+1):\n",
        "    fib_1 , fib_2 =  fib_2 , fib_1 + fib_2\n",
        "  return(fib_1) "
      ],
      "execution_count": 65,
      "outputs": []
    },
    {
      "cell_type": "code",
      "metadata": {
        "id": "I_jPVLLwkgTg",
        "outputId": "ed379be7-ca42-4c7f-f55d-f92b6d6cfe48",
        "colab": {
          "base_uri": "https://localhost:8080/",
          "height": 50
        }
      },
      "source": [
        "fib_loop(6)"
      ],
      "execution_count": 66,
      "outputs": [
        {
          "output_type": "stream",
          "text": [
            " Function fib_loop(['6']) took 4.717999985359711e-06 seconds \n"
          ],
          "name": "stdout"
        },
        {
          "output_type": "execute_result",
          "data": {
            "text/plain": [
              "8"
            ]
          },
          "metadata": {
            "tags": []
          },
          "execution_count": 66
        }
      ]
    },
    {
      "cell_type": "code",
      "metadata": {
        "id": "SdoO7LbLlU0C",
        "outputId": "9cf91bf6-0d16-4919-f752-c1b72e10d0e4",
        "colab": {
          "base_uri": "https://localhost:8080/",
          "height": 50
        }
      },
      "source": [
        "fib_loop(36)"
      ],
      "execution_count": 67,
      "outputs": [
        {
          "output_type": "stream",
          "text": [
            " Function fib_loop(['36']) took 8.166000014853125e-06 seconds \n"
          ],
          "name": "stdout"
        },
        {
          "output_type": "execute_result",
          "data": {
            "text/plain": [
              "14930352"
            ]
          },
          "metadata": {
            "tags": []
          },
          "execution_count": 67
        }
      ]
    },
    {
      "cell_type": "code",
      "metadata": {
        "id": "sBMbSubtlWKp",
        "outputId": "72a54f22-3aeb-4ffc-97e8-ea69e8d2744b",
        "colab": {
          "base_uri": "https://localhost:8080/",
          "height": 33
        }
      },
      "source": [
        "from functools import reduce\n",
        "\n",
        "reduce(lambda prev , nxt : prev + nxt , range(1) , 100)"
      ],
      "execution_count": 68,
      "outputs": [
        {
          "output_type": "execute_result",
          "data": {
            "text/plain": [
              "100"
            ]
          },
          "metadata": {
            "tags": []
          },
          "execution_count": 68
        }
      ]
    },
    {
      "cell_type": "code",
      "metadata": {
        "id": "TBam2aavl5x0",
        "outputId": "8d077cb2-5f70-496f-cf34-70aa4f2e2086",
        "colab": {
          "base_uri": "https://localhost:8080/",
          "height": 33
        }
      },
      "source": [
        "reduce(lambda prev , nxt : prev + nxt , range(1) , 0)"
      ],
      "execution_count": 69,
      "outputs": [
        {
          "output_type": "execute_result",
          "data": {
            "text/plain": [
              "0"
            ]
          },
          "metadata": {
            "tags": []
          },
          "execution_count": 69
        }
      ]
    },
    {
      "cell_type": "code",
      "metadata": {
        "id": "msDjwMwVwtKS",
        "outputId": "9f521c08-08da-4b1a-efc1-9d0fd0ceab4d",
        "colab": {
          "base_uri": "https://localhost:8080/",
          "height": 33
        }
      },
      "source": [
        "reduce(lambda prev , nxt : prev + nxt , range(6) , 0)"
      ],
      "execution_count": 70,
      "outputs": [
        {
          "output_type": "execute_result",
          "data": {
            "text/plain": [
              "15"
            ]
          },
          "metadata": {
            "tags": []
          },
          "execution_count": 70
        }
      ]
    },
    {
      "cell_type": "code",
      "metadata": {
        "id": "T0aAXlJ7l__i"
      },
      "source": [
        "@timed\n",
        "def fib_reduce(n):\n",
        "  initial = (1 , 0)\n",
        "  dummy = range(n)\n",
        "  fib_n = reduce(lambda prev , _  : (prev[0] + prev[1] , prev[0]) , dummy , initial) # dummy -> (next , prev) the initial value would be initialised to prev only\n",
        "  return(fib_n[0])"
      ],
      "execution_count": 71,
      "outputs": []
    },
    {
      "cell_type": "code",
      "metadata": {
        "id": "lkrCmtTkuYUF",
        "outputId": "d8d354b5-16a4-4d1e-a55f-8d0b9c67bbe8",
        "colab": {
          "base_uri": "https://localhost:8080/",
          "height": 50
        }
      },
      "source": [
        "# dummy = [0]\n",
        "fib_reduce(1)"
      ],
      "execution_count": 72,
      "outputs": [
        {
          "output_type": "stream",
          "text": [
            " Function fib_reduce(['1']) took 7.175999996889004e-06 seconds \n"
          ],
          "name": "stdout"
        },
        {
          "output_type": "execute_result",
          "data": {
            "text/plain": [
              "1"
            ]
          },
          "metadata": {
            "tags": []
          },
          "execution_count": 72
        }
      ]
    },
    {
      "cell_type": "code",
      "metadata": {
        "id": "fPeU8fOPxPSs",
        "outputId": "6025293a-6cb8-4d8d-f6d4-815e6d24d215",
        "colab": {
          "base_uri": "https://localhost:8080/",
          "height": 50
        }
      },
      "source": [
        "fib_reduce(2)"
      ],
      "execution_count": 73,
      "outputs": [
        {
          "output_type": "stream",
          "text": [
            " Function fib_reduce(['2']) took 6.88499997636427e-06 seconds \n"
          ],
          "name": "stdout"
        },
        {
          "output_type": "execute_result",
          "data": {
            "text/plain": [
              "2"
            ]
          },
          "metadata": {
            "tags": []
          },
          "execution_count": 73
        }
      ]
    },
    {
      "cell_type": "code",
      "metadata": {
        "id": "PzduNUDwzHtf",
        "outputId": "7456840b-26c3-4479-8b47-5ee05c4e8f7d",
        "colab": {
          "base_uri": "https://localhost:8080/",
          "height": 50
        }
      },
      "source": [
        "fib_reduce(3)"
      ],
      "execution_count": 74,
      "outputs": [
        {
          "output_type": "stream",
          "text": [
            " Function fib_reduce(['3']) took 7.715000009511641e-06 seconds \n"
          ],
          "name": "stdout"
        },
        {
          "output_type": "execute_result",
          "data": {
            "text/plain": [
              "3"
            ]
          },
          "metadata": {
            "tags": []
          },
          "execution_count": 74
        }
      ]
    },
    {
      "cell_type": "code",
      "metadata": {
        "id": "hYAIGt35zI8J",
        "outputId": "0d72c458-ce57-4d0f-aaa3-d6af162f3477",
        "colab": {
          "base_uri": "https://localhost:8080/",
          "height": 50
        }
      },
      "source": [
        "fib_reduce(4)"
      ],
      "execution_count": 75,
      "outputs": [
        {
          "output_type": "stream",
          "text": [
            " Function fib_reduce(['4']) took 8.758999996416605e-06 seconds \n"
          ],
          "name": "stdout"
        },
        {
          "output_type": "execute_result",
          "data": {
            "text/plain": [
              "5"
            ]
          },
          "metadata": {
            "tags": []
          },
          "execution_count": 75
        }
      ]
    },
    {
      "cell_type": "code",
      "metadata": {
        "id": "oh-32hIJzJqi",
        "outputId": "8389a4b6-aad0-408d-f7d9-7fc440326ace",
        "colab": {
          "base_uri": "https://localhost:8080/",
          "height": 50
        }
      },
      "source": [
        "fib_reduce(5)"
      ],
      "execution_count": 76,
      "outputs": [
        {
          "output_type": "stream",
          "text": [
            " Function fib_reduce(['5']) took 8.50300000365678e-06 seconds \n"
          ],
          "name": "stdout"
        },
        {
          "output_type": "execute_result",
          "data": {
            "text/plain": [
              "8"
            ]
          },
          "metadata": {
            "tags": []
          },
          "execution_count": 76
        }
      ]
    },
    {
      "cell_type": "code",
      "metadata": {
        "id": "TBQ-P9S3zPCd",
        "outputId": "dd87601e-a8a4-4c80-a1f4-05b017ab2706",
        "colab": {
          "base_uri": "https://localhost:8080/",
          "height": 50
        }
      },
      "source": [
        "fib_reduce(6)"
      ],
      "execution_count": 77,
      "outputs": [
        {
          "output_type": "stream",
          "text": [
            " Function fib_reduce(['6']) took 1.0447999983398404e-05 seconds \n"
          ],
          "name": "stdout"
        },
        {
          "output_type": "execute_result",
          "data": {
            "text/plain": [
              "13"
            ]
          },
          "metadata": {
            "tags": []
          },
          "execution_count": 77
        }
      ]
    },
    {
      "cell_type": "code",
      "metadata": {
        "id": "UHgVeKkozPii",
        "outputId": "01076d88-74f0-42ad-9b44-7b2c6105e87c",
        "colab": {
          "base_uri": "https://localhost:8080/",
          "height": 50
        }
      },
      "source": [
        "fib_reduce(36)\n"
      ],
      "execution_count": 78,
      "outputs": [
        {
          "output_type": "stream",
          "text": [
            " Function fib_reduce(['36']) took 3.4759000016038044e-05 seconds \n"
          ],
          "name": "stdout"
        },
        {
          "output_type": "execute_result",
          "data": {
            "text/plain": [
              "24157817"
            ]
          },
          "metadata": {
            "tags": []
          },
          "execution_count": 78
        }
      ]
    },
    {
      "cell_type": "code",
      "metadata": {
        "id": "p5xmqNhS7Jvv"
      },
      "source": [
        "def timed(fn):\n",
        "  from time import perf_counter\n",
        "  from functools import wraps\n",
        "\n",
        "  @wraps(fn)\n",
        "  def inner(*args , **kwargs):\n",
        "    elapsed_total = 0\n",
        "    elapsed_count = 0\n",
        "    for i in range(10):\n",
        "      print(f\"Running iteration number {i + 1}\")\n",
        "      start = perf_counter()\n",
        "      result = fn(*args , **kwargs)\n",
        "      end = perf_counter()\n",
        "      elapsed = end - start\n",
        "      elapsed_total += elapsed\n",
        "      elapsed_count += 1\n",
        "\n",
        "    args_ = [str(a) for a in args]\n",
        "    kwargs_ = ['{0} = {1} '.format(k,v) for k , v in kwargs.items() ]\n",
        "\n",
        "    all_args = args_ + kwargs_\n",
        "    args_str = \",\".join(all_args)\n",
        "    elapsed_avg = elapsed_total / elapsed_count\n",
        "\n",
        "    print(f\" Function {fn.__name__}({all_args}) took {elapsed_avg} seconds \")\n",
        "    return (result)\n",
        "  return (inner)\n",
        "\n",
        "    "
      ],
      "execution_count": 79,
      "outputs": []
    },
    {
      "cell_type": "code",
      "metadata": {
        "id": "DqUcYvdh82Zr"
      },
      "source": [
        "@timed\n",
        "def fib_reduce(n):\n",
        "  initial = (1 , 0)\n",
        "  dummy = range(n)\n",
        "  fib_n = reduce(lambda prev , _  : (prev[0] + prev[1] , prev[0]) , dummy , initial) # dummy -> (next , prev) the initial value would be initialised to prev only\n",
        "  return(fib_n[0])"
      ],
      "execution_count": 80,
      "outputs": []
    },
    {
      "cell_type": "code",
      "metadata": {
        "id": "ngIW_HXn9ETN",
        "outputId": "eb4aef51-f028-4a97-f0fa-136dc1824849",
        "colab": {
          "base_uri": "https://localhost:8080/",
          "height": 217
        }
      },
      "source": [
        "fib_reduce(15)"
      ],
      "execution_count": 81,
      "outputs": [
        {
          "output_type": "stream",
          "text": [
            "Running iteration number 1\n",
            "Running iteration number 2\n",
            "Running iteration number 3\n",
            "Running iteration number 4\n",
            "Running iteration number 5\n",
            "Running iteration number 6\n",
            "Running iteration number 7\n",
            "Running iteration number 8\n",
            "Running iteration number 9\n",
            "Running iteration number 10\n",
            " Function fib_reduce(['15']) took 9.764400002154616e-06 seconds \n"
          ],
          "name": "stdout"
        },
        {
          "output_type": "execute_result",
          "data": {
            "text/plain": [
              "987"
            ]
          },
          "metadata": {
            "tags": []
          },
          "execution_count": 81
        }
      ]
    },
    {
      "cell_type": "code",
      "metadata": {
        "id": "RAWpQYqC9Ih_"
      },
      "source": [
        "def logged(fn):\n",
        "  from functools import wraps\n",
        "  from datetime import datetime , timezone\n",
        "\n",
        "  @wraps(fn)\n",
        "  def inner(*args , **kwargs):\n",
        "    run_dt = datetime.now(timezone.utc)\n",
        "    result = fn(*args , **kwargs)\n",
        "    print(f\"{run_dt} : called {fn.__name__}\")\n",
        "    return result\n",
        "  return inner\n"
      ],
      "execution_count": 82,
      "outputs": []
    },
    {
      "cell_type": "code",
      "metadata": {
        "id": "P0C1dgw3BrcF"
      },
      "source": [
        "@logged\n",
        "def func_1():\n",
        "  pass\n",
        "\n",
        "@logged\n",
        "def func_2():\n",
        "  pass"
      ],
      "execution_count": 83,
      "outputs": []
    },
    {
      "cell_type": "code",
      "metadata": {
        "id": "IMm3IUYNB1su",
        "outputId": "59f98575-ab99-4688-8e4c-6873c25fbc11",
        "colab": {
          "base_uri": "https://localhost:8080/",
          "height": 33
        }
      },
      "source": [
        "func_1()"
      ],
      "execution_count": 84,
      "outputs": [
        {
          "output_type": "stream",
          "text": [
            "2020-10-11 07:05:16.498524+00:00 : called func_1\n"
          ],
          "name": "stdout"
        }
      ]
    },
    {
      "cell_type": "code",
      "metadata": {
        "id": "iWiw8K9lB4cV",
        "outputId": "1cdbeee8-57cb-4f7d-d7ba-d008ec5e400c",
        "colab": {
          "base_uri": "https://localhost:8080/",
          "height": 33
        }
      },
      "source": [
        "func_2()"
      ],
      "execution_count": 85,
      "outputs": [
        {
          "output_type": "stream",
          "text": [
            "2020-10-11 07:05:16.512972+00:00 : called func_2\n"
          ],
          "name": "stdout"
        }
      ]
    },
    {
      "cell_type": "code",
      "metadata": {
        "id": "ZP11SDYeB5lU"
      },
      "source": [
        "def fact(n):\n",
        "  from operator import mul\n",
        "  from functools import reduce\n",
        "  return (reduce(mul , range(1 , n+1)))"
      ],
      "execution_count": 86,
      "outputs": []
    },
    {
      "cell_type": "code",
      "metadata": {
        "id": "SGk8Zx0tCKYg",
        "outputId": "1a6c5d7e-3b86-4414-da80-1959f7b60472",
        "colab": {
          "base_uri": "https://localhost:8080/",
          "height": 33
        }
      },
      "source": [
        "fact(6)"
      ],
      "execution_count": 87,
      "outputs": [
        {
          "output_type": "execute_result",
          "data": {
            "text/plain": [
              "720"
            ]
          },
          "metadata": {
            "tags": []
          },
          "execution_count": 87
        }
      ]
    },
    {
      "cell_type": "code",
      "metadata": {
        "id": "NgilxItnCOR4",
        "outputId": "3eac132b-e12f-4ca3-8a75-2d48e0c7d7a7",
        "colab": {
          "base_uri": "https://localhost:8080/",
          "height": 217
        }
      },
      "source": [
        "@timed\n",
        "def fact(n):\n",
        "  from operator import mul\n",
        "  from functools import reduce\n",
        "  return (reduce(mul , range(1 , n+1)))\n",
        "fact(6)"
      ],
      "execution_count": 88,
      "outputs": [
        {
          "output_type": "stream",
          "text": [
            "Running iteration number 1\n",
            "Running iteration number 2\n",
            "Running iteration number 3\n",
            "Running iteration number 4\n",
            "Running iteration number 5\n",
            "Running iteration number 6\n",
            "Running iteration number 7\n",
            "Running iteration number 8\n",
            "Running iteration number 9\n",
            "Running iteration number 10\n",
            " Function fact(['6']) took 1.0030700005358995e-05 seconds \n"
          ],
          "name": "stdout"
        },
        {
          "output_type": "execute_result",
          "data": {
            "text/plain": [
              "720"
            ]
          },
          "metadata": {
            "tags": []
          },
          "execution_count": 88
        }
      ]
    },
    {
      "cell_type": "code",
      "metadata": {
        "id": "sMyyPUS3CRgM",
        "outputId": "5478b891-599a-41d4-f23a-c929baa32a4a",
        "colab": {
          "base_uri": "https://localhost:8080/",
          "height": 50
        }
      },
      "source": [
        "@logged\n",
        "def fact(n):\n",
        "  from operator import mul\n",
        "  from functools import reduce\n",
        "  return (reduce(mul , range(1 , n+1)))\n",
        "fact(6)"
      ],
      "execution_count": 89,
      "outputs": [
        {
          "output_type": "stream",
          "text": [
            "2020-10-11 07:05:16.570595+00:00 : called fact\n"
          ],
          "name": "stdout"
        },
        {
          "output_type": "execute_result",
          "data": {
            "text/plain": [
              "720"
            ]
          },
          "metadata": {
            "tags": []
          },
          "execution_count": 89
        }
      ]
    },
    {
      "cell_type": "code",
      "metadata": {
        "id": "UWvxQHZICd2r",
        "outputId": "9516c785-f4e5-4e29-e6b9-da14cc6964b9",
        "colab": {
          "base_uri": "https://localhost:8080/",
          "height": 233
        }
      },
      "source": [
        "@logged\n",
        "@timed\n",
        "def fact(n):\n",
        "  from operator import mul\n",
        "  from functools import reduce\n",
        "  return (reduce(mul , range(1 , n+1)))\n",
        "fact(6)"
      ],
      "execution_count": 90,
      "outputs": [
        {
          "output_type": "stream",
          "text": [
            "Running iteration number 1\n",
            "Running iteration number 2\n",
            "Running iteration number 3\n",
            "Running iteration number 4\n",
            "Running iteration number 5\n",
            "Running iteration number 6\n",
            "Running iteration number 7\n",
            "Running iteration number 8\n",
            "Running iteration number 9\n",
            "Running iteration number 10\n",
            " Function fact(['6']) took 1.294589999361051e-05 seconds \n",
            "2020-10-11 07:05:16.590847+00:00 : called fact\n"
          ],
          "name": "stdout"
        },
        {
          "output_type": "execute_result",
          "data": {
            "text/plain": [
              "720"
            ]
          },
          "metadata": {
            "tags": []
          },
          "execution_count": 90
        }
      ]
    },
    {
      "cell_type": "code",
      "metadata": {
        "id": "yd23BfuWeW8y"
      },
      "source": [
        "def fib(n):\n",
        "  print(f\"Calculating Fib({n})\")\n",
        "  return 1 if n < 3 else  fib(n - 1) + fib( n - 2)"
      ],
      "execution_count": 92,
      "outputs": []
    },
    {
      "cell_type": "code",
      "metadata": {
        "id": "xrtt9Xj2ChRt",
        "outputId": "92376590-f934-4428-89d7-0b568ed30619",
        "colab": {
          "base_uri": "https://localhost:8080/",
          "height": 1000
        }
      },
      "source": [
        "fib(10)"
      ],
      "execution_count": 93,
      "outputs": [
        {
          "output_type": "stream",
          "text": [
            "Calculating Fib(10)\n",
            "Calculating Fib(9)\n",
            "Calculating Fib(8)\n",
            "Calculating Fib(7)\n",
            "Calculating Fib(6)\n",
            "Calculating Fib(5)\n",
            "Calculating Fib(4)\n",
            "Calculating Fib(3)\n",
            "Calculating Fib(2)\n",
            "Calculating Fib(1)\n",
            "Calculating Fib(2)\n",
            "Calculating Fib(3)\n",
            "Calculating Fib(2)\n",
            "Calculating Fib(1)\n",
            "Calculating Fib(4)\n",
            "Calculating Fib(3)\n",
            "Calculating Fib(2)\n",
            "Calculating Fib(1)\n",
            "Calculating Fib(2)\n",
            "Calculating Fib(5)\n",
            "Calculating Fib(4)\n",
            "Calculating Fib(3)\n",
            "Calculating Fib(2)\n",
            "Calculating Fib(1)\n",
            "Calculating Fib(2)\n",
            "Calculating Fib(3)\n",
            "Calculating Fib(2)\n",
            "Calculating Fib(1)\n",
            "Calculating Fib(6)\n",
            "Calculating Fib(5)\n",
            "Calculating Fib(4)\n",
            "Calculating Fib(3)\n",
            "Calculating Fib(2)\n",
            "Calculating Fib(1)\n",
            "Calculating Fib(2)\n",
            "Calculating Fib(3)\n",
            "Calculating Fib(2)\n",
            "Calculating Fib(1)\n",
            "Calculating Fib(4)\n",
            "Calculating Fib(3)\n",
            "Calculating Fib(2)\n",
            "Calculating Fib(1)\n",
            "Calculating Fib(2)\n",
            "Calculating Fib(7)\n",
            "Calculating Fib(6)\n",
            "Calculating Fib(5)\n",
            "Calculating Fib(4)\n",
            "Calculating Fib(3)\n",
            "Calculating Fib(2)\n",
            "Calculating Fib(1)\n",
            "Calculating Fib(2)\n",
            "Calculating Fib(3)\n",
            "Calculating Fib(2)\n",
            "Calculating Fib(1)\n",
            "Calculating Fib(4)\n",
            "Calculating Fib(3)\n",
            "Calculating Fib(2)\n",
            "Calculating Fib(1)\n",
            "Calculating Fib(2)\n",
            "Calculating Fib(5)\n",
            "Calculating Fib(4)\n",
            "Calculating Fib(3)\n",
            "Calculating Fib(2)\n",
            "Calculating Fib(1)\n",
            "Calculating Fib(2)\n",
            "Calculating Fib(3)\n",
            "Calculating Fib(2)\n",
            "Calculating Fib(1)\n",
            "Calculating Fib(8)\n",
            "Calculating Fib(7)\n",
            "Calculating Fib(6)\n",
            "Calculating Fib(5)\n",
            "Calculating Fib(4)\n",
            "Calculating Fib(3)\n",
            "Calculating Fib(2)\n",
            "Calculating Fib(1)\n",
            "Calculating Fib(2)\n",
            "Calculating Fib(3)\n",
            "Calculating Fib(2)\n",
            "Calculating Fib(1)\n",
            "Calculating Fib(4)\n",
            "Calculating Fib(3)\n",
            "Calculating Fib(2)\n",
            "Calculating Fib(1)\n",
            "Calculating Fib(2)\n",
            "Calculating Fib(5)\n",
            "Calculating Fib(4)\n",
            "Calculating Fib(3)\n",
            "Calculating Fib(2)\n",
            "Calculating Fib(1)\n",
            "Calculating Fib(2)\n",
            "Calculating Fib(3)\n",
            "Calculating Fib(2)\n",
            "Calculating Fib(1)\n",
            "Calculating Fib(6)\n",
            "Calculating Fib(5)\n",
            "Calculating Fib(4)\n",
            "Calculating Fib(3)\n",
            "Calculating Fib(2)\n",
            "Calculating Fib(1)\n",
            "Calculating Fib(2)\n",
            "Calculating Fib(3)\n",
            "Calculating Fib(2)\n",
            "Calculating Fib(1)\n",
            "Calculating Fib(4)\n",
            "Calculating Fib(3)\n",
            "Calculating Fib(2)\n",
            "Calculating Fib(1)\n",
            "Calculating Fib(2)\n"
          ],
          "name": "stdout"
        },
        {
          "output_type": "execute_result",
          "data": {
            "text/plain": [
              "55"
            ]
          },
          "metadata": {
            "tags": []
          },
          "execution_count": 93
        }
      ]
    },
    {
      "cell_type": "code",
      "metadata": {
        "id": "F3JhYzCofByG"
      },
      "source": [
        "def fib():\n",
        "  cache = {1:1 , 2:1}\n",
        "  def calc_fib(n):\n",
        "    if n not in cache:\n",
        "      print(f\"Calculating Fib({n})\")\n",
        "      cache[n] = calc_fib(n-1) +  calc_fib(n-2)\n",
        "    return(cache[n])\n",
        "  return calc_fib"
      ],
      "execution_count": 101,
      "outputs": []
    },
    {
      "cell_type": "code",
      "metadata": {
        "id": "wnkdjBQqgMw4",
        "outputId": "9d0b0af1-6653-41cb-c714-2aaf4fd06fef",
        "colab": {
          "base_uri": "https://localhost:8080/",
          "height": 167
        }
      },
      "source": [
        "f = fib()\n",
        "f(10)"
      ],
      "execution_count": 102,
      "outputs": [
        {
          "output_type": "stream",
          "text": [
            "Calculating Fib(10)\n",
            "Calculating Fib(9)\n",
            "Calculating Fib(8)\n",
            "Calculating Fib(7)\n",
            "Calculating Fib(6)\n",
            "Calculating Fib(5)\n",
            "Calculating Fib(4)\n",
            "Calculating Fib(3)\n"
          ],
          "name": "stdout"
        },
        {
          "output_type": "execute_result",
          "data": {
            "text/plain": [
              "55"
            ]
          },
          "metadata": {
            "tags": []
          },
          "execution_count": 102
        }
      ]
    },
    {
      "cell_type": "code",
      "metadata": {
        "id": "M5K8U-VvgQ_r"
      },
      "source": [
        "def memorize_fib(fib):\n",
        "  cache = {1:1 , 2:1}\n",
        "  \n",
        "  def inner(n):\n",
        "    if n not in cache:\n",
        "      print(f\"Calculating Fib({n})\")\n",
        "      cache[n] = fib(n)\n",
        "    return (cache[n])\n",
        "  return inner"
      ],
      "execution_count": 106,
      "outputs": []
    },
    {
      "cell_type": "code",
      "metadata": {
        "id": "Ok-WRJIshACW"
      },
      "source": [
        "@memorize_fib\n",
        "def fib(n):\n",
        "  return 1 if n < 3 else  fib(n - 1) + fib( n - 2)"
      ],
      "execution_count": 107,
      "outputs": []
    },
    {
      "cell_type": "code",
      "metadata": {
        "id": "85feSjcLhFr6",
        "outputId": "4a274bd2-b972-4a55-80c6-63ebd9db4d16",
        "colab": {
          "base_uri": "https://localhost:8080/",
          "height": 167
        }
      },
      "source": [
        "fib(10)"
      ],
      "execution_count": 108,
      "outputs": [
        {
          "output_type": "stream",
          "text": [
            "Calculating Fib(10)\n",
            "Calculating Fib(9)\n",
            "Calculating Fib(8)\n",
            "Calculating Fib(7)\n",
            "Calculating Fib(6)\n",
            "Calculating Fib(5)\n",
            "Calculating Fib(4)\n",
            "Calculating Fib(3)\n"
          ],
          "name": "stdout"
        },
        {
          "output_type": "execute_result",
          "data": {
            "text/plain": [
              "55"
            ]
          },
          "metadata": {
            "tags": []
          },
          "execution_count": 108
        }
      ]
    },
    {
      "cell_type": "code",
      "metadata": {
        "id": "6bs_-C5nhHf-",
        "outputId": "06589152-25ff-43f1-87be-198feb14b770",
        "colab": {
          "base_uri": "https://localhost:8080/",
          "height": 67
        }
      },
      "source": [
        "fib(12)"
      ],
      "execution_count": 109,
      "outputs": [
        {
          "output_type": "stream",
          "text": [
            "Calculating Fib(12)\n",
            "Calculating Fib(11)\n"
          ],
          "name": "stdout"
        },
        {
          "output_type": "execute_result",
          "data": {
            "text/plain": [
              "144"
            ]
          },
          "metadata": {
            "tags": []
          },
          "execution_count": 109
        }
      ]
    },
    {
      "cell_type": "code",
      "metadata": {
        "id": "EJ-GCp2khPBU"
      },
      "source": [
        "def memoize_fn(fn):\n",
        "  cache = dict()\n",
        "\n",
        "  def inner(n):\n",
        "    if n not in cache:\n",
        "      cache[n] = fn(n)\n",
        "    return (cache[n])\n",
        "  return inner\n",
        "\n",
        "@memoize_fn\n",
        "def fib(n):\n",
        "  print(f\"Calculating fib({n})\")\n",
        "  return 1 if n < 3 else  fib(n - 1) + fib( n - 2)\n",
        "     "
      ],
      "execution_count": 111,
      "outputs": []
    },
    {
      "cell_type": "code",
      "metadata": {
        "id": "E5Rpmm5uh4kK",
        "outputId": "4d3634bc-8463-48be-e98f-aa13e4a4a536",
        "colab": {
          "base_uri": "https://localhost:8080/",
          "height": 200
        }
      },
      "source": [
        "fib(10)"
      ],
      "execution_count": 112,
      "outputs": [
        {
          "output_type": "stream",
          "text": [
            "Calculating fib(10)\n",
            "Calculating fib(9)\n",
            "Calculating fib(8)\n",
            "Calculating fib(7)\n",
            "Calculating fib(6)\n",
            "Calculating fib(5)\n",
            "Calculating fib(4)\n",
            "Calculating fib(3)\n",
            "Calculating fib(2)\n",
            "Calculating fib(1)\n"
          ],
          "name": "stdout"
        },
        {
          "output_type": "execute_result",
          "data": {
            "text/plain": [
              "55"
            ]
          },
          "metadata": {
            "tags": []
          },
          "execution_count": 112
        }
      ]
    },
    {
      "cell_type": "code",
      "metadata": {
        "id": "tW8c0WcBiAGS",
        "outputId": "9d2ae52a-f5df-4b21-ea2d-2c741af52b23",
        "colab": {
          "base_uri": "https://localhost:8080/",
          "height": 117
        }
      },
      "source": [
        "fib(15)"
      ],
      "execution_count": 113,
      "outputs": [
        {
          "output_type": "stream",
          "text": [
            "Calculating fib(15)\n",
            "Calculating fib(14)\n",
            "Calculating fib(13)\n",
            "Calculating fib(12)\n",
            "Calculating fib(11)\n"
          ],
          "name": "stdout"
        },
        {
          "output_type": "execute_result",
          "data": {
            "text/plain": [
              "610"
            ]
          },
          "metadata": {
            "tags": []
          },
          "execution_count": 113
        }
      ]
    },
    {
      "cell_type": "code",
      "metadata": {
        "id": "m4KjCTbNiB3s"
      },
      "source": [
        "def memoize(fn):\n",
        "  cache = dict()\n",
        "\n",
        "  def inner(n):\n",
        "    if n not in cache:\n",
        "      cache[n] = fn(n)\n",
        "    return (cache[n])\n",
        "  return inner\n",
        "\n",
        "@memoize\n",
        "def fact(n):\n",
        "  print(f\"Calculating fact({n})\")\n",
        "  return 1 if n < 2 else  n* fact( n - 1)\n",
        "     "
      ],
      "execution_count": 125,
      "outputs": []
    },
    {
      "cell_type": "code",
      "metadata": {
        "id": "wLzNIDq7iYpb",
        "outputId": "dc61c30f-6c31-4f23-b7a6-c58da9256141",
        "colab": {
          "base_uri": "https://localhost:8080/",
          "height": 117
        }
      },
      "source": [
        "fact(5)"
      ],
      "execution_count": 126,
      "outputs": [
        {
          "output_type": "stream",
          "text": [
            "Calculating fact(5)\n",
            "Calculating fact(4)\n",
            "Calculating fact(3)\n",
            "Calculating fact(2)\n",
            "Calculating fact(1)\n"
          ],
          "name": "stdout"
        },
        {
          "output_type": "execute_result",
          "data": {
            "text/plain": [
              "120"
            ]
          },
          "metadata": {
            "tags": []
          },
          "execution_count": 126
        }
      ]
    },
    {
      "cell_type": "code",
      "metadata": {
        "id": "ywwwq9H6icei",
        "outputId": "ef4be20c-3fac-4989-8d1f-732c9bdac9b0",
        "colab": {
          "base_uri": "https://localhost:8080/",
          "height": 117
        }
      },
      "source": [
        "fact(10)"
      ],
      "execution_count": 127,
      "outputs": [
        {
          "output_type": "stream",
          "text": [
            "Calculating fact(10)\n",
            "Calculating fact(9)\n",
            "Calculating fact(8)\n",
            "Calculating fact(7)\n",
            "Calculating fact(6)\n"
          ],
          "name": "stdout"
        },
        {
          "output_type": "execute_result",
          "data": {
            "text/plain": [
              "3628800"
            ]
          },
          "metadata": {
            "tags": []
          },
          "execution_count": 127
        }
      ]
    },
    {
      "cell_type": "code",
      "metadata": {
        "id": "peDfseZSitXc"
      },
      "source": [
        "def fact(n):\n",
        "  print(f\"Calculating fact({n})\")\n",
        "  return 1 if n < 2 else  n* fact( n - 1)\n",
        "     "
      ],
      "execution_count": 128,
      "outputs": []
    },
    {
      "cell_type": "code",
      "metadata": {
        "id": "rB0n07uOjWBl",
        "outputId": "2fb2c7b1-65c4-4381-a494-ac20abcd518e",
        "colab": {
          "base_uri": "https://localhost:8080/",
          "height": 200
        }
      },
      "source": [
        "fact(10)"
      ],
      "execution_count": 129,
      "outputs": [
        {
          "output_type": "stream",
          "text": [
            "Calculating fact(10)\n",
            "Calculating fact(9)\n",
            "Calculating fact(8)\n",
            "Calculating fact(7)\n",
            "Calculating fact(6)\n",
            "Calculating fact(5)\n",
            "Calculating fact(4)\n",
            "Calculating fact(3)\n",
            "Calculating fact(2)\n",
            "Calculating fact(1)\n"
          ],
          "name": "stdout"
        },
        {
          "output_type": "execute_result",
          "data": {
            "text/plain": [
              "3628800"
            ]
          },
          "metadata": {
            "tags": []
          },
          "execution_count": 129
        }
      ]
    },
    {
      "cell_type": "code",
      "metadata": {
        "id": "81zzNNVLjW7p",
        "outputId": "bdc6c0af-5925-42b6-e557-c77affdffd9e",
        "colab": {
          "base_uri": "https://localhost:8080/",
          "height": 150
        }
      },
      "source": [
        "fact(7)"
      ],
      "execution_count": 130,
      "outputs": [
        {
          "output_type": "stream",
          "text": [
            "Calculating fact(7)\n",
            "Calculating fact(6)\n",
            "Calculating fact(5)\n",
            "Calculating fact(4)\n",
            "Calculating fact(3)\n",
            "Calculating fact(2)\n",
            "Calculating fact(1)\n"
          ],
          "name": "stdout"
        },
        {
          "output_type": "execute_result",
          "data": {
            "text/plain": [
              "5040"
            ]
          },
          "metadata": {
            "tags": []
          },
          "execution_count": 130
        }
      ]
    },
    {
      "cell_type": "code",
      "metadata": {
        "id": "kIYYOYiWjYE5",
        "outputId": "eb60bf3f-33a0-4ea3-d290-44d1b60361c1",
        "colab": {
          "base_uri": "https://localhost:8080/",
          "height": 233
        }
      },
      "source": [
        "fact(12)"
      ],
      "execution_count": 131,
      "outputs": [
        {
          "output_type": "stream",
          "text": [
            "Calculating fact(12)\n",
            "Calculating fact(11)\n",
            "Calculating fact(10)\n",
            "Calculating fact(9)\n",
            "Calculating fact(8)\n",
            "Calculating fact(7)\n",
            "Calculating fact(6)\n",
            "Calculating fact(5)\n",
            "Calculating fact(4)\n",
            "Calculating fact(3)\n",
            "Calculating fact(2)\n",
            "Calculating fact(1)\n"
          ],
          "name": "stdout"
        },
        {
          "output_type": "execute_result",
          "data": {
            "text/plain": [
              "479001600"
            ]
          },
          "metadata": {
            "tags": []
          },
          "execution_count": 131
        }
      ]
    },
    {
      "cell_type": "code",
      "metadata": {
        "id": "FokgRVDija3a"
      },
      "source": [
        "from functools import lru_cache"
      ],
      "execution_count": 132,
      "outputs": []
    },
    {
      "cell_type": "code",
      "metadata": {
        "id": "wlxIxp3Xjf61"
      },
      "source": [
        "@lru_cache()\n",
        "def fact(n):\n",
        "  print(f\"Calculating fact({n})\")\n",
        "  return 1 if n < 2 else  n* fact( n - 1)\n",
        "     "
      ],
      "execution_count": 133,
      "outputs": []
    },
    {
      "cell_type": "code",
      "metadata": {
        "id": "BIxLH5zgjiQG",
        "outputId": "44c12c13-3daf-4fdc-a9bb-399eb728cabe",
        "colab": {
          "base_uri": "https://localhost:8080/",
          "height": 200
        }
      },
      "source": [
        "fact(10)"
      ],
      "execution_count": 134,
      "outputs": [
        {
          "output_type": "stream",
          "text": [
            "Calculating fact(10)\n",
            "Calculating fact(9)\n",
            "Calculating fact(8)\n",
            "Calculating fact(7)\n",
            "Calculating fact(6)\n",
            "Calculating fact(5)\n",
            "Calculating fact(4)\n",
            "Calculating fact(3)\n",
            "Calculating fact(2)\n",
            "Calculating fact(1)\n"
          ],
          "name": "stdout"
        },
        {
          "output_type": "execute_result",
          "data": {
            "text/plain": [
              "3628800"
            ]
          },
          "metadata": {
            "tags": []
          },
          "execution_count": 134
        }
      ]
    },
    {
      "cell_type": "code",
      "metadata": {
        "id": "whRK4rQKjjOC",
        "outputId": "2ad7cdf9-44ad-427b-f91d-8395e8548381",
        "colab": {
          "base_uri": "https://localhost:8080/",
          "height": 33
        }
      },
      "source": [
        "fact(1)"
      ],
      "execution_count": 135,
      "outputs": [
        {
          "output_type": "execute_result",
          "data": {
            "text/plain": [
              "1"
            ]
          },
          "metadata": {
            "tags": []
          },
          "execution_count": 135
        }
      ]
    },
    {
      "cell_type": "code",
      "metadata": {
        "id": "NT4Q2Gh4jkwE",
        "outputId": "776a760d-0817-4542-cb9d-8e1c4ca38d4b",
        "colab": {
          "base_uri": "https://localhost:8080/",
          "height": 50
        }
      },
      "source": [
        "fact(11)"
      ],
      "execution_count": 136,
      "outputs": [
        {
          "output_type": "stream",
          "text": [
            "Calculating fact(11)\n"
          ],
          "name": "stdout"
        },
        {
          "output_type": "execute_result",
          "data": {
            "text/plain": [
              "39916800"
            ]
          },
          "metadata": {
            "tags": []
          },
          "execution_count": 136
        }
      ]
    },
    {
      "cell_type": "code",
      "metadata": {
        "id": "6kLy1BzsjmQV"
      },
      "source": [
        "@lru_cache(maxsize = 8)\n",
        "def fact(n):\n",
        "  print(f\"Calculating fact({n})\")\n",
        "  return 1 if n < 2 else  n* fact( n - 1)\n",
        "     "
      ],
      "execution_count": 137,
      "outputs": []
    },
    {
      "cell_type": "code",
      "metadata": {
        "id": "smFz6t4cj_NK",
        "outputId": "106c7fe7-d1f4-4cfd-fab6-eabaab6bfccb",
        "colab": {
          "base_uri": "https://localhost:8080/",
          "height": 167
        }
      },
      "source": [
        "fact(8)"
      ],
      "execution_count": 138,
      "outputs": [
        {
          "output_type": "stream",
          "text": [
            "Calculating fact(8)\n",
            "Calculating fact(7)\n",
            "Calculating fact(6)\n",
            "Calculating fact(5)\n",
            "Calculating fact(4)\n",
            "Calculating fact(3)\n",
            "Calculating fact(2)\n",
            "Calculating fact(1)\n"
          ],
          "name": "stdout"
        },
        {
          "output_type": "execute_result",
          "data": {
            "text/plain": [
              "40320"
            ]
          },
          "metadata": {
            "tags": []
          },
          "execution_count": 138
        }
      ]
    },
    {
      "cell_type": "code",
      "metadata": {
        "id": "6ma8WgaVkCPw",
        "outputId": "2e78de12-5138-4e63-a6b2-2df67da56b84",
        "colab": {
          "base_uri": "https://localhost:8080/",
          "height": 33
        }
      },
      "source": [
        "fact(8)"
      ],
      "execution_count": 139,
      "outputs": [
        {
          "output_type": "execute_result",
          "data": {
            "text/plain": [
              "40320"
            ]
          },
          "metadata": {
            "tags": []
          },
          "execution_count": 139
        }
      ]
    },
    {
      "cell_type": "code",
      "metadata": {
        "id": "eYisAE_XkDxe",
        "outputId": "49e4c3e2-67e7-4d5f-c457-d754bdf84a6a",
        "colab": {
          "base_uri": "https://localhost:8080/",
          "height": 50
        }
      },
      "source": [
        "fact(9)"
      ],
      "execution_count": 140,
      "outputs": [
        {
          "output_type": "stream",
          "text": [
            "Calculating fact(9)\n"
          ],
          "name": "stdout"
        },
        {
          "output_type": "execute_result",
          "data": {
            "text/plain": [
              "362880"
            ]
          },
          "metadata": {
            "tags": []
          },
          "execution_count": 140
        }
      ]
    },
    {
      "cell_type": "code",
      "metadata": {
        "id": "UFmn1grSkGfN",
        "outputId": "5534fa70-fbb8-4e51-aff6-f5b6b839b031",
        "colab": {
          "base_uri": "https://localhost:8080/",
          "height": 50
        }
      },
      "source": [
        "fact(1)"
      ],
      "execution_count": 141,
      "outputs": [
        {
          "output_type": "stream",
          "text": [
            "Calculating fact(1)\n"
          ],
          "name": "stdout"
        },
        {
          "output_type": "execute_result",
          "data": {
            "text/plain": [
              "1"
            ]
          },
          "metadata": {
            "tags": []
          },
          "execution_count": 141
        }
      ]
    },
    {
      "cell_type": "code",
      "metadata": {
        "id": "9_IQ_zbEkHyL",
        "outputId": "9387ea4c-4410-46a6-a671-3eb3851fd761",
        "colab": {
          "base_uri": "https://localhost:8080/",
          "height": 50
        }
      },
      "source": [
        "fact(2)"
      ],
      "execution_count": 142,
      "outputs": [
        {
          "output_type": "stream",
          "text": [
            "Calculating fact(2)\n"
          ],
          "name": "stdout"
        },
        {
          "output_type": "execute_result",
          "data": {
            "text/plain": [
              "2"
            ]
          },
          "metadata": {
            "tags": []
          },
          "execution_count": 142
        }
      ]
    },
    {
      "cell_type": "code",
      "metadata": {
        "id": "XpA5oGc_kIoC",
        "outputId": "26ec651f-d841-4cd5-f536-8fdf1abb9d48",
        "colab": {
          "base_uri": "https://localhost:8080/",
          "height": 50
        }
      },
      "source": [
        "fact(3)"
      ],
      "execution_count": 143,
      "outputs": [
        {
          "output_type": "stream",
          "text": [
            "Calculating fact(3)\n"
          ],
          "name": "stdout"
        },
        {
          "output_type": "execute_result",
          "data": {
            "text/plain": [
              "6"
            ]
          },
          "metadata": {
            "tags": []
          },
          "execution_count": 143
        }
      ]
    },
    {
      "cell_type": "code",
      "metadata": {
        "id": "nZXOYDHtkJ-Q",
        "outputId": "bd6f74ac-94fc-4caa-e20c-aed51739cc92",
        "colab": {
          "base_uri": "https://localhost:8080/",
          "height": 50
        }
      },
      "source": [
        "fact(4)"
      ],
      "execution_count": 144,
      "outputs": [
        {
          "output_type": "stream",
          "text": [
            "Calculating fact(4)\n"
          ],
          "name": "stdout"
        },
        {
          "output_type": "execute_result",
          "data": {
            "text/plain": [
              "24"
            ]
          },
          "metadata": {
            "tags": []
          },
          "execution_count": 144
        }
      ]
    },
    {
      "cell_type": "code",
      "metadata": {
        "id": "vX7chrP3kM6g",
        "outputId": "e227accf-e9e9-4451-c507-2f078b8c33eb",
        "colab": {
          "base_uri": "https://localhost:8080/",
          "height": 33
        }
      },
      "source": [
        "fact(8)"
      ],
      "execution_count": 145,
      "outputs": [
        {
          "output_type": "execute_result",
          "data": {
            "text/plain": [
              "40320"
            ]
          },
          "metadata": {
            "tags": []
          },
          "execution_count": 145
        }
      ]
    },
    {
      "cell_type": "code",
      "metadata": {
        "id": "RiKGSfa7kOPC",
        "outputId": "6f6ff2b5-9c56-4e99-c7e9-31bd9263f790",
        "colab": {
          "base_uri": "https://localhost:8080/",
          "height": 33
        }
      },
      "source": [
        "fact(7)"
      ],
      "execution_count": 146,
      "outputs": [
        {
          "output_type": "execute_result",
          "data": {
            "text/plain": [
              "5040"
            ]
          },
          "metadata": {
            "tags": []
          },
          "execution_count": 146
        }
      ]
    },
    {
      "cell_type": "code",
      "metadata": {
        "id": "y9GzLTIMkQRM",
        "outputId": "5dd2f9f3-dc29-4ff8-a756-b8bf4714bc4b",
        "colab": {
          "base_uri": "https://localhost:8080/",
          "height": 33
        }
      },
      "source": [
        "fact(6)"
      ],
      "execution_count": 147,
      "outputs": [
        {
          "output_type": "execute_result",
          "data": {
            "text/plain": [
              "720"
            ]
          },
          "metadata": {
            "tags": []
          },
          "execution_count": 147
        }
      ]
    },
    {
      "cell_type": "code",
      "metadata": {
        "id": "QStbbKs8kRmx",
        "outputId": "3159ee30-954a-4204-d146-f8a4244b9d7b",
        "colab": {
          "base_uri": "https://localhost:8080/",
          "height": 33
        }
      },
      "source": [
        "fact(8)"
      ],
      "execution_count": 148,
      "outputs": [
        {
          "output_type": "execute_result",
          "data": {
            "text/plain": [
              "40320"
            ]
          },
          "metadata": {
            "tags": []
          },
          "execution_count": 148
        }
      ]
    },
    {
      "cell_type": "code",
      "metadata": {
        "id": "Jo-dihs_kS9T"
      },
      "source": [
        "def calc_fib_recursive(n):\n",
        "  return 1 if n < 3 else calc_fib_recursive(n - 1) + calc_fib_recursive(n - 2)\n",
        "\n",
        "def fib(n):\n",
        "  return (calc_fib_recursive(n))"
      ],
      "execution_count": 149,
      "outputs": []
    },
    {
      "cell_type": "code",
      "metadata": {
        "id": "jxNqZFOxmjA3",
        "outputId": "96cb705a-f4ed-4b19-fff2-9ebc835db14f",
        "colab": {
          "base_uri": "https://localhost:8080/",
          "height": 33
        }
      },
      "source": [
        "fib(10)"
      ],
      "execution_count": 150,
      "outputs": [
        {
          "output_type": "execute_result",
          "data": {
            "text/plain": [
              "55"
            ]
          },
          "metadata": {
            "tags": []
          },
          "execution_count": 150
        }
      ]
    },
    {
      "cell_type": "code",
      "metadata": {
        "id": "ROe6WcLvmlOV"
      },
      "source": [
        "def dec(fn):\n",
        "   print(\"running dec\")\n",
        "   def inner(*args , **kwargs):\n",
        "     print(\"running inner\")\n",
        "     return fn(*args , **kwargs)\n",
        "   return inner\n",
        "   \n",
        "\n"
      ],
      "execution_count": 151,
      "outputs": []
    },
    {
      "cell_type": "code",
      "metadata": {
        "id": "moZDpIbhnJyq",
        "outputId": "66bba723-def0-4289-ac72-0c156dc0d6bf",
        "colab": {
          "base_uri": "https://localhost:8080/",
          "height": 33
        }
      },
      "source": [
        "@dec\n",
        "def my_func():\n",
        "  print(\"running my_func\")"
      ],
      "execution_count": 152,
      "outputs": [
        {
          "output_type": "stream",
          "text": [
            " running dec\n"
          ],
          "name": "stdout"
        }
      ]
    },
    {
      "cell_type": "code",
      "metadata": {
        "id": "xNtNbBuLnRLj",
        "outputId": "aed1bc8a-26af-4bc0-eb13-f6a602ee62ea",
        "colab": {
          "base_uri": "https://localhost:8080/",
          "height": 50
        }
      },
      "source": [
        "my_func()"
      ],
      "execution_count": 153,
      "outputs": [
        {
          "output_type": "stream",
          "text": [
            "running inner\n",
            "running my_func\n"
          ],
          "name": "stdout"
        }
      ]
    },
    {
      "cell_type": "code",
      "metadata": {
        "id": "Srk-tMbKnSP6"
      },
      "source": [
        "def timed(reps):\n",
        "\n",
        "  def timed_decorator(fn):\n",
        "    from time import perf_counter\n",
        "    def inner(*args , **kwargs):\n",
        "      total_elapsed = 0\n",
        "      for i in range(reps):\n",
        "        start = perf_counter()\n",
        "        result = fn(*args , **kwargs)\n",
        "        stop =  perf_counter()\n",
        "        total_elapsed += (stop - start)\n",
        "\n",
        "      avg_elapsed_time = total_elapsed/reps\n",
        "      print(f\" Avg Run Time : {avg_elapsed_time}\")\n",
        "      return(result)\n",
        "    return(inner)\n",
        "  return(timed_decorator)\n",
        "\n",
        "\n"
      ],
      "execution_count": 157,
      "outputs": []
    },
    {
      "cell_type": "code",
      "metadata": {
        "id": "5F68vg71sk4c"
      },
      "source": [
        "def calc_fib_recursive(n):\n",
        "  return 1 if n < 3 else calc_fib_recursive(n - 1) + calc_fib_recursive(n - 2)\n",
        "@timed(10)\n",
        "def fib(n):\n",
        "  return (calc_fib_recursive(n))"
      ],
      "execution_count": 162,
      "outputs": []
    },
    {
      "cell_type": "code",
      "metadata": {
        "id": "cvDTWsolstap",
        "outputId": "811db798-6faf-4d94-dde8-e3233b799960",
        "colab": {
          "base_uri": "https://localhost:8080/",
          "height": 50
        }
      },
      "source": [
        "fib(36)"
      ],
      "execution_count": 165,
      "outputs": [
        {
          "output_type": "stream",
          "text": [
            " Avg Run Time : 3.208867647200259\n"
          ],
          "name": "stdout"
        },
        {
          "output_type": "execute_result",
          "data": {
            "text/plain": [
              "14930352"
            ]
          },
          "metadata": {
            "tags": []
          },
          "execution_count": 165
        }
      ]
    },
    {
      "cell_type": "code",
      "metadata": {
        "id": "M2Srtz9ptMgZ"
      },
      "source": [
        "class MyClass :\n",
        "  def __init__(self, a, b):\n",
        "    self.a = a\n",
        "    self.b = b\n",
        "\n",
        "  def __call__(self,fn):\n",
        "    def inner(*args , **kwargs):\n",
        "      print(f\"Decrorated function called a = {self.a} , b = {self.b} \")\n",
        "      return fn(*args , **kwargs)\n",
        "    return (inner)\n"
      ],
      "execution_count": 166,
      "outputs": []
    },
    {
      "cell_type": "code",
      "metadata": {
        "id": "UG3iuR4qvAum"
      },
      "source": [
        "@MyClass(20,30)\n",
        "def my_func(s):\n",
        "  print(f\"{s} called my_func\")"
      ],
      "execution_count": 167,
      "outputs": []
    },
    {
      "cell_type": "code",
      "metadata": {
        "id": "BRfbpfAAvN8f",
        "outputId": "ac3e8b6e-a98f-4040-df7e-ed1edf2be1e3",
        "colab": {
          "base_uri": "https://localhost:8080/",
          "height": 50
        }
      },
      "source": [
        "my_func(\"sagar\")"
      ],
      "execution_count": 168,
      "outputs": [
        {
          "output_type": "stream",
          "text": [
            "Decrorated function called a = 20 , b = 30 \n",
            "sagar called my_func\n"
          ],
          "name": "stdout"
        }
      ]
    },
    {
      "cell_type": "markdown",
      "metadata": {
        "id": "qxxL4AtmvfKR"
      },
      "source": [
        "## Monkey Patching"
      ]
    },
    {
      "cell_type": "code",
      "metadata": {
        "id": "AaRqvNkrvQcm"
      },
      "source": [
        "from fractions import Fraction"
      ],
      "execution_count": 170,
      "outputs": []
    },
    {
      "cell_type": "code",
      "metadata": {
        "id": "WP5HUetDvk0V"
      },
      "source": [
        "f = Fraction(2,3)"
      ],
      "execution_count": 171,
      "outputs": []
    },
    {
      "cell_type": "code",
      "metadata": {
        "id": "8Dzk72pEvpYY",
        "outputId": "beea5ce7-2b34-4514-bd35-6bf2c9a6df8d",
        "colab": {
          "base_uri": "https://localhost:8080/",
          "height": 33
        }
      },
      "source": [
        "f.denominator"
      ],
      "execution_count": 172,
      "outputs": [
        {
          "output_type": "execute_result",
          "data": {
            "text/plain": [
              "3"
            ]
          },
          "metadata": {
            "tags": []
          },
          "execution_count": 172
        }
      ]
    },
    {
      "cell_type": "code",
      "metadata": {
        "id": "oFlW8N6xvrNU"
      },
      "source": [
        "Fraction.purchase_monkeys = \"Purchased Monkey\""
      ],
      "execution_count": 173,
      "outputs": []
    },
    {
      "cell_type": "code",
      "metadata": {
        "id": "6khpl7SSvyyM",
        "outputId": "75fccc50-60a5-447c-b5ab-27e527806a9d",
        "colab": {
          "base_uri": "https://localhost:8080/",
          "height": 35
        }
      },
      "source": [
        "Fraction.purchase_monkeys"
      ],
      "execution_count": 174,
      "outputs": [
        {
          "output_type": "execute_result",
          "data": {
            "application/vnd.google.colaboratory.intrinsic+json": {
              "type": "string"
            },
            "text/plain": [
              "'Purchased Monkey'"
            ]
          },
          "metadata": {
            "tags": []
          },
          "execution_count": 174
        }
      ]
    },
    {
      "cell_type": "code",
      "metadata": {
        "id": "Rql13mYUv0zx",
        "outputId": "ab091156-44fc-455d-ced1-e1ad2bcc55df",
        "colab": {
          "base_uri": "https://localhost:8080/",
          "height": 1000
        }
      },
      "source": [
        "help(Fraction)"
      ],
      "execution_count": 175,
      "outputs": [
        {
          "output_type": "stream",
          "text": [
            "Help on class Fraction in module fractions:\n",
            "\n",
            "class Fraction(numbers.Rational)\n",
            " |  This class implements rational numbers.\n",
            " |  \n",
            " |  In the two-argument form of the constructor, Fraction(8, 6) will\n",
            " |  produce a rational number equivalent to 4/3. Both arguments must\n",
            " |  be Rational. The numerator defaults to 0 and the denominator\n",
            " |  defaults to 1 so that Fraction(3) == 3 and Fraction() == 0.\n",
            " |  \n",
            " |  Fractions can also be constructed from:\n",
            " |  \n",
            " |    - numeric strings similar to those accepted by the\n",
            " |      float constructor (for example, '-2.3' or '1e10')\n",
            " |  \n",
            " |    - strings of the form '123/456'\n",
            " |  \n",
            " |    - float and Decimal instances\n",
            " |  \n",
            " |    - other Rational instances (including integers)\n",
            " |  \n",
            " |  Method resolution order:\n",
            " |      Fraction\n",
            " |      numbers.Rational\n",
            " |      numbers.Real\n",
            " |      numbers.Complex\n",
            " |      numbers.Number\n",
            " |      builtins.object\n",
            " |  \n",
            " |  Methods defined here:\n",
            " |  \n",
            " |  __abs__(a)\n",
            " |      abs(a)\n",
            " |  \n",
            " |  __add__(a, b)\n",
            " |      a + b\n",
            " |  \n",
            " |  __bool__(a)\n",
            " |      a != 0\n",
            " |  \n",
            " |  __ceil__(a)\n",
            " |      Will be math.ceil(a) in 3.0.\n",
            " |  \n",
            " |  __copy__(self)\n",
            " |  \n",
            " |  __deepcopy__(self, memo)\n",
            " |  \n",
            " |  __eq__(a, b)\n",
            " |      a == b\n",
            " |  \n",
            " |  __floor__(a)\n",
            " |      Will be math.floor(a) in 3.0.\n",
            " |  \n",
            " |  __floordiv__(a, b)\n",
            " |      a // b\n",
            " |  \n",
            " |  __ge__(a, b)\n",
            " |      a >= b\n",
            " |  \n",
            " |  __gt__(a, b)\n",
            " |      a > b\n",
            " |  \n",
            " |  __hash__(self)\n",
            " |      hash(self)\n",
            " |  \n",
            " |  __le__(a, b)\n",
            " |      a <= b\n",
            " |  \n",
            " |  __lt__(a, b)\n",
            " |      a < b\n",
            " |  \n",
            " |  __mod__(a, b)\n",
            " |      a % b\n",
            " |  \n",
            " |  __mul__(a, b)\n",
            " |      a * b\n",
            " |  \n",
            " |  __neg__(a)\n",
            " |      -a\n",
            " |  \n",
            " |  __pos__(a)\n",
            " |      +a: Coerces a subclass instance to Fraction\n",
            " |  \n",
            " |  __pow__(a, b)\n",
            " |      a ** b\n",
            " |      \n",
            " |      If b is not an integer, the result will be a float or complex\n",
            " |      since roots are generally irrational. If b is an integer, the\n",
            " |      result will be rational.\n",
            " |  \n",
            " |  __radd__(b, a)\n",
            " |      a + b\n",
            " |  \n",
            " |  __reduce__(self)\n",
            " |      helper for pickle\n",
            " |  \n",
            " |  __repr__(self)\n",
            " |      repr(self)\n",
            " |  \n",
            " |  __rfloordiv__(b, a)\n",
            " |      a // b\n",
            " |  \n",
            " |  __rmod__(b, a)\n",
            " |      a % b\n",
            " |  \n",
            " |  __rmul__(b, a)\n",
            " |      a * b\n",
            " |  \n",
            " |  __round__(self, ndigits=None)\n",
            " |      Will be round(self, ndigits) in 3.0.\n",
            " |      \n",
            " |      Rounds half toward even.\n",
            " |  \n",
            " |  __rpow__(b, a)\n",
            " |      a ** b\n",
            " |  \n",
            " |  __rsub__(b, a)\n",
            " |      a - b\n",
            " |  \n",
            " |  __rtruediv__(b, a)\n",
            " |      a / b\n",
            " |  \n",
            " |  __str__(self)\n",
            " |      str(self)\n",
            " |  \n",
            " |  __sub__(a, b)\n",
            " |      a - b\n",
            " |  \n",
            " |  __truediv__(a, b)\n",
            " |      a / b\n",
            " |  \n",
            " |  __trunc__(a)\n",
            " |      trunc(a)\n",
            " |  \n",
            " |  limit_denominator(self, max_denominator=1000000)\n",
            " |      Closest Fraction to self with denominator at most max_denominator.\n",
            " |      \n",
            " |      >>> Fraction('3.141592653589793').limit_denominator(10)\n",
            " |      Fraction(22, 7)\n",
            " |      >>> Fraction('3.141592653589793').limit_denominator(100)\n",
            " |      Fraction(311, 99)\n",
            " |      >>> Fraction(4321, 8765).limit_denominator(10000)\n",
            " |      Fraction(4321, 8765)\n",
            " |  \n",
            " |  ----------------------------------------------------------------------\n",
            " |  Class methods defined here:\n",
            " |  \n",
            " |  from_decimal(dec) from abc.ABCMeta\n",
            " |      Converts a finite Decimal instance to a rational number, exactly.\n",
            " |  \n",
            " |  from_float(f) from abc.ABCMeta\n",
            " |      Converts a finite float to a rational number, exactly.\n",
            " |      \n",
            " |      Beware that Fraction.from_float(0.3) != Fraction(3, 10).\n",
            " |  \n",
            " |  ----------------------------------------------------------------------\n",
            " |  Static methods defined here:\n",
            " |  \n",
            " |  __new__(cls, numerator=0, denominator=None, *, _normalize=True)\n",
            " |      Constructs a Rational.\n",
            " |      \n",
            " |      Takes a string like '3/2' or '1.5', another Rational instance, a\n",
            " |      numerator/denominator pair, or a float.\n",
            " |      \n",
            " |      Examples\n",
            " |      --------\n",
            " |      \n",
            " |      >>> Fraction(10, -8)\n",
            " |      Fraction(-5, 4)\n",
            " |      >>> Fraction(Fraction(1, 7), 5)\n",
            " |      Fraction(1, 35)\n",
            " |      >>> Fraction(Fraction(1, 7), Fraction(2, 3))\n",
            " |      Fraction(3, 14)\n",
            " |      >>> Fraction('314')\n",
            " |      Fraction(314, 1)\n",
            " |      >>> Fraction('-35/4')\n",
            " |      Fraction(-35, 4)\n",
            " |      >>> Fraction('3.1415') # conversion from numeric string\n",
            " |      Fraction(6283, 2000)\n",
            " |      >>> Fraction('-47e-2') # string may include a decimal exponent\n",
            " |      Fraction(-47, 100)\n",
            " |      >>> Fraction(1.47)  # direct construction from float (exact conversion)\n",
            " |      Fraction(6620291452234629, 4503599627370496)\n",
            " |      >>> Fraction(2.25)\n",
            " |      Fraction(9, 4)\n",
            " |      >>> Fraction(Decimal('1.47'))\n",
            " |      Fraction(147, 100)\n",
            " |  \n",
            " |  ----------------------------------------------------------------------\n",
            " |  Data descriptors defined here:\n",
            " |  \n",
            " |  denominator\n",
            " |  \n",
            " |  numerator\n",
            " |  \n",
            " |  ----------------------------------------------------------------------\n",
            " |  Data and other attributes defined here:\n",
            " |  \n",
            " |  __abstractmethods__ = frozenset()\n",
            " |  \n",
            " |  purchase_monkeys = 'Purchased Monkey'\n",
            " |  \n",
            " |  ----------------------------------------------------------------------\n",
            " |  Methods inherited from numbers.Rational:\n",
            " |  \n",
            " |  __float__(self)\n",
            " |      float(self) = self.numerator / self.denominator\n",
            " |      \n",
            " |      It's important that this conversion use the integer's \"true\"\n",
            " |      division rather than casting one side to float before dividing\n",
            " |      so that ratios of huge integers convert without overflowing.\n",
            " |  \n",
            " |  ----------------------------------------------------------------------\n",
            " |  Methods inherited from numbers.Real:\n",
            " |  \n",
            " |  __complex__(self)\n",
            " |      complex(self) == complex(float(self), 0)\n",
            " |  \n",
            " |  __divmod__(self, other)\n",
            " |      divmod(self, other): The pair (self // other, self % other).\n",
            " |      \n",
            " |      Sometimes this can be computed faster than the pair of\n",
            " |      operations.\n",
            " |  \n",
            " |  __rdivmod__(self, other)\n",
            " |      divmod(other, self): The pair (self // other, self % other).\n",
            " |      \n",
            " |      Sometimes this can be computed faster than the pair of\n",
            " |      operations.\n",
            " |  \n",
            " |  conjugate(self)\n",
            " |      Conjugate is a no-op for Reals.\n",
            " |  \n",
            " |  ----------------------------------------------------------------------\n",
            " |  Data descriptors inherited from numbers.Real:\n",
            " |  \n",
            " |  imag\n",
            " |      Real numbers have no imaginary component.\n",
            " |  \n",
            " |  real\n",
            " |      Real numbers are their real component.\n",
            "\n"
          ],
          "name": "stdout"
        }
      ]
    },
    {
      "cell_type": "code",
      "metadata": {
        "id": "Pz7oXIUPv2hZ",
        "outputId": "f77e875c-eeb0-426b-fafd-5b059dacbca3",
        "colab": {
          "base_uri": "https://localhost:8080/",
          "height": 35
        }
      },
      "source": [
        "f.purchase_monkeys"
      ],
      "execution_count": 176,
      "outputs": [
        {
          "output_type": "execute_result",
          "data": {
            "application/vnd.google.colaboratory.intrinsic+json": {
              "type": "string"
            },
            "text/plain": [
              "'Purchased Monkey'"
            ]
          },
          "metadata": {
            "tags": []
          },
          "execution_count": 176
        }
      ]
    },
    {
      "cell_type": "code",
      "metadata": {
        "id": "CW4nmRwPwBfC"
      },
      "source": [
        "x = Fraction(2,4)"
      ],
      "execution_count": 177,
      "outputs": []
    },
    {
      "cell_type": "code",
      "metadata": {
        "id": "Sxqm7zGNwFmv",
        "outputId": "8463b79f-0e8f-46ae-9287-97d0d463ae1e",
        "colab": {
          "base_uri": "https://localhost:8080/",
          "height": 35
        }
      },
      "source": [
        "x.purchase_monkeys"
      ],
      "execution_count": 178,
      "outputs": [
        {
          "output_type": "execute_result",
          "data": {
            "application/vnd.google.colaboratory.intrinsic+json": {
              "type": "string"
            },
            "text/plain": [
              "'Purchased Monkey'"
            ]
          },
          "metadata": {
            "tags": []
          },
          "execution_count": 178
        }
      ]
    },
    {
      "cell_type": "code",
      "metadata": {
        "id": "knfo1oTlwGOS"
      },
      "source": [
        "Fraction.custom_function = lambda self , message : f\"Purchased {message} number of monkeys\""
      ],
      "execution_count": 179,
      "outputs": []
    },
    {
      "cell_type": "code",
      "metadata": {
        "id": "BaKtOW4IwUBP",
        "outputId": "0e60ebe4-cad2-470e-e975-d72bf5708c31",
        "colab": {
          "base_uri": "https://localhost:8080/",
          "height": 35
        }
      },
      "source": [
        "f.custom_function(100)"
      ],
      "execution_count": 180,
      "outputs": [
        {
          "output_type": "execute_result",
          "data": {
            "application/vnd.google.colaboratory.intrinsic+json": {
              "type": "string"
            },
            "text/plain": [
              "'Purchased 100 number of monkeys'"
            ]
          },
          "metadata": {
            "tags": []
          },
          "execution_count": 180
        }
      ]
    },
    {
      "cell_type": "code",
      "metadata": {
        "id": "uOdKQgFnwWd1"
      },
      "source": [
        "## Check weather a fraction is an integer or not\n",
        "\n",
        "Fraction.isinteger = lambda self : self.denominator == 1"
      ],
      "execution_count": 181,
      "outputs": []
    },
    {
      "cell_type": "code",
      "metadata": {
        "id": "mH0cqqI8wswP",
        "outputId": "9a56f4a9-521f-42f5-bdb8-646e5feb1292",
        "colab": {
          "base_uri": "https://localhost:8080/",
          "height": 33
        }
      },
      "source": [
        "f.isinteger()"
      ],
      "execution_count": 182,
      "outputs": [
        {
          "output_type": "execute_result",
          "data": {
            "text/plain": [
              "False"
            ]
          },
          "metadata": {
            "tags": []
          },
          "execution_count": 182
        }
      ]
    },
    {
      "cell_type": "code",
      "metadata": {
        "id": "RoQu4Cw7wvJs",
        "outputId": "5f7028a6-51fc-4bc7-f1da-e8df4be72ed7",
        "colab": {
          "base_uri": "https://localhost:8080/",
          "height": 33
        }
      },
      "source": [
        " f2= Fraction(8,4)\n",
        " f2.isinteger()"
      ],
      "execution_count": 183,
      "outputs": [
        {
          "output_type": "execute_result",
          "data": {
            "text/plain": [
              "True"
            ]
          },
          "metadata": {
            "tags": []
          },
          "execution_count": 183
        }
      ]
    },
    {
      "cell_type": "code",
      "metadata": {
        "id": "weRBS3VEw2TT"
      },
      "source": [
        "from datetime import datetime , timezone"
      ],
      "execution_count": 184,
      "outputs": []
    },
    {
      "cell_type": "code",
      "metadata": {
        "id": "asePaepIx1xb"
      },
      "source": [
        "def info(obj):\n",
        "  result = []\n",
        "  result.append(f'time : {datetime.now(timezone.utc)}')\n",
        "  result.append(f'Class : {obj.__class__.__name__}')\n",
        "  result.append(f'id :  {hex(id(obj))}')\n",
        "  for k,v in vars(obj).items() :\n",
        "    result.append(f\"{k}:{v}\")\n",
        "  return result"
      ],
      "execution_count": 187,
      "outputs": []
    },
    {
      "cell_type": "code",
      "metadata": {
        "id": "OwDmB0QuytDO"
      },
      "source": [
        "def debug_info(cls):\n",
        "  cls.debug = info\n",
        "  return cls"
      ],
      "execution_count": 188,
      "outputs": []
    },
    {
      "cell_type": "code",
      "metadata": {
        "id": "j8rHN7odzBCZ"
      },
      "source": [
        "@debug_info\n",
        "class Person:\n",
        "  def __init__(self,name,dob):\n",
        "    self.name = name\n",
        "    self.dob = dob\n",
        "  def say_hi():\n",
        "    return(\"hello there!\")"
      ],
      "execution_count": 189,
      "outputs": []
    },
    {
      "cell_type": "code",
      "metadata": {
        "id": "x3In22EkzYZV"
      },
      "source": [
        "p1 = Person(\"sagar\",\"17 july 1996\")"
      ],
      "execution_count": 190,
      "outputs": []
    },
    {
      "cell_type": "code",
      "metadata": {
        "id": "dEb5rNeizfx_",
        "outputId": "57ba8888-c42a-494a-aa9b-64cc4194db15",
        "colab": {
          "base_uri": "https://localhost:8080/",
          "height": 100
        }
      },
      "source": [
        "p1.debug()"
      ],
      "execution_count": 192,
      "outputs": [
        {
          "output_type": "execute_result",
          "data": {
            "text/plain": [
              "['time : 2020-10-11 08:37:56.911736+00:00',\n",
              " 'Class : Person',\n",
              " 'id :  0x7f2d37473f98',\n",
              " 'name:sagar',\n",
              " 'dob:17 july 1996']"
            ]
          },
          "metadata": {
            "tags": []
          },
          "execution_count": 192
        }
      ]
    },
    {
      "cell_type": "code",
      "metadata": {
        "id": "dRimOScwzh1N"
      },
      "source": [
        "def odd_sec(fn):\n",
        "    \"\"\"\n",
        "    To ensure that the function runs only in odd seconds.\n",
        "    \"\"\"\n",
        "    @wraps(fn)\n",
        "    def inner(*args, **kwargs):\n",
        "        run_time = datetime.now().time().second\n",
        "        result = fn(*args, **kwargs)\n",
        "        if run_time % 2 == 1:\n",
        "            return result\n",
        "        print('The number of seconds should be an odd number')\n",
        "    return inner"
      ],
      "execution_count": 198,
      "outputs": []
    },
    {
      "cell_type": "code",
      "metadata": {
        "id": "uEAK3GuO4Cmi"
      },
      "source": [
        "@odd_sec\n",
        "def add(x,y):\n",
        "  return(x+y)"
      ],
      "execution_count": 199,
      "outputs": []
    },
    {
      "cell_type": "code",
      "metadata": {
        "id": "mr86CKEV4JAY",
        "outputId": "757b42ac-7763-4688-8319-10504665e964",
        "colab": {
          "base_uri": "https://localhost:8080/",
          "height": 1000
        }
      },
      "source": [
        "for i in range(2000):\n",
        "  print(i, \":\",add(1,2))"
      ],
      "execution_count": 203,
      "outputs": [
        {
          "output_type": "stream",
          "text": [
            "The number of seconds should be an odd number\n",
            "0 : None\n",
            "The number of seconds should be an odd number\n",
            "1 : None\n",
            "The number of seconds should be an odd number\n",
            "2 : None\n",
            "The number of seconds should be an odd number\n",
            "3 : None\n",
            "The number of seconds should be an odd number\n",
            "4 : None\n",
            "The number of seconds should be an odd number\n",
            "5 : None\n",
            "The number of seconds should be an odd number\n",
            "6 : None\n",
            "The number of seconds should be an odd number\n",
            "7 : None\n",
            "The number of seconds should be an odd number\n",
            "8 : None\n",
            "The number of seconds should be an odd number\n",
            "9 : None\n",
            "The number of seconds should be an odd number\n",
            "10 : None\n",
            "The number of seconds should be an odd number\n",
            "11 : None\n",
            "The number of seconds should be an odd number\n",
            "12 : None\n",
            "The number of seconds should be an odd number\n",
            "13 : None\n",
            "The number of seconds should be an odd number\n",
            "14 : None\n",
            "The number of seconds should be an odd number\n",
            "15 : None\n",
            "The number of seconds should be an odd number\n",
            "16 : None\n",
            "The number of seconds should be an odd number\n",
            "17 : None\n",
            "The number of seconds should be an odd number\n",
            "18 : None\n",
            "The number of seconds should be an odd number\n",
            "19 : None\n",
            "The number of seconds should be an odd number\n",
            "20 : None\n",
            "The number of seconds should be an odd number\n",
            "21 : None\n",
            "The number of seconds should be an odd number\n",
            "22 : None\n",
            "The number of seconds should be an odd number\n",
            "23 : None\n",
            "The number of seconds should be an odd number\n",
            "24 : None\n",
            "The number of seconds should be an odd number\n",
            "25 : None\n",
            "The number of seconds should be an odd number\n",
            "26 : None\n",
            "The number of seconds should be an odd number\n",
            "27 : None\n",
            "The number of seconds should be an odd number\n",
            "28 : None\n",
            "The number of seconds should be an odd number\n",
            "29 : None\n",
            "The number of seconds should be an odd number\n",
            "30 : None\n",
            "The number of seconds should be an odd number\n",
            "31 : None\n",
            "The number of seconds should be an odd number\n",
            "32 : None\n",
            "The number of seconds should be an odd number\n",
            "33 : None\n",
            "The number of seconds should be an odd number\n",
            "34 : None\n",
            "The number of seconds should be an odd number\n",
            "35 : None\n",
            "The number of seconds should be an odd number\n",
            "36 : None\n",
            "The number of seconds should be an odd number\n",
            "37 : None\n",
            "The number of seconds should be an odd number\n",
            "38 : None\n",
            "The number of seconds should be an odd number\n",
            "39 : None\n",
            "The number of seconds should be an odd number\n",
            "40 : None\n",
            "The number of seconds should be an odd number\n",
            "41 : None\n",
            "The number of seconds should be an odd number\n",
            "42 : None\n",
            "The number of seconds should be an odd number\n",
            "43 : None\n",
            "The number of seconds should be an odd number\n",
            "44 : None\n",
            "The number of seconds should be an odd number\n",
            "45 : None\n",
            "The number of seconds should be an odd number\n",
            "46 : None\n",
            "The number of seconds should be an odd number\n",
            "47 : None\n",
            "The number of seconds should be an odd number\n",
            "48 : None\n",
            "The number of seconds should be an odd number\n",
            "49 : None\n",
            "The number of seconds should be an odd number\n",
            "50 : None\n",
            "The number of seconds should be an odd number\n",
            "51 : None\n",
            "The number of seconds should be an odd number\n",
            "52 : None\n",
            "The number of seconds should be an odd number\n",
            "53 : None\n",
            "The number of seconds should be an odd number\n",
            "54 : None\n",
            "The number of seconds should be an odd number\n",
            "55 : None\n",
            "The number of seconds should be an odd number\n",
            "56 : None\n",
            "The number of seconds should be an odd number\n",
            "57 : None\n",
            "The number of seconds should be an odd number\n",
            "58 : None\n",
            "The number of seconds should be an odd number\n",
            "59 : None\n",
            "The number of seconds should be an odd number\n",
            "60 : None\n",
            "The number of seconds should be an odd number\n",
            "61 : None\n",
            "The number of seconds should be an odd number\n",
            "62 : None\n",
            "The number of seconds should be an odd number\n",
            "63 : None\n",
            "The number of seconds should be an odd number\n",
            "64 : None\n",
            "The number of seconds should be an odd number\n",
            "65 : None\n",
            "The number of seconds should be an odd number\n",
            "66 : None\n",
            "The number of seconds should be an odd number\n",
            "67 : None\n",
            "The number of seconds should be an odd number\n",
            "68 : None\n",
            "The number of seconds should be an odd number\n",
            "69 : None\n",
            "The number of seconds should be an odd number\n",
            "70 : None\n",
            "The number of seconds should be an odd number\n",
            "71 : None\n",
            "The number of seconds should be an odd number\n",
            "72 : None\n",
            "The number of seconds should be an odd number\n",
            "73 : None\n",
            "The number of seconds should be an odd number\n",
            "74 : None\n",
            "The number of seconds should be an odd number\n",
            "75 : None\n",
            "The number of seconds should be an odd number\n",
            "76 : None\n",
            "The number of seconds should be an odd number\n",
            "77 : None\n",
            "The number of seconds should be an odd number\n",
            "78 : None\n",
            "The number of seconds should be an odd number\n",
            "79 : None\n",
            "The number of seconds should be an odd number\n",
            "80 : None\n",
            "The number of seconds should be an odd number\n",
            "81 : None\n",
            "The number of seconds should be an odd number\n",
            "82 : None\n",
            "The number of seconds should be an odd number\n",
            "83 : None\n",
            "The number of seconds should be an odd number\n",
            "84 : None\n",
            "The number of seconds should be an odd number\n",
            "85 : None\n",
            "The number of seconds should be an odd number\n",
            "86 : None\n",
            "The number of seconds should be an odd number\n",
            "87 : None\n",
            "The number of seconds should be an odd number\n",
            "88 : None\n",
            "The number of seconds should be an odd number\n",
            "89 : None\n",
            "The number of seconds should be an odd number\n",
            "90 : None\n",
            "The number of seconds should be an odd number\n",
            "91 : None\n",
            "The number of seconds should be an odd number\n",
            "92 : None\n",
            "The number of seconds should be an odd number\n",
            "93 : None\n",
            "The number of seconds should be an odd number\n",
            "94 : None\n",
            "The number of seconds should be an odd number\n",
            "95 : None\n",
            "The number of seconds should be an odd number\n",
            "96 : None\n",
            "The number of seconds should be an odd number\n",
            "97 : None\n",
            "The number of seconds should be an odd number\n",
            "98 : None\n",
            "The number of seconds should be an odd number\n",
            "99 : None\n",
            "The number of seconds should be an odd number\n",
            "100 : None\n",
            "The number of seconds should be an odd number\n",
            "101 : None\n",
            "The number of seconds should be an odd number\n",
            "102 : None\n",
            "The number of seconds should be an odd number\n",
            "103 : None\n",
            "The number of seconds should be an odd number\n",
            "104 : None\n",
            "The number of seconds should be an odd number\n",
            "105 : None\n",
            "The number of seconds should be an odd number\n",
            "106 : None\n",
            "The number of seconds should be an odd number\n",
            "107 : None\n",
            "The number of seconds should be an odd number\n",
            "108 : None\n",
            "The number of seconds should be an odd number\n",
            "109 : None\n",
            "The number of seconds should be an odd number\n",
            "110 : None\n",
            "The number of seconds should be an odd number\n",
            "111 : None\n",
            "The number of seconds should be an odd number\n",
            "112 : None\n",
            "The number of seconds should be an odd number\n",
            "113 : None\n",
            "The number of seconds should be an odd number\n",
            "114 : None\n",
            "The number of seconds should be an odd number\n",
            "115 : None\n",
            "The number of seconds should be an odd number\n",
            "116 : None\n",
            "The number of seconds should be an odd number\n",
            "117 : None\n",
            "The number of seconds should be an odd number\n",
            "118 : None\n",
            "The number of seconds should be an odd number\n",
            "119 : None\n",
            "The number of seconds should be an odd number\n",
            "120 : None\n",
            "The number of seconds should be an odd number\n",
            "121 : None\n",
            "The number of seconds should be an odd number\n",
            "122 : None\n",
            "The number of seconds should be an odd number\n",
            "123 : None\n",
            "The number of seconds should be an odd number\n",
            "124 : None\n",
            "The number of seconds should be an odd number\n",
            "125 : None\n",
            "The number of seconds should be an odd number\n",
            "126 : None\n",
            "The number of seconds should be an odd number\n",
            "127 : None\n",
            "The number of seconds should be an odd number\n",
            "128 : None\n",
            "The number of seconds should be an odd number\n",
            "129 : None\n",
            "The number of seconds should be an odd number\n",
            "130 : None\n",
            "The number of seconds should be an odd number\n",
            "131 : None\n",
            "The number of seconds should be an odd number\n",
            "132 : None\n",
            "The number of seconds should be an odd number\n",
            "133 : None\n",
            "The number of seconds should be an odd number\n",
            "134 : None\n",
            "The number of seconds should be an odd number\n",
            "135 : None\n",
            "The number of seconds should be an odd number\n",
            "136 : None\n",
            "The number of seconds should be an odd number\n",
            "137 : None\n",
            "The number of seconds should be an odd number\n",
            "138 : None\n",
            "The number of seconds should be an odd number\n",
            "139 : None\n",
            "The number of seconds should be an odd number\n",
            "140 : None\n",
            "The number of seconds should be an odd number\n",
            "141 : None\n",
            "The number of seconds should be an odd number\n",
            "142 : None\n",
            "The number of seconds should be an odd number\n",
            "143 : None\n",
            "The number of seconds should be an odd number\n",
            "144 : None\n",
            "The number of seconds should be an odd number\n",
            "145 : None\n",
            "The number of seconds should be an odd number\n",
            "146 : None\n",
            "The number of seconds should be an odd number\n",
            "147 : None\n",
            "The number of seconds should be an odd number\n",
            "148 : None\n",
            "The number of seconds should be an odd number\n",
            "149 : None\n",
            "The number of seconds should be an odd number\n",
            "150 : None\n",
            "The number of seconds should be an odd number\n",
            "151 : None\n",
            "The number of seconds should be an odd number\n",
            "152 : None\n",
            "The number of seconds should be an odd number\n",
            "153 : None\n",
            "The number of seconds should be an odd number\n",
            "154 : None\n",
            "The number of seconds should be an odd number\n",
            "155 : None\n",
            "The number of seconds should be an odd number\n",
            "156 : None\n",
            "The number of seconds should be an odd number\n",
            "157 : None\n",
            "The number of seconds should be an odd number\n",
            "158 : None\n",
            "The number of seconds should be an odd number\n",
            "159 : None\n",
            "The number of seconds should be an odd number\n",
            "160 : None\n",
            "The number of seconds should be an odd number\n",
            "161 : None\n",
            "The number of seconds should be an odd number\n",
            "162 : None\n",
            "The number of seconds should be an odd number\n",
            "163 : None\n",
            "The number of seconds should be an odd number\n",
            "164 : None\n",
            "The number of seconds should be an odd number\n",
            "165 : None\n",
            "The number of seconds should be an odd number\n",
            "166 : None\n",
            "The number of seconds should be an odd number\n",
            "167 : None\n",
            "The number of seconds should be an odd number\n",
            "168 : None\n",
            "The number of seconds should be an odd number\n",
            "169 : None\n",
            "The number of seconds should be an odd number\n",
            "170 : None\n",
            "The number of seconds should be an odd number\n",
            "171 : None\n",
            "The number of seconds should be an odd number\n",
            "172 : None\n",
            "The number of seconds should be an odd number\n",
            "173 : None\n",
            "The number of seconds should be an odd number\n",
            "174 : None\n",
            "The number of seconds should be an odd number\n",
            "175 : None\n",
            "The number of seconds should be an odd number\n",
            "176 : None\n",
            "The number of seconds should be an odd number\n",
            "177 : None\n",
            "The number of seconds should be an odd number\n",
            "178 : None\n",
            "The number of seconds should be an odd number\n",
            "179 : None\n",
            "The number of seconds should be an odd number\n",
            "180 : None\n",
            "The number of seconds should be an odd number\n",
            "181 : None\n",
            "The number of seconds should be an odd number\n",
            "182 : None\n",
            "The number of seconds should be an odd number\n",
            "183 : None\n",
            "The number of seconds should be an odd number\n",
            "184 : None\n",
            "The number of seconds should be an odd number\n",
            "185 : None\n",
            "The number of seconds should be an odd number\n",
            "186 : None\n",
            "The number of seconds should be an odd number\n",
            "187 : None\n",
            "The number of seconds should be an odd number\n",
            "188 : None\n",
            "The number of seconds should be an odd number\n",
            "189 : None\n",
            "The number of seconds should be an odd number\n",
            "190 : None\n",
            "The number of seconds should be an odd number\n",
            "191 : None\n",
            "The number of seconds should be an odd number\n",
            "192 : None\n",
            "The number of seconds should be an odd number\n",
            "193 : None\n",
            "The number of seconds should be an odd number\n",
            "194 : None\n",
            "The number of seconds should be an odd number\n",
            "195 : None\n",
            "The number of seconds should be an odd number\n",
            "196 : None\n",
            "The number of seconds should be an odd number\n",
            "197 : None\n",
            "The number of seconds should be an odd number\n",
            "198 : None\n",
            "The number of seconds should be an odd number\n",
            "199 : None\n",
            "The number of seconds should be an odd number\n",
            "200 : None\n",
            "The number of seconds should be an odd number\n",
            "201 : None\n",
            "The number of seconds should be an odd number\n",
            "202 : None\n",
            "The number of seconds should be an odd number\n",
            "203 : None\n",
            "The number of seconds should be an odd number\n",
            "204 : None\n",
            "The number of seconds should be an odd number\n",
            "205 : None\n",
            "The number of seconds should be an odd number\n",
            "206 : None\n",
            "The number of seconds should be an odd number\n",
            "207 : None\n",
            "The number of seconds should be an odd number\n",
            "208 : None\n",
            "The number of seconds should be an odd number\n",
            "209 : None\n",
            "The number of seconds should be an odd number\n",
            "210 : None\n",
            "The number of seconds should be an odd number\n",
            "211 : None\n",
            "The number of seconds should be an odd number\n",
            "212 : None\n",
            "The number of seconds should be an odd number\n",
            "213 : None\n",
            "The number of seconds should be an odd number\n",
            "214 : None\n",
            "The number of seconds should be an odd number\n",
            "215 : None\n",
            "The number of seconds should be an odd number\n",
            "216 : None\n",
            "The number of seconds should be an odd number\n",
            "217 : None\n",
            "The number of seconds should be an odd number\n",
            "218 : None\n",
            "The number of seconds should be an odd number\n",
            "219 : None\n",
            "The number of seconds should be an odd number\n",
            "220 : None\n",
            "The number of seconds should be an odd number\n",
            "221 : None\n",
            "The number of seconds should be an odd number\n",
            "222 : None\n",
            "The number of seconds should be an odd number\n",
            "223 : None\n",
            "The number of seconds should be an odd number\n",
            "224 : None\n",
            "The number of seconds should be an odd number\n",
            "225 : None\n",
            "The number of seconds should be an odd number\n",
            "226 : None\n",
            "The number of seconds should be an odd number\n",
            "227 : None\n",
            "The number of seconds should be an odd number\n",
            "228 : None\n",
            "The number of seconds should be an odd number\n",
            "229 : None\n",
            "The number of seconds should be an odd number\n",
            "230 : None\n",
            "The number of seconds should be an odd number\n",
            "231 : None\n",
            "The number of seconds should be an odd number\n",
            "232 : None\n",
            "The number of seconds should be an odd number\n",
            "233 : None\n",
            "The number of seconds should be an odd number\n",
            "234 : None\n",
            "The number of seconds should be an odd number\n",
            "235 : None\n",
            "The number of seconds should be an odd number\n",
            "236 : None\n",
            "The number of seconds should be an odd number\n",
            "237 : None\n",
            "The number of seconds should be an odd number\n",
            "238 : None\n",
            "The number of seconds should be an odd number\n",
            "239 : None\n",
            "The number of seconds should be an odd number\n",
            "240 : None\n",
            "The number of seconds should be an odd number\n",
            "241 : None\n",
            "The number of seconds should be an odd number\n",
            "242 : None\n",
            "The number of seconds should be an odd number\n",
            "243 : None\n",
            "The number of seconds should be an odd number\n",
            "244 : None\n",
            "The number of seconds should be an odd number\n",
            "245 : None\n",
            "The number of seconds should be an odd number\n",
            "246 : None\n",
            "The number of seconds should be an odd number\n",
            "247 : None\n",
            "The number of seconds should be an odd number\n",
            "248 : None\n",
            "The number of seconds should be an odd number\n",
            "249 : None\n",
            "The number of seconds should be an odd number\n",
            "250 : None\n",
            "The number of seconds should be an odd number\n",
            "251 : None\n",
            "The number of seconds should be an odd number\n",
            "252 : None\n",
            "The number of seconds should be an odd number\n",
            "253 : None\n",
            "The number of seconds should be an odd number\n",
            "254 : None\n",
            "The number of seconds should be an odd number\n",
            "255 : None\n",
            "The number of seconds should be an odd number\n",
            "256 : None\n",
            "The number of seconds should be an odd number\n",
            "257 : None\n",
            "The number of seconds should be an odd number\n",
            "258 : None\n",
            "The number of seconds should be an odd number\n",
            "259 : None\n",
            "The number of seconds should be an odd number\n",
            "260 : None\n",
            "The number of seconds should be an odd number\n",
            "261 : None\n",
            "The number of seconds should be an odd number\n",
            "262 : None\n",
            "The number of seconds should be an odd number\n",
            "263 : None\n",
            "The number of seconds should be an odd number\n",
            "264 : None\n",
            "The number of seconds should be an odd number\n",
            "265 : None\n",
            "The number of seconds should be an odd number\n",
            "266 : None\n",
            "The number of seconds should be an odd number\n",
            "267 : None\n",
            "The number of seconds should be an odd number\n",
            "268 : None\n",
            "The number of seconds should be an odd number\n",
            "269 : None\n",
            "The number of seconds should be an odd number\n",
            "270 : None\n",
            "The number of seconds should be an odd number\n",
            "271 : None\n",
            "The number of seconds should be an odd number\n",
            "272 : None\n",
            "The number of seconds should be an odd number\n",
            "273 : None\n",
            "The number of seconds should be an odd number\n",
            "274 : None\n",
            "The number of seconds should be an odd number\n",
            "275 : None\n",
            "The number of seconds should be an odd number\n",
            "276 : None\n",
            "The number of seconds should be an odd number\n",
            "277 : None\n",
            "The number of seconds should be an odd number\n",
            "278 : None\n",
            "The number of seconds should be an odd number\n",
            "279 : None\n",
            "The number of seconds should be an odd number\n",
            "280 : None\n",
            "The number of seconds should be an odd number\n",
            "281 : None\n",
            "The number of seconds should be an odd number\n",
            "282 : None\n",
            "The number of seconds should be an odd number\n",
            "283 : None\n",
            "The number of seconds should be an odd number\n",
            "284 : None\n",
            "The number of seconds should be an odd number\n",
            "285 : None\n",
            "The number of seconds should be an odd number\n",
            "286 : None\n",
            "The number of seconds should be an odd number\n",
            "287 : None\n",
            "The number of seconds should be an odd number\n",
            "288 : None\n",
            "The number of seconds should be an odd number\n",
            "289 : None\n",
            "The number of seconds should be an odd number\n",
            "290 : None\n",
            "The number of seconds should be an odd number\n",
            "291 : None\n",
            "The number of seconds should be an odd number\n",
            "292 : None\n",
            "The number of seconds should be an odd number\n",
            "293 : None\n",
            "The number of seconds should be an odd number\n",
            "294 : None\n",
            "The number of seconds should be an odd number\n",
            "295 : None\n",
            "The number of seconds should be an odd number\n",
            "296 : None\n",
            "The number of seconds should be an odd number\n",
            "297 : None\n",
            "The number of seconds should be an odd number\n",
            "298 : None\n",
            "The number of seconds should be an odd number\n",
            "299 : None\n",
            "The number of seconds should be an odd number\n",
            "300 : None\n",
            "The number of seconds should be an odd number\n",
            "301 : None\n",
            "The number of seconds should be an odd number\n",
            "302 : None\n",
            "The number of seconds should be an odd number\n",
            "303 : None\n",
            "The number of seconds should be an odd number\n",
            "304 : None\n",
            "The number of seconds should be an odd number\n",
            "305 : None\n",
            "The number of seconds should be an odd number\n",
            "306 : None\n",
            "The number of seconds should be an odd number\n",
            "307 : None\n",
            "The number of seconds should be an odd number\n",
            "308 : None\n",
            "The number of seconds should be an odd number\n",
            "309 : None\n",
            "The number of seconds should be an odd number\n",
            "310 : None\n",
            "The number of seconds should be an odd number\n",
            "311 : None\n",
            "The number of seconds should be an odd number\n",
            "312 : None\n",
            "The number of seconds should be an odd number\n",
            "313 : None\n",
            "The number of seconds should be an odd number\n",
            "314 : None\n",
            "The number of seconds should be an odd number\n",
            "315 : None\n",
            "The number of seconds should be an odd number\n",
            "316 : None\n",
            "The number of seconds should be an odd number\n",
            "317 : None\n",
            "The number of seconds should be an odd number\n",
            "318 : None\n",
            "The number of seconds should be an odd number\n",
            "319 : None\n",
            "The number of seconds should be an odd number\n",
            "320 : None\n",
            "The number of seconds should be an odd number\n",
            "321 : None\n",
            "The number of seconds should be an odd number\n",
            "322 : None\n",
            "The number of seconds should be an odd number\n",
            "323 : None\n",
            "The number of seconds should be an odd number\n",
            "324 : None\n",
            "The number of seconds should be an odd number\n",
            "325 : None\n",
            "The number of seconds should be an odd number\n",
            "326 : None\n",
            "The number of seconds should be an odd number\n",
            "327 : None\n",
            "The number of seconds should be an odd number\n",
            "328 : None\n",
            "The number of seconds should be an odd number\n",
            "329 : None\n",
            "The number of seconds should be an odd number\n",
            "330 : None\n",
            "The number of seconds should be an odd number\n",
            "331 : None\n",
            "The number of seconds should be an odd number\n",
            "332 : None\n",
            "The number of seconds should be an odd number\n",
            "333 : None\n",
            "The number of seconds should be an odd number\n",
            "334 : None\n",
            "The number of seconds should be an odd number\n",
            "335 : None\n",
            "The number of seconds should be an odd number\n",
            "336 : None\n",
            "The number of seconds should be an odd number\n",
            "337 : None\n",
            "The number of seconds should be an odd number\n",
            "338 : None\n",
            "The number of seconds should be an odd number\n",
            "339 : None\n",
            "The number of seconds should be an odd number\n",
            "340 : None\n",
            "The number of seconds should be an odd number\n",
            "341 : None\n",
            "The number of seconds should be an odd number\n",
            "342 : None\n",
            "The number of seconds should be an odd number\n",
            "343 : None\n",
            "The number of seconds should be an odd number\n",
            "344 : None\n",
            "The number of seconds should be an odd number\n",
            "345 : None\n",
            "The number of seconds should be an odd number\n",
            "346 : None\n",
            "The number of seconds should be an odd number\n",
            "347 : None\n",
            "The number of seconds should be an odd number\n",
            "348 : None\n",
            "The number of seconds should be an odd number\n",
            "349 : None\n",
            "The number of seconds should be an odd number\n",
            "350 : None\n",
            "The number of seconds should be an odd number\n",
            "351 : None\n",
            "The number of seconds should be an odd number\n",
            "352 : None\n",
            "The number of seconds should be an odd number\n",
            "353 : None\n",
            "The number of seconds should be an odd number\n",
            "354 : None\n",
            "The number of seconds should be an odd number\n",
            "355 : None\n",
            "The number of seconds should be an odd number\n",
            "356 : None\n",
            "The number of seconds should be an odd number\n",
            "357 : None\n",
            "The number of seconds should be an odd number\n",
            "358 : None\n",
            "The number of seconds should be an odd number\n",
            "359 : None\n",
            "The number of seconds should be an odd number\n",
            "360 : None\n",
            "The number of seconds should be an odd number\n",
            "361 : None\n",
            "The number of seconds should be an odd number\n",
            "362 : None\n",
            "The number of seconds should be an odd number\n",
            "363 : None\n",
            "The number of seconds should be an odd number\n",
            "364 : None\n",
            "The number of seconds should be an odd number\n",
            "365 : None\n",
            "The number of seconds should be an odd number\n",
            "366 : None\n",
            "The number of seconds should be an odd number\n",
            "367 : None\n",
            "The number of seconds should be an odd number\n",
            "368 : None\n",
            "The number of seconds should be an odd number\n",
            "369 : None\n",
            "The number of seconds should be an odd number\n",
            "370 : None\n",
            "The number of seconds should be an odd number\n",
            "371 : None\n",
            "The number of seconds should be an odd number\n",
            "372 : None\n",
            "The number of seconds should be an odd number\n",
            "373 : None\n",
            "The number of seconds should be an odd number\n",
            "374 : None\n",
            "The number of seconds should be an odd number\n",
            "375 : None\n",
            "The number of seconds should be an odd number\n",
            "376 : None\n",
            "The number of seconds should be an odd number\n",
            "377 : None\n",
            "The number of seconds should be an odd number\n",
            "378 : None\n",
            "The number of seconds should be an odd number\n",
            "379 : None\n",
            "The number of seconds should be an odd number\n",
            "380 : None\n",
            "The number of seconds should be an odd number\n",
            "381 : None\n",
            "The number of seconds should be an odd number\n",
            "382 : None\n",
            "The number of seconds should be an odd number\n",
            "383 : None\n",
            "The number of seconds should be an odd number\n",
            "384 : None\n",
            "The number of seconds should be an odd number\n",
            "385 : None\n",
            "The number of seconds should be an odd number\n",
            "386 : None\n",
            "The number of seconds should be an odd number\n",
            "387 : None\n",
            "The number of seconds should be an odd number\n",
            "388 : None\n",
            "The number of seconds should be an odd number\n",
            "389 : None\n",
            "The number of seconds should be an odd number\n",
            "390 : None\n",
            "The number of seconds should be an odd number\n",
            "391 : None\n",
            "The number of seconds should be an odd number\n",
            "392 : None\n",
            "The number of seconds should be an odd number\n",
            "393 : None\n",
            "The number of seconds should be an odd number\n",
            "394 : None\n",
            "The number of seconds should be an odd number\n",
            "395 : None\n",
            "The number of seconds should be an odd number\n",
            "396 : None\n",
            "The number of seconds should be an odd number\n",
            "397 : None\n",
            "The number of seconds should be an odd number\n",
            "398 : None\n",
            "The number of seconds should be an odd number\n",
            "399 : None\n",
            "The number of seconds should be an odd number\n",
            "400 : None\n",
            "The number of seconds should be an odd number\n",
            "401 : None\n",
            "The number of seconds should be an odd number\n",
            "402 : None\n",
            "The number of seconds should be an odd number\n",
            "403 : None\n",
            "The number of seconds should be an odd number\n",
            "404 : None\n",
            "The number of seconds should be an odd number\n",
            "405 : None\n",
            "The number of seconds should be an odd number\n",
            "406 : None\n",
            "The number of seconds should be an odd number\n",
            "407 : None\n",
            "The number of seconds should be an odd number\n",
            "408 : None\n",
            "The number of seconds should be an odd number\n",
            "409 : None\n",
            "The number of seconds should be an odd number\n",
            "410 : None\n",
            "411 : 3\n",
            "412 : 3\n",
            "413 : 3\n",
            "414 : 3\n",
            "415 : 3\n",
            "416 : 3\n",
            "417 : 3\n",
            "418 : 3\n",
            "419 : 3\n",
            "420 : 3\n",
            "421 : 3\n",
            "422 : 3\n",
            "423 : 3\n",
            "424 : 3\n",
            "425 : 3\n",
            "426 : 3\n",
            "427 : 3\n",
            "428 : 3\n",
            "429 : 3\n",
            "430 : 3\n",
            "431 : 3\n",
            "432 : 3\n",
            "433 : 3\n",
            "434 : 3\n",
            "435 : 3\n",
            "436 : 3\n",
            "437 : 3\n",
            "438 : 3\n",
            "439 : 3\n",
            "440 : 3\n",
            "441 : 3\n",
            "442 : 3\n",
            "443 : 3\n",
            "444 : 3\n",
            "445 : 3\n",
            "446 : 3\n",
            "447 : 3\n",
            "448 : 3\n",
            "449 : 3\n",
            "450 : 3\n",
            "451 : 3\n",
            "452 : 3\n",
            "453 : 3\n",
            "454 : 3\n",
            "455 : 3\n",
            "456 : 3\n",
            "457 : 3\n",
            "458 : 3\n",
            "459 : 3\n",
            "460 : 3\n",
            "461 : 3\n",
            "462 : 3\n",
            "463 : 3\n",
            "464 : 3\n",
            "465 : 3\n",
            "466 : 3\n",
            "467 : 3\n",
            "468 : 3\n",
            "469 : 3\n",
            "470 : 3\n",
            "471 : 3\n",
            "472 : 3\n",
            "473 : 3\n",
            "474 : 3\n",
            "475 : 3\n",
            "476 : 3\n",
            "477 : 3\n",
            "478 : 3\n",
            "479 : 3\n",
            "480 : 3\n",
            "481 : 3\n",
            "482 : 3\n",
            "483 : 3\n",
            "484 : 3\n",
            "485 : 3\n",
            "486 : 3\n",
            "487 : 3\n",
            "488 : 3\n",
            "489 : 3\n",
            "490 : 3\n",
            "491 : 3\n",
            "492 : 3\n",
            "493 : 3\n",
            "494 : 3\n",
            "495 : 3\n",
            "496 : 3\n",
            "497 : 3\n",
            "498 : 3\n",
            "499 : 3\n",
            "500 : 3\n",
            "501 : 3\n",
            "502 : 3\n",
            "503 : 3\n",
            "504 : 3\n",
            "505 : 3\n",
            "506 : 3\n",
            "507 : 3\n",
            "508 : 3\n",
            "509 : 3\n",
            "510 : 3\n",
            "511 : 3\n",
            "512 : 3\n",
            "513 : 3\n",
            "514 : 3\n",
            "515 : 3\n",
            "516 : 3\n",
            "517 : 3\n",
            "518 : 3\n",
            "519 : 3\n",
            "520 : 3\n",
            "521 : 3\n",
            "522 : 3\n",
            "523 : 3\n",
            "524 : 3\n",
            "525 : 3\n",
            "526 : 3\n",
            "527 : 3\n",
            "528 : 3\n",
            "529 : 3\n",
            "530 : 3\n",
            "531 : 3\n",
            "532 : 3\n",
            "533 : 3\n",
            "534 : 3\n",
            "535 : 3\n",
            "536 : 3\n",
            "537 : 3\n",
            "538 : 3\n",
            "539 : 3\n",
            "540 : 3\n",
            "541 : 3\n",
            "542 : 3\n",
            "543 : 3\n",
            "544 : 3\n",
            "545 : 3\n",
            "546 : 3\n",
            "547 : 3\n",
            "548 : 3\n",
            "549 : 3\n",
            "550 : 3\n",
            "551 : 3\n",
            "552 : 3\n",
            "553 : 3\n",
            "554 : 3\n",
            "555 : 3\n",
            "556 : 3\n",
            "557 : 3\n",
            "558 : 3\n",
            "559 : 3\n",
            "560 : 3\n",
            "561 : 3\n",
            "562 : 3\n",
            "563 : 3\n",
            "564 : 3\n",
            "565 : 3\n",
            "566 : 3\n",
            "567 : 3\n",
            "568 : 3\n",
            "569 : 3\n",
            "570 : 3\n",
            "571 : 3\n",
            "572 : 3\n",
            "573 : 3\n",
            "574 : 3\n",
            "575 : 3\n",
            "576 : 3\n",
            "577 : 3\n",
            "578 : 3\n",
            "579 : 3\n",
            "580 : 3\n",
            "581 : 3\n",
            "582 : 3\n",
            "583 : 3\n",
            "584 : 3\n",
            "585 : 3\n",
            "586 : 3\n",
            "587 : 3\n",
            "588 : 3\n",
            "589 : 3\n",
            "590 : 3\n",
            "591 : 3\n",
            "592 : 3\n",
            "593 : 3\n",
            "594 : 3\n",
            "595 : 3\n",
            "596 : 3\n",
            "597 : 3\n",
            "598 : 3\n",
            "599 : 3\n",
            "600 : 3\n",
            "601 : 3\n",
            "602 : 3\n",
            "603 : 3\n",
            "604 : 3\n",
            "605 : 3\n",
            "606 : 3\n",
            "607 : 3\n",
            "608 : 3\n",
            "609 : 3\n",
            "610 : 3\n",
            "611 : 3\n",
            "612 : 3\n",
            "613 : 3\n",
            "614 : 3\n",
            "615 : 3\n",
            "616 : 3\n",
            "617 : 3\n",
            "618 : 3\n",
            "619 : 3\n",
            "620 : 3\n",
            "621 : 3\n",
            "622 : 3\n",
            "623 : 3\n",
            "624 : 3\n",
            "625 : 3\n",
            "626 : 3\n",
            "627 : 3\n",
            "628 : 3\n",
            "629 : 3\n",
            "630 : 3\n",
            "631 : 3\n",
            "632 : 3\n",
            "633 : 3\n",
            "634 : 3\n",
            "635 : 3\n",
            "636 : 3\n",
            "637 : 3\n",
            "638 : 3\n",
            "639 : 3\n",
            "640 : 3\n",
            "641 : 3\n",
            "642 : 3\n",
            "643 : 3\n",
            "644 : 3\n",
            "645 : 3\n",
            "646 : 3\n",
            "647 : 3\n",
            "648 : 3\n",
            "649 : 3\n",
            "650 : 3\n",
            "651 : 3\n",
            "652 : 3\n",
            "653 : 3\n",
            "654 : 3\n",
            "655 : 3\n",
            "656 : 3\n",
            "657 : 3\n",
            "658 : 3\n",
            "659 : 3\n",
            "660 : 3\n",
            "661 : 3\n",
            "662 : 3\n",
            "663 : 3\n",
            "664 : 3\n",
            "665 : 3\n",
            "666 : 3\n",
            "667 : 3\n",
            "668 : 3\n",
            "669 : 3\n",
            "670 : 3\n",
            "671 : 3\n",
            "672 : 3\n",
            "673 : 3\n",
            "674 : 3\n",
            "675 : 3\n",
            "676 : 3\n",
            "677 : 3\n",
            "678 : 3\n",
            "679 : 3\n",
            "680 : 3\n",
            "681 : 3\n",
            "682 : 3\n",
            "683 : 3\n",
            "684 : 3\n",
            "685 : 3\n",
            "686 : 3\n",
            "687 : 3\n",
            "688 : 3\n",
            "689 : 3\n",
            "690 : 3\n",
            "691 : 3\n",
            "692 : 3\n",
            "693 : 3\n",
            "694 : 3\n",
            "695 : 3\n",
            "696 : 3\n",
            "697 : 3\n",
            "698 : 3\n",
            "699 : 3\n",
            "700 : 3\n",
            "701 : 3\n",
            "702 : 3\n",
            "703 : 3\n",
            "704 : 3\n",
            "705 : 3\n",
            "706 : 3\n",
            "707 : 3\n",
            "708 : 3\n",
            "709 : 3\n",
            "710 : 3\n",
            "711 : 3\n",
            "712 : 3\n",
            "713 : 3\n",
            "714 : 3\n",
            "715 : 3\n",
            "716 : 3\n",
            "717 : 3\n",
            "718 : 3\n",
            "719 : 3\n",
            "720 : 3\n",
            "721 : 3\n",
            "722 : 3\n",
            "723 : 3\n",
            "724 : 3\n",
            "725 : 3\n",
            "726 : 3\n",
            "727 : 3\n",
            "728 : 3\n",
            "729 : 3\n",
            "730 : 3\n",
            "731 : 3\n",
            "732 : 3\n",
            "733 : 3\n",
            "734 : 3\n",
            "735 : 3\n",
            "736 : 3\n",
            "737 : 3\n",
            "738 : 3\n",
            "739 : 3\n",
            "740 : 3\n",
            "741 : 3\n",
            "742 : 3\n",
            "743 : 3\n",
            "744 : 3\n",
            "745 : 3\n",
            "746 : 3\n",
            "747 : 3\n",
            "748 : 3\n",
            "749 : 3\n",
            "750 : 3\n",
            "751 : 3\n",
            "752 : 3\n",
            "753 : 3\n",
            "754 : 3\n",
            "755 : 3\n",
            "756 : 3\n",
            "757 : 3\n",
            "758 : 3\n",
            "759 : 3\n",
            "760 : 3\n",
            "761 : 3\n",
            "762 : 3\n",
            "763 : 3\n",
            "764 : 3\n",
            "765 : 3\n",
            "766 : 3\n",
            "767 : 3\n",
            "768 : 3\n",
            "769 : 3\n",
            "770 : 3\n",
            "771 : 3\n",
            "772 : 3\n",
            "773 : 3\n",
            "774 : 3\n",
            "775 : 3\n",
            "776 : 3\n",
            "777 : 3\n",
            "778 : 3\n",
            "779 : 3\n",
            "780 : 3\n",
            "781 : 3\n",
            "782 : 3\n",
            "783 : 3\n",
            "784 : 3\n",
            "785 : 3\n",
            "786 : 3\n",
            "787 : 3\n",
            "788 : 3\n",
            "789 : 3\n",
            "790 : 3\n",
            "791 : 3\n",
            "792 : 3\n",
            "793 : 3\n",
            "794 : 3\n",
            "795 : 3\n",
            "796 : 3\n",
            "797 : 3\n",
            "798 : 3\n",
            "799 : 3\n",
            "800 : 3\n",
            "801 : 3\n",
            "802 : 3\n",
            "803 : 3\n",
            "804 : 3\n",
            "805 : 3\n",
            "806 : 3\n",
            "807 : 3\n",
            "808 : 3\n",
            "809 : 3\n",
            "810 : 3\n",
            "811 : 3\n",
            "812 : 3\n",
            "813 : 3\n",
            "814 : 3\n",
            "815 : 3\n",
            "816 : 3\n",
            "817 : 3\n",
            "818 : 3\n",
            "819 : 3\n",
            "820 : 3\n",
            "821 : 3\n",
            "822 : 3\n",
            "823 : 3\n",
            "824 : 3\n",
            "825 : 3\n",
            "826 : 3\n",
            "827 : 3\n",
            "828 : 3\n",
            "829 : 3\n",
            "830 : 3\n",
            "831 : 3\n",
            "832 : 3\n",
            "833 : 3\n",
            "834 : 3\n",
            "835 : 3\n",
            "836 : 3\n",
            "837 : 3\n",
            "838 : 3\n",
            "839 : 3\n",
            "840 : 3\n",
            "841 : 3\n",
            "842 : 3\n",
            "843 : 3\n",
            "844 : 3\n",
            "845 : 3\n",
            "846 : 3\n",
            "847 : 3\n",
            "848 : 3\n",
            "849 : 3\n",
            "850 : 3\n",
            "851 : 3\n",
            "852 : 3\n",
            "853 : 3\n",
            "854 : 3\n",
            "855 : 3\n",
            "856 : 3\n",
            "857 : 3\n",
            "858 : 3\n",
            "859 : 3\n",
            "860 : 3\n",
            "861 : 3\n",
            "862 : 3\n",
            "863 : 3\n",
            "864 : 3\n",
            "865 : 3\n",
            "866 : 3\n",
            "867 : 3\n",
            "868 : 3\n",
            "869 : 3\n",
            "870 : 3\n",
            "871 : 3\n",
            "872 : 3\n",
            "873 : 3\n",
            "874 : 3\n",
            "875 : 3\n",
            "876 : 3\n",
            "877 : 3\n",
            "878 : 3\n",
            "879 : 3\n",
            "880 : 3\n",
            "881 : 3\n",
            "882 : 3\n",
            "883 : 3\n",
            "884 : 3\n",
            "885 : 3\n",
            "886 : 3\n",
            "887 : 3\n",
            "888 : 3\n",
            "889 : 3\n",
            "890 : 3\n",
            "891 : 3\n",
            "892 : 3\n",
            "893 : 3\n",
            "894 : 3\n",
            "895 : 3\n",
            "896 : 3\n",
            "897 : 3\n",
            "898 : 3\n",
            "899 : 3\n",
            "900 : 3\n",
            "901 : 3\n",
            "902 : 3\n",
            "903 : 3\n",
            "904 : 3\n",
            "905 : 3\n",
            "906 : 3\n",
            "907 : 3\n",
            "908 : 3\n",
            "909 : 3\n",
            "910 : 3\n",
            "911 : 3\n",
            "912 : 3\n",
            "913 : 3\n",
            "914 : 3\n",
            "915 : 3\n",
            "916 : 3\n",
            "917 : 3\n",
            "918 : 3\n",
            "919 : 3\n",
            "920 : 3\n",
            "921 : 3\n",
            "922 : 3\n",
            "923 : 3\n",
            "924 : 3\n",
            "925 : 3\n",
            "926 : 3\n",
            "927 : 3\n",
            "928 : 3\n",
            "929 : 3\n",
            "930 : 3\n",
            "931 : 3\n",
            "932 : 3\n",
            "933 : 3\n",
            "934 : 3\n",
            "935 : 3\n",
            "936 : 3\n",
            "937 : 3\n",
            "938 : 3\n",
            "939 : 3\n",
            "940 : 3\n",
            "941 : 3\n",
            "942 : 3\n",
            "943 : 3\n",
            "944 : 3\n",
            "945 : 3\n",
            "946 : 3\n",
            "947 : 3\n",
            "948 : 3\n",
            "949 : 3\n",
            "950 : 3\n",
            "951 : 3\n",
            "952 : 3\n",
            "953 : 3\n",
            "954 : 3\n",
            "955 : 3\n",
            "956 : 3\n",
            "957 : 3\n",
            "958 : 3\n",
            "959 : 3\n",
            "960 : 3\n",
            "961 : 3\n",
            "962 : 3\n",
            "963 : 3\n",
            "964 : 3\n",
            "965 : 3\n",
            "966 : 3\n",
            "967 : 3\n",
            "968 : 3\n",
            "969 : 3\n",
            "970 : 3\n",
            "971 : 3\n",
            "972 : 3\n",
            "973 : 3\n",
            "974 : 3\n",
            "975 : 3\n",
            "976 : 3\n",
            "977 : 3\n",
            "978 : 3\n",
            "979 : 3\n",
            "980 : 3\n",
            "981 : 3\n",
            "982 : 3\n",
            "983 : 3\n",
            "984 : 3\n",
            "985 : 3\n",
            "986 : 3\n",
            "987 : 3\n",
            "988 : 3\n",
            "989 : 3\n",
            "990 : 3\n",
            "991 : 3\n",
            "992 : 3\n",
            "993 : 3\n",
            "994 : 3\n",
            "995 : 3\n",
            "996 : 3\n",
            "997 : 3\n",
            "998 : 3\n",
            "999 : 3\n",
            "1000 : 3\n",
            "1001 : 3\n",
            "1002 : 3\n",
            "1003 : 3\n",
            "1004 : 3\n",
            "1005 : 3\n",
            "1006 : 3\n",
            "1007 : 3\n",
            "1008 : 3\n",
            "1009 : 3\n",
            "1010 : 3\n",
            "1011 : 3\n",
            "1012 : 3\n",
            "1013 : 3\n",
            "1014 : 3\n",
            "1015 : 3\n",
            "1016 : 3\n",
            "1017 : 3\n",
            "1018 : 3\n",
            "1019 : 3\n",
            "1020 : 3\n",
            "1021 : 3\n",
            "1022 : 3\n",
            "1023 : 3\n",
            "1024 : 3\n",
            "1025 : 3\n",
            "1026 : 3\n",
            "1027 : 3\n",
            "1028 : 3\n",
            "1029 : 3\n",
            "1030 : 3\n",
            "1031 : 3\n",
            "1032 : 3\n",
            "1033 : 3\n",
            "1034 : 3\n",
            "1035 : 3\n",
            "1036 : 3\n",
            "1037 : 3\n",
            "1038 : 3\n",
            "1039 : 3\n",
            "1040 : 3\n",
            "1041 : 3\n",
            "1042 : 3\n",
            "1043 : 3\n",
            "1044 : 3\n",
            "1045 : 3\n",
            "1046 : 3\n",
            "1047 : 3\n",
            "1048 : 3\n",
            "1049 : 3\n",
            "1050 : 3\n",
            "1051 : 3\n",
            "1052 : 3\n",
            "1053 : 3\n",
            "1054 : 3\n",
            "1055 : 3\n",
            "1056 : 3\n",
            "1057 : 3\n",
            "1058 : 3\n",
            "1059 : 3\n",
            "1060 : 3\n",
            "1061 : 3\n",
            "1062 : 3\n",
            "1063 : 3\n",
            "1064 : 3\n",
            "1065 : 3\n",
            "1066 : 3\n",
            "1067 : 3\n",
            "1068 : 3\n",
            "1069 : 3\n",
            "1070 : 3\n",
            "1071 : 3\n",
            "1072 : 3\n",
            "1073 : 3\n",
            "1074 : 3\n",
            "1075 : 3\n",
            "1076 : 3\n",
            "1077 : 3\n",
            "1078 : 3\n",
            "1079 : 3\n",
            "1080 : 3\n",
            "1081 : 3\n",
            "1082 : 3\n",
            "1083 : 3\n",
            "1084 : 3\n",
            "1085 : 3\n",
            "1086 : 3\n",
            "1087 : 3\n",
            "1088 : 3\n",
            "1089 : 3\n",
            "1090 : 3\n",
            "1091 : 3\n",
            "1092 : 3\n",
            "1093 : 3\n",
            "1094 : 3\n",
            "1095 : 3\n",
            "1096 : 3\n",
            "1097 : 3\n",
            "1098 : 3\n",
            "1099 : 3\n",
            "1100 : 3\n",
            "1101 : 3\n",
            "1102 : 3\n",
            "1103 : 3\n",
            "1104 : 3\n",
            "1105 : 3\n",
            "1106 : 3\n",
            "1107 : 3\n",
            "1108 : 3\n",
            "1109 : 3\n",
            "1110 : 3\n",
            "1111 : 3\n",
            "1112 : 3\n",
            "1113 : 3\n",
            "1114 : 3\n",
            "1115 : 3\n",
            "1116 : 3\n",
            "1117 : 3\n",
            "1118 : 3\n",
            "1119 : 3\n",
            "1120 : 3\n",
            "1121 : 3\n",
            "1122 : 3\n",
            "1123 : 3\n",
            "1124 : 3\n",
            "1125 : 3\n",
            "1126 : 3\n",
            "1127 : 3\n",
            "1128 : 3\n",
            "1129 : 3\n",
            "1130 : 3\n",
            "1131 : 3\n",
            "1132 : 3\n",
            "1133 : 3\n",
            "1134 : 3\n",
            "1135 : 3\n",
            "1136 : 3\n",
            "1137 : 3\n",
            "1138 : 3\n",
            "1139 : 3\n",
            "1140 : 3\n",
            "1141 : 3\n",
            "1142 : 3\n",
            "1143 : 3\n",
            "1144 : 3\n",
            "1145 : 3\n",
            "1146 : 3\n",
            "1147 : 3\n",
            "1148 : 3\n",
            "1149 : 3\n",
            "1150 : 3\n",
            "1151 : 3\n",
            "1152 : 3\n",
            "1153 : 3\n",
            "1154 : 3\n",
            "1155 : 3\n",
            "1156 : 3\n",
            "1157 : 3\n",
            "1158 : 3\n",
            "1159 : 3\n",
            "1160 : 3\n",
            "1161 : 3\n",
            "1162 : 3\n",
            "1163 : 3\n",
            "1164 : 3\n",
            "1165 : 3\n",
            "1166 : 3\n",
            "1167 : 3\n",
            "1168 : 3\n",
            "1169 : 3\n",
            "1170 : 3\n",
            "1171 : 3\n",
            "1172 : 3\n",
            "1173 : 3\n",
            "1174 : 3\n",
            "1175 : 3\n",
            "1176 : 3\n",
            "1177 : 3\n",
            "1178 : 3\n",
            "1179 : 3\n",
            "1180 : 3\n",
            "1181 : 3\n",
            "1182 : 3\n",
            "1183 : 3\n",
            "1184 : 3\n",
            "1185 : 3\n",
            "1186 : 3\n",
            "1187 : 3\n",
            "1188 : 3\n",
            "1189 : 3\n",
            "1190 : 3\n",
            "1191 : 3\n",
            "1192 : 3\n",
            "1193 : 3\n",
            "1194 : 3\n",
            "1195 : 3\n",
            "1196 : 3\n",
            "1197 : 3\n",
            "1198 : 3\n",
            "1199 : 3\n",
            "1200 : 3\n",
            "1201 : 3\n",
            "1202 : 3\n",
            "1203 : 3\n",
            "1204 : 3\n",
            "1205 : 3\n",
            "1206 : 3\n",
            "1207 : 3\n",
            "1208 : 3\n",
            "1209 : 3\n",
            "1210 : 3\n",
            "1211 : 3\n",
            "1212 : 3\n",
            "1213 : 3\n",
            "1214 : 3\n",
            "1215 : 3\n",
            "1216 : 3\n",
            "1217 : 3\n",
            "1218 : 3\n",
            "1219 : 3\n",
            "1220 : 3\n",
            "1221 : 3\n",
            "1222 : 3\n",
            "1223 : 3\n",
            "1224 : 3\n",
            "1225 : 3\n",
            "1226 : 3\n",
            "1227 : 3\n",
            "1228 : 3\n",
            "1229 : 3\n",
            "1230 : 3\n",
            "1231 : 3\n",
            "1232 : 3\n",
            "1233 : 3\n",
            "1234 : 3\n",
            "1235 : 3\n",
            "1236 : 3\n",
            "1237 : 3\n",
            "1238 : 3\n",
            "1239 : 3\n",
            "1240 : 3\n",
            "1241 : 3\n",
            "1242 : 3\n",
            "1243 : 3\n",
            "1244 : 3\n",
            "1245 : 3\n",
            "1246 : 3\n",
            "1247 : 3\n",
            "1248 : 3\n",
            "1249 : 3\n",
            "1250 : 3\n",
            "1251 : 3\n",
            "1252 : 3\n",
            "1253 : 3\n",
            "1254 : 3\n",
            "1255 : 3\n",
            "1256 : 3\n",
            "1257 : 3\n",
            "1258 : 3\n",
            "1259 : 3\n",
            "1260 : 3\n",
            "1261 : 3\n",
            "1262 : 3\n",
            "1263 : 3\n",
            "1264 : 3\n",
            "1265 : 3\n",
            "1266 : 3\n",
            "1267 : 3\n",
            "1268 : 3\n",
            "1269 : 3\n",
            "1270 : 3\n",
            "1271 : 3\n",
            "1272 : 3\n",
            "1273 : 3\n",
            "1274 : 3\n",
            "1275 : 3\n",
            "1276 : 3\n",
            "1277 : 3\n",
            "1278 : 3\n",
            "1279 : 3\n",
            "1280 : 3\n",
            "1281 : 3\n",
            "1282 : 3\n",
            "1283 : 3\n",
            "1284 : 3\n",
            "1285 : 3\n",
            "1286 : 3\n",
            "1287 : 3\n",
            "1288 : 3\n",
            "1289 : 3\n",
            "1290 : 3\n",
            "1291 : 3\n",
            "1292 : 3\n",
            "1293 : 3\n",
            "1294 : 3\n",
            "1295 : 3\n",
            "1296 : 3\n",
            "1297 : 3\n",
            "1298 : 3\n",
            "1299 : 3\n",
            "1300 : 3\n",
            "1301 : 3\n",
            "1302 : 3\n",
            "1303 : 3\n",
            "1304 : 3\n",
            "1305 : 3\n",
            "1306 : 3\n",
            "1307 : 3\n",
            "1308 : 3\n",
            "1309 : 3\n",
            "1310 : 3\n",
            "1311 : 3\n",
            "1312 : 3\n",
            "1313 : 3\n",
            "1314 : 3\n",
            "1315 : 3\n",
            "1316 : 3\n",
            "1317 : 3\n",
            "1318 : 3\n",
            "1319 : 3\n",
            "1320 : 3\n",
            "1321 : 3\n",
            "1322 : 3\n",
            "1323 : 3\n",
            "1324 : 3\n",
            "1325 : 3\n",
            "1326 : 3\n",
            "1327 : 3\n",
            "1328 : 3\n",
            "1329 : 3\n",
            "1330 : 3\n",
            "1331 : 3\n",
            "1332 : 3\n",
            "1333 : 3\n",
            "1334 : 3\n",
            "1335 : 3\n",
            "1336 : 3\n",
            "1337 : 3\n",
            "1338 : 3\n",
            "1339 : 3\n",
            "1340 : 3\n",
            "1341 : 3\n",
            "1342 : 3\n",
            "1343 : 3\n",
            "1344 : 3\n",
            "1345 : 3\n",
            "1346 : 3\n",
            "1347 : 3\n",
            "1348 : 3\n",
            "1349 : 3\n",
            "1350 : 3\n",
            "1351 : 3\n",
            "1352 : 3\n",
            "1353 : 3\n",
            "1354 : 3\n",
            "1355 : 3\n",
            "1356 : 3\n",
            "1357 : 3\n",
            "1358 : 3\n",
            "1359 : 3\n",
            "1360 : 3\n",
            "1361 : 3\n",
            "1362 : 3\n",
            "1363 : 3\n",
            "1364 : 3\n",
            "1365 : 3\n",
            "1366 : 3\n",
            "1367 : 3\n",
            "1368 : 3\n",
            "1369 : 3\n",
            "1370 : 3\n",
            "1371 : 3\n",
            "1372 : 3\n",
            "1373 : 3\n",
            "1374 : 3\n",
            "1375 : 3\n",
            "1376 : 3\n",
            "1377 : 3\n",
            "1378 : 3\n",
            "1379 : 3\n",
            "1380 : 3\n",
            "1381 : 3\n",
            "1382 : 3\n",
            "1383 : 3\n",
            "1384 : 3\n",
            "1385 : 3\n",
            "1386 : 3\n",
            "1387 : 3\n",
            "1388 : 3\n",
            "1389 : 3\n",
            "1390 : 3\n",
            "1391 : 3\n",
            "1392 : 3\n",
            "1393 : 3\n",
            "1394 : 3\n",
            "1395 : 3\n",
            "1396 : 3\n",
            "1397 : 3\n",
            "1398 : 3\n",
            "1399 : 3\n",
            "1400 : 3\n",
            "1401 : 3\n",
            "1402 : 3\n",
            "1403 : 3\n",
            "1404 : 3\n",
            "1405 : 3\n",
            "1406 : 3\n",
            "1407 : 3\n",
            "1408 : 3\n",
            "1409 : 3\n",
            "1410 : 3\n",
            "1411 : 3\n",
            "1412 : 3\n",
            "1413 : 3\n",
            "1414 : 3\n",
            "1415 : 3\n",
            "1416 : 3\n",
            "1417 : 3\n",
            "1418 : 3\n",
            "1419 : 3\n",
            "1420 : 3\n",
            "1421 : 3\n",
            "1422 : 3\n",
            "1423 : 3\n",
            "1424 : 3\n",
            "1425 : 3\n",
            "1426 : 3\n",
            "1427 : 3\n",
            "1428 : 3\n",
            "1429 : 3\n",
            "1430 : 3\n",
            "1431 : 3\n",
            "1432 : 3\n",
            "1433 : 3\n",
            "1434 : 3\n",
            "1435 : 3\n",
            "1436 : 3\n",
            "1437 : 3\n",
            "1438 : 3\n",
            "1439 : 3\n",
            "1440 : 3\n",
            "1441 : 3\n",
            "1442 : 3\n",
            "1443 : 3\n",
            "1444 : 3\n",
            "1445 : 3\n",
            "1446 : 3\n",
            "1447 : 3\n",
            "1448 : 3\n",
            "1449 : 3\n",
            "1450 : 3\n",
            "1451 : 3\n",
            "1452 : 3\n",
            "1453 : 3\n",
            "1454 : 3\n",
            "1455 : 3\n",
            "1456 : 3\n",
            "1457 : 3\n",
            "1458 : 3\n",
            "1459 : 3\n",
            "1460 : 3\n",
            "1461 : 3\n",
            "1462 : 3\n",
            "1463 : 3\n",
            "1464 : 3\n",
            "1465 : 3\n",
            "1466 : 3\n",
            "1467 : 3\n",
            "1468 : 3\n",
            "1469 : 3\n",
            "1470 : 3\n",
            "1471 : 3\n",
            "1472 : 3\n",
            "1473 : 3\n",
            "1474 : 3\n",
            "1475 : 3\n",
            "1476 : 3\n",
            "1477 : 3\n",
            "1478 : 3\n",
            "1479 : 3\n",
            "1480 : 3\n",
            "1481 : 3\n",
            "1482 : 3\n",
            "1483 : 3\n",
            "1484 : 3\n",
            "1485 : 3\n",
            "1486 : 3\n",
            "1487 : 3\n",
            "1488 : 3\n",
            "1489 : 3\n",
            "1490 : 3\n",
            "1491 : 3\n",
            "1492 : 3\n",
            "1493 : 3\n",
            "1494 : 3\n",
            "1495 : 3\n",
            "1496 : 3\n",
            "1497 : 3\n",
            "1498 : 3\n",
            "1499 : 3\n",
            "1500 : 3\n",
            "1501 : 3\n",
            "1502 : 3\n",
            "1503 : 3\n",
            "1504 : 3\n",
            "1505 : 3\n",
            "1506 : 3\n",
            "1507 : 3\n",
            "1508 : 3\n",
            "1509 : 3\n",
            "1510 : 3\n",
            "1511 : 3\n",
            "1512 : 3\n",
            "1513 : 3\n",
            "1514 : 3\n",
            "1515 : 3\n",
            "1516 : 3\n",
            "1517 : 3\n",
            "1518 : 3\n",
            "1519 : 3\n",
            "1520 : 3\n",
            "1521 : 3\n",
            "1522 : 3\n",
            "1523 : 3\n",
            "1524 : 3\n",
            "1525 : 3\n",
            "1526 : 3\n",
            "1527 : 3\n",
            "1528 : 3\n",
            "1529 : 3\n",
            "1530 : 3\n",
            "1531 : 3\n",
            "1532 : 3\n",
            "1533 : 3\n",
            "1534 : 3\n",
            "1535 : 3\n",
            "1536 : 3\n",
            "1537 : 3\n",
            "1538 : 3\n",
            "1539 : 3\n",
            "1540 : 3\n",
            "1541 : 3\n",
            "1542 : 3\n",
            "1543 : 3\n",
            "1544 : 3\n",
            "1545 : 3\n",
            "1546 : 3\n",
            "1547 : 3\n",
            "1548 : 3\n",
            "1549 : 3\n",
            "1550 : 3\n",
            "1551 : 3\n",
            "1552 : 3\n",
            "1553 : 3\n",
            "1554 : 3\n",
            "1555 : 3\n",
            "1556 : 3\n",
            "1557 : 3\n",
            "1558 : 3\n",
            "1559 : 3\n",
            "1560 : 3\n",
            "1561 : 3\n",
            "1562 : 3\n",
            "1563 : 3\n",
            "1564 : 3\n",
            "1565 : 3\n",
            "1566 : 3\n",
            "1567 : 3\n",
            "1568 : 3\n",
            "1569 : 3\n",
            "1570 : 3\n",
            "1571 : 3\n",
            "1572 : 3\n",
            "1573 : 3\n",
            "1574 : 3\n",
            "1575 : 3\n",
            "1576 : 3\n",
            "1577 : 3\n",
            "1578 : 3\n",
            "1579 : 3\n",
            "1580 : 3\n",
            "1581 : 3\n",
            "1582 : 3\n",
            "1583 : 3\n",
            "1584 : 3\n",
            "1585 : 3\n",
            "1586 : 3\n",
            "1587 : 3\n",
            "1588 : 3\n",
            "1589 : 3\n",
            "1590 : 3\n",
            "1591 : 3\n",
            "1592 : 3\n",
            "1593 : 3\n",
            "1594 : 3\n",
            "1595 : 3\n",
            "1596 : 3\n",
            "1597 : 3\n",
            "1598 : 3\n",
            "1599 : 3\n",
            "1600 : 3\n",
            "1601 : 3\n",
            "1602 : 3\n",
            "1603 : 3\n",
            "1604 : 3\n",
            "1605 : 3\n",
            "1606 : 3\n",
            "1607 : 3\n",
            "1608 : 3\n",
            "1609 : 3\n",
            "1610 : 3\n",
            "1611 : 3\n",
            "1612 : 3\n",
            "1613 : 3\n",
            "1614 : 3\n",
            "1615 : 3\n",
            "1616 : 3\n",
            "1617 : 3\n",
            "1618 : 3\n",
            "1619 : 3\n",
            "1620 : 3\n",
            "1621 : 3\n",
            "1622 : 3\n",
            "1623 : 3\n",
            "1624 : 3\n",
            "1625 : 3\n",
            "1626 : 3\n",
            "1627 : 3\n",
            "1628 : 3\n",
            "1629 : 3\n",
            "1630 : 3\n",
            "1631 : 3\n",
            "1632 : 3\n",
            "1633 : 3\n",
            "1634 : 3\n",
            "1635 : 3\n",
            "1636 : 3\n",
            "1637 : 3\n",
            "1638 : 3\n",
            "1639 : 3\n",
            "1640 : 3\n",
            "1641 : 3\n",
            "1642 : 3\n",
            "1643 : 3\n",
            "1644 : 3\n",
            "1645 : 3\n",
            "1646 : 3\n",
            "1647 : 3\n",
            "1648 : 3\n",
            "1649 : 3\n",
            "1650 : 3\n",
            "1651 : 3\n",
            "1652 : 3\n",
            "1653 : 3\n",
            "1654 : 3\n",
            "1655 : 3\n",
            "1656 : 3\n",
            "1657 : 3\n",
            "1658 : 3\n",
            "1659 : 3\n",
            "1660 : 3\n",
            "1661 : 3\n",
            "1662 : 3\n",
            "1663 : 3\n",
            "1664 : 3\n",
            "1665 : 3\n",
            "1666 : 3\n",
            "1667 : 3\n",
            "1668 : 3\n",
            "1669 : 3\n",
            "1670 : 3\n",
            "1671 : 3\n",
            "1672 : 3\n",
            "1673 : 3\n",
            "1674 : 3\n",
            "1675 : 3\n",
            "1676 : 3\n",
            "1677 : 3\n",
            "1678 : 3\n",
            "1679 : 3\n",
            "1680 : 3\n",
            "1681 : 3\n",
            "1682 : 3\n",
            "1683 : 3\n",
            "1684 : 3\n",
            "1685 : 3\n",
            "1686 : 3\n",
            "1687 : 3\n",
            "1688 : 3\n",
            "1689 : 3\n",
            "1690 : 3\n",
            "1691 : 3\n",
            "1692 : 3\n",
            "1693 : 3\n",
            "1694 : 3\n",
            "1695 : 3\n",
            "1696 : 3\n",
            "1697 : 3\n",
            "1698 : 3\n",
            "1699 : 3\n",
            "1700 : 3\n",
            "1701 : 3\n",
            "1702 : 3\n",
            "1703 : 3\n",
            "1704 : 3\n",
            "1705 : 3\n",
            "1706 : 3\n",
            "1707 : 3\n",
            "1708 : 3\n",
            "1709 : 3\n",
            "1710 : 3\n",
            "1711 : 3\n",
            "1712 : 3\n",
            "1713 : 3\n",
            "1714 : 3\n",
            "1715 : 3\n",
            "1716 : 3\n",
            "1717 : 3\n",
            "1718 : 3\n",
            "1719 : 3\n",
            "1720 : 3\n",
            "1721 : 3\n",
            "1722 : 3\n",
            "1723 : 3\n",
            "1724 : 3\n",
            "1725 : 3\n",
            "1726 : 3\n",
            "1727 : 3\n",
            "1728 : 3\n",
            "1729 : 3\n",
            "1730 : 3\n",
            "1731 : 3\n",
            "1732 : 3\n",
            "1733 : 3\n",
            "1734 : 3\n",
            "1735 : 3\n",
            "1736 : 3\n",
            "1737 : 3\n",
            "1738 : 3\n",
            "1739 : 3\n",
            "1740 : 3\n",
            "1741 : 3\n",
            "1742 : 3\n",
            "1743 : 3\n",
            "1744 : 3\n",
            "1745 : 3\n",
            "1746 : 3\n",
            "1747 : 3\n",
            "1748 : 3\n",
            "1749 : 3\n",
            "1750 : 3\n",
            "1751 : 3\n",
            "1752 : 3\n",
            "1753 : 3\n",
            "1754 : 3\n",
            "1755 : 3\n",
            "1756 : 3\n",
            "1757 : 3\n",
            "1758 : 3\n",
            "1759 : 3\n",
            "1760 : 3\n",
            "1761 : 3\n",
            "1762 : 3\n",
            "1763 : 3\n",
            "1764 : 3\n",
            "1765 : 3\n",
            "1766 : 3\n",
            "1767 : 3\n",
            "1768 : 3\n",
            "1769 : 3\n",
            "1770 : 3\n",
            "1771 : 3\n",
            "1772 : 3\n",
            "1773 : 3\n",
            "1774 : 3\n",
            "1775 : 3\n",
            "1776 : 3\n",
            "1777 : 3\n",
            "1778 : 3\n",
            "1779 : 3\n",
            "1780 : 3\n",
            "1781 : 3\n",
            "1782 : 3\n",
            "1783 : 3\n",
            "1784 : 3\n",
            "1785 : 3\n",
            "1786 : 3\n",
            "1787 : 3\n",
            "1788 : 3\n",
            "1789 : 3\n",
            "1790 : 3\n",
            "1791 : 3\n",
            "1792 : 3\n",
            "1793 : 3\n",
            "1794 : 3\n",
            "1795 : 3\n",
            "1796 : 3\n",
            "1797 : 3\n",
            "1798 : 3\n",
            "1799 : 3\n",
            "1800 : 3\n",
            "1801 : 3\n",
            "1802 : 3\n",
            "1803 : 3\n",
            "1804 : 3\n",
            "1805 : 3\n",
            "1806 : 3\n",
            "1807 : 3\n",
            "1808 : 3\n",
            "1809 : 3\n",
            "1810 : 3\n",
            "1811 : 3\n",
            "1812 : 3\n",
            "1813 : 3\n",
            "1814 : 3\n",
            "1815 : 3\n",
            "1816 : 3\n",
            "1817 : 3\n",
            "1818 : 3\n",
            "1819 : 3\n",
            "1820 : 3\n",
            "1821 : 3\n",
            "1822 : 3\n",
            "1823 : 3\n",
            "1824 : 3\n",
            "1825 : 3\n",
            "1826 : 3\n",
            "1827 : 3\n",
            "1828 : 3\n",
            "1829 : 3\n",
            "1830 : 3\n",
            "1831 : 3\n",
            "1832 : 3\n",
            "1833 : 3\n",
            "1834 : 3\n",
            "1835 : 3\n",
            "1836 : 3\n",
            "1837 : 3\n",
            "1838 : 3\n",
            "1839 : 3\n",
            "1840 : 3\n",
            "1841 : 3\n",
            "1842 : 3\n",
            "1843 : 3\n",
            "1844 : 3\n",
            "1845 : 3\n",
            "1846 : 3\n",
            "1847 : 3\n",
            "1848 : 3\n",
            "1849 : 3\n",
            "1850 : 3\n",
            "1851 : 3\n",
            "1852 : 3\n",
            "1853 : 3\n",
            "1854 : 3\n",
            "1855 : 3\n",
            "1856 : 3\n",
            "1857 : 3\n",
            "1858 : 3\n",
            "1859 : 3\n",
            "1860 : 3\n",
            "1861 : 3\n",
            "1862 : 3\n",
            "1863 : 3\n",
            "1864 : 3\n",
            "1865 : 3\n",
            "1866 : 3\n",
            "1867 : 3\n",
            "1868 : 3\n",
            "1869 : 3\n",
            "1870 : 3\n",
            "1871 : 3\n",
            "1872 : 3\n",
            "1873 : 3\n",
            "1874 : 3\n",
            "1875 : 3\n",
            "1876 : 3\n",
            "1877 : 3\n",
            "1878 : 3\n",
            "1879 : 3\n",
            "1880 : 3\n",
            "1881 : 3\n",
            "1882 : 3\n",
            "1883 : 3\n",
            "1884 : 3\n",
            "1885 : 3\n",
            "1886 : 3\n",
            "1887 : 3\n",
            "1888 : 3\n",
            "1889 : 3\n",
            "1890 : 3\n",
            "1891 : 3\n",
            "1892 : 3\n",
            "1893 : 3\n",
            "1894 : 3\n",
            "1895 : 3\n",
            "1896 : 3\n",
            "1897 : 3\n",
            "1898 : 3\n",
            "1899 : 3\n",
            "1900 : 3\n",
            "1901 : 3\n",
            "1902 : 3\n",
            "1903 : 3\n",
            "1904 : 3\n",
            "1905 : 3\n",
            "1906 : 3\n",
            "1907 : 3\n",
            "1908 : 3\n",
            "1909 : 3\n",
            "1910 : 3\n",
            "1911 : 3\n",
            "1912 : 3\n",
            "1913 : 3\n",
            "1914 : 3\n",
            "1915 : 3\n",
            "1916 : 3\n",
            "1917 : 3\n",
            "1918 : 3\n",
            "1919 : 3\n",
            "1920 : 3\n",
            "1921 : 3\n",
            "1922 : 3\n",
            "1923 : 3\n",
            "1924 : 3\n",
            "1925 : 3\n",
            "1926 : 3\n",
            "1927 : 3\n",
            "1928 : 3\n",
            "1929 : 3\n",
            "1930 : 3\n",
            "1931 : 3\n",
            "1932 : 3\n",
            "1933 : 3\n",
            "1934 : 3\n",
            "1935 : 3\n",
            "1936 : 3\n",
            "1937 : 3\n",
            "1938 : 3\n",
            "1939 : 3\n",
            "1940 : 3\n",
            "1941 : 3\n",
            "1942 : 3\n",
            "1943 : 3\n",
            "1944 : 3\n",
            "1945 : 3\n",
            "1946 : 3\n",
            "1947 : 3\n",
            "1948 : 3\n",
            "1949 : 3\n",
            "1950 : 3\n",
            "1951 : 3\n",
            "1952 : 3\n",
            "1953 : 3\n",
            "1954 : 3\n",
            "1955 : 3\n",
            "1956 : 3\n",
            "1957 : 3\n",
            "1958 : 3\n",
            "1959 : 3\n",
            "1960 : 3\n",
            "1961 : 3\n",
            "1962 : 3\n",
            "1963 : 3\n",
            "1964 : 3\n",
            "1965 : 3\n",
            "1966 : 3\n",
            "1967 : 3\n",
            "1968 : 3\n",
            "1969 : 3\n",
            "1970 : 3\n",
            "1971 : 3\n",
            "1972 : 3\n",
            "1973 : 3\n",
            "1974 : 3\n",
            "1975 : 3\n",
            "1976 : 3\n",
            "1977 : 3\n",
            "1978 : 3\n",
            "1979 : 3\n",
            "1980 : 3\n",
            "1981 : 3\n",
            "1982 : 3\n",
            "1983 : 3\n",
            "1984 : 3\n",
            "1985 : 3\n",
            "1986 : 3\n",
            "1987 : 3\n",
            "1988 : 3\n",
            "1989 : 3\n",
            "1990 : 3\n",
            "1991 : 3\n",
            "1992 : 3\n",
            "1993 : 3\n",
            "1994 : 3\n",
            "1995 : 3\n",
            "1996 : 3\n",
            "1997 : 3\n",
            "1998 : 3\n",
            "1999 : 3\n"
          ],
          "name": "stdout"
        }
      ]
    },
    {
      "cell_type": "code",
      "metadata": {
        "id": "Sl_LzpFY4TGY"
      },
      "source": [
        "from html import escape"
      ],
      "execution_count": 204,
      "outputs": []
    },
    {
      "cell_type": "code",
      "metadata": {
        "id": "KHBgeE6zOmDN"
      },
      "source": [
        "def html_escape(arg):\n",
        "  return(escape(str(arg)))"
      ],
      "execution_count": 205,
      "outputs": []
    },
    {
      "cell_type": "code",
      "metadata": {
        "id": "EnDZs3dFOwme",
        "outputId": "7843afdc-df32-413b-8231-eb16848332d1",
        "colab": {
          "base_uri": "https://localhost:8080/",
          "height": 35
        }
      },
      "source": [
        "html_escape(\"1 < 2 < 5 3 $ #\")"
      ],
      "execution_count": 209,
      "outputs": [
        {
          "output_type": "execute_result",
          "data": {
            "application/vnd.google.colaboratory.intrinsic+json": {
              "type": "string"
            },
            "text/plain": [
              "'1 &lt; 2 &lt; 5 3 $ #'"
            ]
          },
          "metadata": {
            "tags": []
          },
          "execution_count": 209
        }
      ]
    },
    {
      "cell_type": "code",
      "metadata": {
        "id": "j-x3e6ZiO0Rm"
      },
      "source": [
        "def html_list(l):\n",
        "  items = (f'<li>{html_escape(item)}</li>' for item in l)\n",
        "  return '<ul>\\n' + '\\n'.join(items) + '\\n</ul'"
      ],
      "execution_count": 210,
      "outputs": []
    },
    {
      "cell_type": "code",
      "metadata": {
        "id": "-8JcJ-VOPzGY",
        "outputId": "d8569bca-70e8-4f92-d82f-237b8fb9098b",
        "colab": {
          "base_uri": "https://localhost:8080/",
          "height": 35
        }
      },
      "source": [
        "html_list([1,2,3,4,'%','$'])"
      ],
      "execution_count": 212,
      "outputs": [
        {
          "output_type": "execute_result",
          "data": {
            "application/vnd.google.colaboratory.intrinsic+json": {
              "type": "string"
            },
            "text/plain": [
              "'<ul>\\n<li>1</li>\\n<li>2</li>\\n<li>3</li>\\n<li>4</li>\\n<li>%</li>\\n<li>$</li>\\n</ul'"
            ]
          },
          "metadata": {
            "tags": []
          },
          "execution_count": 212
        }
      ]
    },
    {
      "cell_type": "code",
      "metadata": {
        "id": "GO0ZLDg7P4gd"
      },
      "source": [
        "def singledispatch(fn):\n",
        "  registry = {}"
      ],
      "execution_count": null,
      "outputs": []
    },
    {
      "cell_type": "code",
      "metadata": {
        "id": "7lL-UzHzPbo9"
      },
      "source": [
        "d = {1:2,3:4}"
      ],
      "execution_count": 1,
      "outputs": []
    },
    {
      "cell_type": "code",
      "metadata": {
        "id": "Ohy0XDEBPbeI",
        "outputId": "871b3859-944f-4a4c-f968-f0312dc9a697",
        "colab": {
          "base_uri": "https://localhost:8080/",
          "height": 33
        }
      },
      "source": [
        "print(*d)"
      ],
      "execution_count": 2,
      "outputs": [
        {
          "output_type": "stream",
          "text": [
            "1 3\n"
          ],
          "name": "stdout"
        }
      ]
    },
    {
      "cell_type": "code",
      "metadata": {
        "id": "FeWlLd4cPhDO",
        "outputId": "efca3745-767c-41ac-c58c-6571386ca0a8",
        "colab": {
          "base_uri": "https://localhost:8080/",
          "height": 128
        }
      },
      "source": [
        ""
      ],
      "execution_count": 4,
      "outputs": [
        {
          "output_type": "error",
          "ename": "SyntaxError",
          "evalue": "ignored",
          "traceback": [
            "\u001b[0;36m  File \u001b[0;32m\"<ipython-input-4-c88aced58bb6>\"\u001b[0;36m, line \u001b[0;32m1\u001b[0m\n\u001b[0;31m    **d\u001b[0m\n\u001b[0m     ^\u001b[0m\n\u001b[0;31mSyntaxError\u001b[0m\u001b[0;31m:\u001b[0m invalid syntax\n"
          ]
        }
      ]
    },
    {
      "cell_type": "code",
      "metadata": {
        "id": "x82aOOYEPkIC"
      },
      "source": [
        "def fn(x,y):\n",
        "  print(x,y)"
      ],
      "execution_count": 7,
      "outputs": []
    },
    {
      "cell_type": "code",
      "metadata": {
        "id": "ByPd3AF5Ps07",
        "outputId": "b3aa5d60-5b0d-408f-984a-5854f5f0c910",
        "colab": {
          "base_uri": "https://localhost:8080/",
          "height": 33
        }
      },
      "source": [
        "fn(*d)"
      ],
      "execution_count": 9,
      "outputs": [
        {
          "output_type": "stream",
          "text": [
            "1 3\n"
          ],
          "name": "stdout"
        }
      ]
    },
    {
      "cell_type": "code",
      "metadata": {
        "id": "Mzs0-TKUP0Im",
        "outputId": "d3e6bbf1-fd49-476c-e401-c7a9b8f81dcf",
        "colab": {
          "base_uri": "https://localhost:8080/",
          "height": 33
        }
      },
      "source": [
        "d"
      ],
      "execution_count": 10,
      "outputs": [
        {
          "output_type": "execute_result",
          "data": {
            "text/plain": [
              "{1: 2, 3: 4}"
            ]
          },
          "metadata": {
            "tags": []
          },
          "execution_count": 10
        }
      ]
    },
    {
      "cell_type": "code",
      "metadata": {
        "id": "ButbNtC-P4ro"
      },
      "source": [
        "e = {3:4,5:6}"
      ],
      "execution_count": 11,
      "outputs": []
    },
    {
      "cell_type": "code",
      "metadata": {
        "id": "dD_jaQFEP9GB"
      },
      "source": [
        "d2 = {**d , **e}"
      ],
      "execution_count": 12,
      "outputs": []
    },
    {
      "cell_type": "code",
      "metadata": {
        "id": "q8FNFLELP_e4",
        "outputId": "f1c141e6-307c-45a7-906c-1a7e59d16c7b",
        "colab": {
          "base_uri": "https://localhost:8080/",
          "height": 33
        }
      },
      "source": [
        "d2"
      ],
      "execution_count": 13,
      "outputs": [
        {
          "output_type": "execute_result",
          "data": {
            "text/plain": [
              "{1: 2, 3: 4, 5: 6}"
            ]
          },
          "metadata": {
            "tags": []
          },
          "execution_count": 13
        }
      ]
    },
    {
      "cell_type": "code",
      "metadata": {
        "id": "2cu4li5CQahU",
        "outputId": "521067a7-87e1-4520-de53-a0e66ca1aeea",
        "colab": {
          "base_uri": "https://localhost:8080/",
          "height": 35
        }
      },
      "source": [
        "def add(a=0, b=0):\n",
        "    return a + b\n",
        "d = {'c': 2, 'b': 3}\n",
        "add(*d)"
      ],
      "execution_count": 18,
      "outputs": [
        {
          "output_type": "execute_result",
          "data": {
            "application/vnd.google.colaboratory.intrinsic+json": {
              "type": "string"
            },
            "text/plain": [
              "'cb'"
            ]
          },
          "metadata": {
            "tags": []
          },
          "execution_count": 18
        }
      ]
    },
    {
      "cell_type": "code",
      "metadata": {
        "id": "XxU3ynipQykY"
      },
      "source": [
        ""
      ],
      "execution_count": null,
      "outputs": []
    }
  ]
}